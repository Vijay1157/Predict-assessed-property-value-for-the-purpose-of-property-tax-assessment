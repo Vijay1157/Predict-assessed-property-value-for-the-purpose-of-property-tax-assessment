{
  "cells": [
    {
      "cell_type": "markdown",
      "metadata": {
        "id": "8eccadae"
      },
      "source": [
        "# Predict assessed property value for the purpose of property tax assessment\n"
      ],
      "id": "8eccadae"
    },
    {
      "cell_type": "code",
      "execution_count": 1,
      "metadata": {
        "id": "4d0faeae"
      },
      "outputs": [],
      "source": [
        "import numpy as np # numpy used for mathematical operation on array\n",
        "import pandas as pd  # pandas used for data manipulation on dataframe\n",
        "import seaborn as sns # seaborn used for data visualization\n",
        "import matplotlib.pyplot as plt # matplotlib used for data visualization"
      ],
      "id": "4d0faeae"
    },
    {
      "cell_type": "code",
      "execution_count": 2,
      "metadata": {
        "id": "3cefa612"
      },
      "outputs": [],
      "source": [
        "df = pd.read_csv('/content/Train.csv')"
      ],
      "id": "3cefa612"
    },
    {
      "cell_type": "code",
      "execution_count": 3,
      "metadata": {
        "colab": {
          "base_uri": "https://localhost:8080/",
          "height": 409
        },
        "id": "2ee1ea31",
        "outputId": "7d1fedb0-9c94-4e48-9c2a-01e58dcd9866",
        "scrolled": false
      },
      "outputs": [
        {
          "output_type": "execute_result",
          "data": {
            "text/plain": [
              "  PropertyID  Borough State Surroundings                 Address  ZipCode  \\\n",
              "0    PR11101        1    NY     BATHGATE      1473 CROTONA PLACE    10456   \n",
              "1    PR11102        1    NY     BATHGATE            453 EAST 181    10457   \n",
              "2    PR11103        1    NY     BATHGATE     511 EAST 171 STREET    10457   \n",
              "3    PR11104        1    NY     BATHGATE   547 CLAREMONT PARKWAY    10457   \n",
              "4    PR11105        1    NY     BATHGATE  2063 WASHINGTON AVENUE    10457   \n",
              "\n",
              "   Block  Lot          BldgClassCategory  NoOfResidentialUnits  \\\n",
              "0   2927  127    02 TWO FAMILY DWELLINGS                     2   \n",
              "1   3037  110  03 THREE FAMILY DWELLINGS                     3   \n",
              "2   2912  155    02 TWO FAMILY DWELLINGS                     2   \n",
              "3   2929  134    02 TWO FAMILY DWELLINGS                     2   \n",
              "4   3036  140    02 TWO FAMILY DWELLINGS                     2   \n",
              "\n",
              "   NoOfCommercialUnits  TotalNoOfUnits  LandAreaInSqFt  GrossAreaInSqFt  \\\n",
              "0                    0               2            1900             2394   \n",
              "1                    0               3            1687             3037   \n",
              "2                    0               2            2000             2400   \n",
              "3                    0               2            2356             2394   \n",
              "4                    0               2            3346             2308   \n",
              "\n",
              "   YearOfConstruction  TaxClass_AtEvaluationTime BldgClass_AtEvaluationTime  \\\n",
              "0                1990                          1                         B1   \n",
              "1                2002                          1                         C0   \n",
              "2                1989                          1                         B1   \n",
              "3                1991                          1                         B1   \n",
              "4                1993                          1                         B1   \n",
              "\n",
              "  DateOfEvaluation  PropertyEvaluationvalue  \n",
              "0       30-05-2014                   540000  \n",
              "1       13-09-2014                   750000  \n",
              "2       28-09-2014                   470000  \n",
              "3       05-06-2014                   570000  \n",
              "4       07-02-2015                   640000  "
            ],
            "text/html": [
              "\n",
              "  <div id=\"df-a615ed8d-3365-466f-bcc4-ba4549ab0e89\">\n",
              "    <div class=\"colab-df-container\">\n",
              "      <div>\n",
              "<style scoped>\n",
              "    .dataframe tbody tr th:only-of-type {\n",
              "        vertical-align: middle;\n",
              "    }\n",
              "\n",
              "    .dataframe tbody tr th {\n",
              "        vertical-align: top;\n",
              "    }\n",
              "\n",
              "    .dataframe thead th {\n",
              "        text-align: right;\n",
              "    }\n",
              "</style>\n",
              "<table border=\"1\" class=\"dataframe\">\n",
              "  <thead>\n",
              "    <tr style=\"text-align: right;\">\n",
              "      <th></th>\n",
              "      <th>PropertyID</th>\n",
              "      <th>Borough</th>\n",
              "      <th>State</th>\n",
              "      <th>Surroundings</th>\n",
              "      <th>Address</th>\n",
              "      <th>ZipCode</th>\n",
              "      <th>Block</th>\n",
              "      <th>Lot</th>\n",
              "      <th>BldgClassCategory</th>\n",
              "      <th>NoOfResidentialUnits</th>\n",
              "      <th>NoOfCommercialUnits</th>\n",
              "      <th>TotalNoOfUnits</th>\n",
              "      <th>LandAreaInSqFt</th>\n",
              "      <th>GrossAreaInSqFt</th>\n",
              "      <th>YearOfConstruction</th>\n",
              "      <th>TaxClass_AtEvaluationTime</th>\n",
              "      <th>BldgClass_AtEvaluationTime</th>\n",
              "      <th>DateOfEvaluation</th>\n",
              "      <th>PropertyEvaluationvalue</th>\n",
              "    </tr>\n",
              "  </thead>\n",
              "  <tbody>\n",
              "    <tr>\n",
              "      <th>0</th>\n",
              "      <td>PR11101</td>\n",
              "      <td>1</td>\n",
              "      <td>NY</td>\n",
              "      <td>BATHGATE</td>\n",
              "      <td>1473 CROTONA PLACE</td>\n",
              "      <td>10456</td>\n",
              "      <td>2927</td>\n",
              "      <td>127</td>\n",
              "      <td>02 TWO FAMILY DWELLINGS</td>\n",
              "      <td>2</td>\n",
              "      <td>0</td>\n",
              "      <td>2</td>\n",
              "      <td>1900</td>\n",
              "      <td>2394</td>\n",
              "      <td>1990</td>\n",
              "      <td>1</td>\n",
              "      <td>B1</td>\n",
              "      <td>30-05-2014</td>\n",
              "      <td>540000</td>\n",
              "    </tr>\n",
              "    <tr>\n",
              "      <th>1</th>\n",
              "      <td>PR11102</td>\n",
              "      <td>1</td>\n",
              "      <td>NY</td>\n",
              "      <td>BATHGATE</td>\n",
              "      <td>453 EAST 181</td>\n",
              "      <td>10457</td>\n",
              "      <td>3037</td>\n",
              "      <td>110</td>\n",
              "      <td>03 THREE FAMILY DWELLINGS</td>\n",
              "      <td>3</td>\n",
              "      <td>0</td>\n",
              "      <td>3</td>\n",
              "      <td>1687</td>\n",
              "      <td>3037</td>\n",
              "      <td>2002</td>\n",
              "      <td>1</td>\n",
              "      <td>C0</td>\n",
              "      <td>13-09-2014</td>\n",
              "      <td>750000</td>\n",
              "    </tr>\n",
              "    <tr>\n",
              "      <th>2</th>\n",
              "      <td>PR11103</td>\n",
              "      <td>1</td>\n",
              "      <td>NY</td>\n",
              "      <td>BATHGATE</td>\n",
              "      <td>511 EAST 171 STREET</td>\n",
              "      <td>10457</td>\n",
              "      <td>2912</td>\n",
              "      <td>155</td>\n",
              "      <td>02 TWO FAMILY DWELLINGS</td>\n",
              "      <td>2</td>\n",
              "      <td>0</td>\n",
              "      <td>2</td>\n",
              "      <td>2000</td>\n",
              "      <td>2400</td>\n",
              "      <td>1989</td>\n",
              "      <td>1</td>\n",
              "      <td>B1</td>\n",
              "      <td>28-09-2014</td>\n",
              "      <td>470000</td>\n",
              "    </tr>\n",
              "    <tr>\n",
              "      <th>3</th>\n",
              "      <td>PR11104</td>\n",
              "      <td>1</td>\n",
              "      <td>NY</td>\n",
              "      <td>BATHGATE</td>\n",
              "      <td>547 CLAREMONT PARKWAY</td>\n",
              "      <td>10457</td>\n",
              "      <td>2929</td>\n",
              "      <td>134</td>\n",
              "      <td>02 TWO FAMILY DWELLINGS</td>\n",
              "      <td>2</td>\n",
              "      <td>0</td>\n",
              "      <td>2</td>\n",
              "      <td>2356</td>\n",
              "      <td>2394</td>\n",
              "      <td>1991</td>\n",
              "      <td>1</td>\n",
              "      <td>B1</td>\n",
              "      <td>05-06-2014</td>\n",
              "      <td>570000</td>\n",
              "    </tr>\n",
              "    <tr>\n",
              "      <th>4</th>\n",
              "      <td>PR11105</td>\n",
              "      <td>1</td>\n",
              "      <td>NY</td>\n",
              "      <td>BATHGATE</td>\n",
              "      <td>2063 WASHINGTON AVENUE</td>\n",
              "      <td>10457</td>\n",
              "      <td>3036</td>\n",
              "      <td>140</td>\n",
              "      <td>02 TWO FAMILY DWELLINGS</td>\n",
              "      <td>2</td>\n",
              "      <td>0</td>\n",
              "      <td>2</td>\n",
              "      <td>3346</td>\n",
              "      <td>2308</td>\n",
              "      <td>1993</td>\n",
              "      <td>1</td>\n",
              "      <td>B1</td>\n",
              "      <td>07-02-2015</td>\n",
              "      <td>640000</td>\n",
              "    </tr>\n",
              "  </tbody>\n",
              "</table>\n",
              "</div>\n",
              "      <button class=\"colab-df-convert\" onclick=\"convertToInteractive('df-a615ed8d-3365-466f-bcc4-ba4549ab0e89')\"\n",
              "              title=\"Convert this dataframe to an interactive table.\"\n",
              "              style=\"display:none;\">\n",
              "        \n",
              "  <svg xmlns=\"http://www.w3.org/2000/svg\" height=\"24px\"viewBox=\"0 0 24 24\"\n",
              "       width=\"24px\">\n",
              "    <path d=\"M0 0h24v24H0V0z\" fill=\"none\"/>\n",
              "    <path d=\"M18.56 5.44l.94 2.06.94-2.06 2.06-.94-2.06-.94-.94-2.06-.94 2.06-2.06.94zm-11 1L8.5 8.5l.94-2.06 2.06-.94-2.06-.94L8.5 2.5l-.94 2.06-2.06.94zm10 10l.94 2.06.94-2.06 2.06-.94-2.06-.94-.94-2.06-.94 2.06-2.06.94z\"/><path d=\"M17.41 7.96l-1.37-1.37c-.4-.4-.92-.59-1.43-.59-.52 0-1.04.2-1.43.59L10.3 9.45l-7.72 7.72c-.78.78-.78 2.05 0 2.83L4 21.41c.39.39.9.59 1.41.59.51 0 1.02-.2 1.41-.59l7.78-7.78 2.81-2.81c.8-.78.8-2.07 0-2.86zM5.41 20L4 18.59l7.72-7.72 1.47 1.35L5.41 20z\"/>\n",
              "  </svg>\n",
              "      </button>\n",
              "      \n",
              "  <style>\n",
              "    .colab-df-container {\n",
              "      display:flex;\n",
              "      flex-wrap:wrap;\n",
              "      gap: 12px;\n",
              "    }\n",
              "\n",
              "    .colab-df-convert {\n",
              "      background-color: #E8F0FE;\n",
              "      border: none;\n",
              "      border-radius: 50%;\n",
              "      cursor: pointer;\n",
              "      display: none;\n",
              "      fill: #1967D2;\n",
              "      height: 32px;\n",
              "      padding: 0 0 0 0;\n",
              "      width: 32px;\n",
              "    }\n",
              "\n",
              "    .colab-df-convert:hover {\n",
              "      background-color: #E2EBFA;\n",
              "      box-shadow: 0px 1px 2px rgba(60, 64, 67, 0.3), 0px 1px 3px 1px rgba(60, 64, 67, 0.15);\n",
              "      fill: #174EA6;\n",
              "    }\n",
              "\n",
              "    [theme=dark] .colab-df-convert {\n",
              "      background-color: #3B4455;\n",
              "      fill: #D2E3FC;\n",
              "    }\n",
              "\n",
              "    [theme=dark] .colab-df-convert:hover {\n",
              "      background-color: #434B5C;\n",
              "      box-shadow: 0px 1px 3px 1px rgba(0, 0, 0, 0.15);\n",
              "      filter: drop-shadow(0px 1px 2px rgba(0, 0, 0, 0.3));\n",
              "      fill: #FFFFFF;\n",
              "    }\n",
              "  </style>\n",
              "\n",
              "      <script>\n",
              "        const buttonEl =\n",
              "          document.querySelector('#df-a615ed8d-3365-466f-bcc4-ba4549ab0e89 button.colab-df-convert');\n",
              "        buttonEl.style.display =\n",
              "          google.colab.kernel.accessAllowed ? 'block' : 'none';\n",
              "\n",
              "        async function convertToInteractive(key) {\n",
              "          const element = document.querySelector('#df-a615ed8d-3365-466f-bcc4-ba4549ab0e89');\n",
              "          const dataTable =\n",
              "            await google.colab.kernel.invokeFunction('convertToInteractive',\n",
              "                                                     [key], {});\n",
              "          if (!dataTable) return;\n",
              "\n",
              "          const docLinkHtml = 'Like what you see? Visit the ' +\n",
              "            '<a target=\"_blank\" href=https://colab.research.google.com/notebooks/data_table.ipynb>data table notebook</a>'\n",
              "            + ' to learn more about interactive tables.';\n",
              "          element.innerHTML = '';\n",
              "          dataTable['output_type'] = 'display_data';\n",
              "          await google.colab.output.renderOutput(dataTable, element);\n",
              "          const docLink = document.createElement('div');\n",
              "          docLink.innerHTML = docLinkHtml;\n",
              "          element.appendChild(docLink);\n",
              "        }\n",
              "      </script>\n",
              "    </div>\n",
              "  </div>\n",
              "  "
            ]
          },
          "metadata": {},
          "execution_count": 3
        }
      ],
      "source": [
        "df.head()"
      ],
      "id": "2ee1ea31"
    },
    {
      "cell_type": "code",
      "execution_count": 4,
      "metadata": {
        "colab": {
          "base_uri": "https://localhost:8080/",
          "height": 461
        },
        "id": "5c8347fd",
        "outputId": "c9be9745-ff3a-4dda-a5f6-490f7e76be4a",
        "scrolled": true
      },
      "outputs": [
        {
          "output_type": "execute_result",
          "data": {
            "text/plain": [
              "      PropertyID  Borough State  Surroundings               Address  ZipCode  \\\n",
              "16805    PR27906        4    NY  CIVIC CENTER         30 PARK PLACE    10007   \n",
              "16806    PR27907        4    NY  CIVIC CENTER     56 LEONARD STREET    10013   \n",
              "16807    PR27908        4    NY  CIVIC CENTER     56 LEONARD STREET    10013   \n",
              "16808    PR27909        4    NY       TRIBECA  250 SOUTH END AVENUE    10280   \n",
              "16809    PR27910        4    NY  HARLEM-UPPER   415 WEST 150 STREET    10031   \n",
              "\n",
              "       Block   Lot                  BldgClassCategory  NoOfResidentialUnits  \\\n",
              "16805    123  1213    13 CONDOS - ELEVATOR APARTMENTS                     1   \n",
              "16806    176  1054    13 CONDOS - ELEVATOR APARTMENTS                     1   \n",
              "16807    176  1102    13 CONDOS - ELEVATOR APARTMENTS                     1   \n",
              "16808     16  2249    13 CONDOS - ELEVATOR APARTMENTS                     1   \n",
              "16809   2065    22  08  RENTALS - ELEVATOR APARTMENTS                    16   \n",
              "\n",
              "       NoOfCommercialUnits  TotalNoOfUnits  LandAreaInSqFt  GrossAreaInSqFt  \\\n",
              "16805                    0               1           29715             2803   \n",
              "16806                    0               1           12518             2252   \n",
              "16807                    0               1           12518             2177   \n",
              "16808                    0               1           12644              594   \n",
              "16809                    1              17            4996            29529   \n",
              "\n",
              "       YearOfConstruction  TaxClass_AtEvaluationTime  \\\n",
              "16805                2004                          2   \n",
              "16806                2003                          2   \n",
              "16807                2003                          2   \n",
              "16808                1981                          2   \n",
              "16809                2007                          2   \n",
              "\n",
              "      BldgClass_AtEvaluationTime DateOfEvaluation  PropertyEvaluationvalue  \n",
              "16805                         R4       30-11-2014                  8454562  \n",
              "16806                         R4       19-12-2014                  6250000  \n",
              "16807                         R4       16-11-2014                  7150000  \n",
              "16808                         R4       17-09-2014                   550000  \n",
              "16809                         D7       22-03-2013                  5000000  "
            ],
            "text/html": [
              "\n",
              "  <div id=\"df-428c0dc3-5458-4b4e-aae7-ac957265a93e\">\n",
              "    <div class=\"colab-df-container\">\n",
              "      <div>\n",
              "<style scoped>\n",
              "    .dataframe tbody tr th:only-of-type {\n",
              "        vertical-align: middle;\n",
              "    }\n",
              "\n",
              "    .dataframe tbody tr th {\n",
              "        vertical-align: top;\n",
              "    }\n",
              "\n",
              "    .dataframe thead th {\n",
              "        text-align: right;\n",
              "    }\n",
              "</style>\n",
              "<table border=\"1\" class=\"dataframe\">\n",
              "  <thead>\n",
              "    <tr style=\"text-align: right;\">\n",
              "      <th></th>\n",
              "      <th>PropertyID</th>\n",
              "      <th>Borough</th>\n",
              "      <th>State</th>\n",
              "      <th>Surroundings</th>\n",
              "      <th>Address</th>\n",
              "      <th>ZipCode</th>\n",
              "      <th>Block</th>\n",
              "      <th>Lot</th>\n",
              "      <th>BldgClassCategory</th>\n",
              "      <th>NoOfResidentialUnits</th>\n",
              "      <th>NoOfCommercialUnits</th>\n",
              "      <th>TotalNoOfUnits</th>\n",
              "      <th>LandAreaInSqFt</th>\n",
              "      <th>GrossAreaInSqFt</th>\n",
              "      <th>YearOfConstruction</th>\n",
              "      <th>TaxClass_AtEvaluationTime</th>\n",
              "      <th>BldgClass_AtEvaluationTime</th>\n",
              "      <th>DateOfEvaluation</th>\n",
              "      <th>PropertyEvaluationvalue</th>\n",
              "    </tr>\n",
              "  </thead>\n",
              "  <tbody>\n",
              "    <tr>\n",
              "      <th>16805</th>\n",
              "      <td>PR27906</td>\n",
              "      <td>4</td>\n",
              "      <td>NY</td>\n",
              "      <td>CIVIC CENTER</td>\n",
              "      <td>30 PARK PLACE</td>\n",
              "      <td>10007</td>\n",
              "      <td>123</td>\n",
              "      <td>1213</td>\n",
              "      <td>13 CONDOS - ELEVATOR APARTMENTS</td>\n",
              "      <td>1</td>\n",
              "      <td>0</td>\n",
              "      <td>1</td>\n",
              "      <td>29715</td>\n",
              "      <td>2803</td>\n",
              "      <td>2004</td>\n",
              "      <td>2</td>\n",
              "      <td>R4</td>\n",
              "      <td>30-11-2014</td>\n",
              "      <td>8454562</td>\n",
              "    </tr>\n",
              "    <tr>\n",
              "      <th>16806</th>\n",
              "      <td>PR27907</td>\n",
              "      <td>4</td>\n",
              "      <td>NY</td>\n",
              "      <td>CIVIC CENTER</td>\n",
              "      <td>56 LEONARD STREET</td>\n",
              "      <td>10013</td>\n",
              "      <td>176</td>\n",
              "      <td>1054</td>\n",
              "      <td>13 CONDOS - ELEVATOR APARTMENTS</td>\n",
              "      <td>1</td>\n",
              "      <td>0</td>\n",
              "      <td>1</td>\n",
              "      <td>12518</td>\n",
              "      <td>2252</td>\n",
              "      <td>2003</td>\n",
              "      <td>2</td>\n",
              "      <td>R4</td>\n",
              "      <td>19-12-2014</td>\n",
              "      <td>6250000</td>\n",
              "    </tr>\n",
              "    <tr>\n",
              "      <th>16807</th>\n",
              "      <td>PR27908</td>\n",
              "      <td>4</td>\n",
              "      <td>NY</td>\n",
              "      <td>CIVIC CENTER</td>\n",
              "      <td>56 LEONARD STREET</td>\n",
              "      <td>10013</td>\n",
              "      <td>176</td>\n",
              "      <td>1102</td>\n",
              "      <td>13 CONDOS - ELEVATOR APARTMENTS</td>\n",
              "      <td>1</td>\n",
              "      <td>0</td>\n",
              "      <td>1</td>\n",
              "      <td>12518</td>\n",
              "      <td>2177</td>\n",
              "      <td>2003</td>\n",
              "      <td>2</td>\n",
              "      <td>R4</td>\n",
              "      <td>16-11-2014</td>\n",
              "      <td>7150000</td>\n",
              "    </tr>\n",
              "    <tr>\n",
              "      <th>16808</th>\n",
              "      <td>PR27909</td>\n",
              "      <td>4</td>\n",
              "      <td>NY</td>\n",
              "      <td>TRIBECA</td>\n",
              "      <td>250 SOUTH END AVENUE</td>\n",
              "      <td>10280</td>\n",
              "      <td>16</td>\n",
              "      <td>2249</td>\n",
              "      <td>13 CONDOS - ELEVATOR APARTMENTS</td>\n",
              "      <td>1</td>\n",
              "      <td>0</td>\n",
              "      <td>1</td>\n",
              "      <td>12644</td>\n",
              "      <td>594</td>\n",
              "      <td>1981</td>\n",
              "      <td>2</td>\n",
              "      <td>R4</td>\n",
              "      <td>17-09-2014</td>\n",
              "      <td>550000</td>\n",
              "    </tr>\n",
              "    <tr>\n",
              "      <th>16809</th>\n",
              "      <td>PR27910</td>\n",
              "      <td>4</td>\n",
              "      <td>NY</td>\n",
              "      <td>HARLEM-UPPER</td>\n",
              "      <td>415 WEST 150 STREET</td>\n",
              "      <td>10031</td>\n",
              "      <td>2065</td>\n",
              "      <td>22</td>\n",
              "      <td>08  RENTALS - ELEVATOR APARTMENTS</td>\n",
              "      <td>16</td>\n",
              "      <td>1</td>\n",
              "      <td>17</td>\n",
              "      <td>4996</td>\n",
              "      <td>29529</td>\n",
              "      <td>2007</td>\n",
              "      <td>2</td>\n",
              "      <td>D7</td>\n",
              "      <td>22-03-2013</td>\n",
              "      <td>5000000</td>\n",
              "    </tr>\n",
              "  </tbody>\n",
              "</table>\n",
              "</div>\n",
              "      <button class=\"colab-df-convert\" onclick=\"convertToInteractive('df-428c0dc3-5458-4b4e-aae7-ac957265a93e')\"\n",
              "              title=\"Convert this dataframe to an interactive table.\"\n",
              "              style=\"display:none;\">\n",
              "        \n",
              "  <svg xmlns=\"http://www.w3.org/2000/svg\" height=\"24px\"viewBox=\"0 0 24 24\"\n",
              "       width=\"24px\">\n",
              "    <path d=\"M0 0h24v24H0V0z\" fill=\"none\"/>\n",
              "    <path d=\"M18.56 5.44l.94 2.06.94-2.06 2.06-.94-2.06-.94-.94-2.06-.94 2.06-2.06.94zm-11 1L8.5 8.5l.94-2.06 2.06-.94-2.06-.94L8.5 2.5l-.94 2.06-2.06.94zm10 10l.94 2.06.94-2.06 2.06-.94-2.06-.94-.94-2.06-.94 2.06-2.06.94z\"/><path d=\"M17.41 7.96l-1.37-1.37c-.4-.4-.92-.59-1.43-.59-.52 0-1.04.2-1.43.59L10.3 9.45l-7.72 7.72c-.78.78-.78 2.05 0 2.83L4 21.41c.39.39.9.59 1.41.59.51 0 1.02-.2 1.41-.59l7.78-7.78 2.81-2.81c.8-.78.8-2.07 0-2.86zM5.41 20L4 18.59l7.72-7.72 1.47 1.35L5.41 20z\"/>\n",
              "  </svg>\n",
              "      </button>\n",
              "      \n",
              "  <style>\n",
              "    .colab-df-container {\n",
              "      display:flex;\n",
              "      flex-wrap:wrap;\n",
              "      gap: 12px;\n",
              "    }\n",
              "\n",
              "    .colab-df-convert {\n",
              "      background-color: #E8F0FE;\n",
              "      border: none;\n",
              "      border-radius: 50%;\n",
              "      cursor: pointer;\n",
              "      display: none;\n",
              "      fill: #1967D2;\n",
              "      height: 32px;\n",
              "      padding: 0 0 0 0;\n",
              "      width: 32px;\n",
              "    }\n",
              "\n",
              "    .colab-df-convert:hover {\n",
              "      background-color: #E2EBFA;\n",
              "      box-shadow: 0px 1px 2px rgba(60, 64, 67, 0.3), 0px 1px 3px 1px rgba(60, 64, 67, 0.15);\n",
              "      fill: #174EA6;\n",
              "    }\n",
              "\n",
              "    [theme=dark] .colab-df-convert {\n",
              "      background-color: #3B4455;\n",
              "      fill: #D2E3FC;\n",
              "    }\n",
              "\n",
              "    [theme=dark] .colab-df-convert:hover {\n",
              "      background-color: #434B5C;\n",
              "      box-shadow: 0px 1px 3px 1px rgba(0, 0, 0, 0.15);\n",
              "      filter: drop-shadow(0px 1px 2px rgba(0, 0, 0, 0.3));\n",
              "      fill: #FFFFFF;\n",
              "    }\n",
              "  </style>\n",
              "\n",
              "      <script>\n",
              "        const buttonEl =\n",
              "          document.querySelector('#df-428c0dc3-5458-4b4e-aae7-ac957265a93e button.colab-df-convert');\n",
              "        buttonEl.style.display =\n",
              "          google.colab.kernel.accessAllowed ? 'block' : 'none';\n",
              "\n",
              "        async function convertToInteractive(key) {\n",
              "          const element = document.querySelector('#df-428c0dc3-5458-4b4e-aae7-ac957265a93e');\n",
              "          const dataTable =\n",
              "            await google.colab.kernel.invokeFunction('convertToInteractive',\n",
              "                                                     [key], {});\n",
              "          if (!dataTable) return;\n",
              "\n",
              "          const docLinkHtml = 'Like what you see? Visit the ' +\n",
              "            '<a target=\"_blank\" href=https://colab.research.google.com/notebooks/data_table.ipynb>data table notebook</a>'\n",
              "            + ' to learn more about interactive tables.';\n",
              "          element.innerHTML = '';\n",
              "          dataTable['output_type'] = 'display_data';\n",
              "          await google.colab.output.renderOutput(dataTable, element);\n",
              "          const docLink = document.createElement('div');\n",
              "          docLink.innerHTML = docLinkHtml;\n",
              "          element.appendChild(docLink);\n",
              "        }\n",
              "      </script>\n",
              "    </div>\n",
              "  </div>\n",
              "  "
            ]
          },
          "metadata": {},
          "execution_count": 4
        }
      ],
      "source": [
        "df.tail()"
      ],
      "id": "5c8347fd"
    },
    {
      "cell_type": "code",
      "execution_count": 5,
      "metadata": {
        "colab": {
          "base_uri": "https://localhost:8080/",
          "height": 0
        },
        "id": "91f1119b",
        "outputId": "dead51db-9f69-4f86-f386-acc1124f60d8"
      },
      "outputs": [
        {
          "output_type": "execute_result",
          "data": {
            "text/plain": [
              "(16810, 19)"
            ]
          },
          "metadata": {},
          "execution_count": 5
        }
      ],
      "source": [
        "df.shape"
      ],
      "id": "91f1119b"
    },
    {
      "cell_type": "code",
      "execution_count": 6,
      "metadata": {
        "colab": {
          "base_uri": "https://localhost:8080/",
          "height": 0
        },
        "id": "11f1afcc",
        "outputId": "60d87a19-7009-490e-a027-ba84a51ed9b2"
      },
      "outputs": [
        {
          "output_type": "execute_result",
          "data": {
            "text/plain": [
              "Index(['PropertyID', 'Borough', 'State', 'Surroundings', 'Address', 'ZipCode',\n",
              "       'Block', 'Lot', 'BldgClassCategory', 'NoOfResidentialUnits',\n",
              "       'NoOfCommercialUnits', 'TotalNoOfUnits', 'LandAreaInSqFt',\n",
              "       'GrossAreaInSqFt', 'YearOfConstruction', 'TaxClass_AtEvaluationTime',\n",
              "       'BldgClass_AtEvaluationTime', 'DateOfEvaluation',\n",
              "       'PropertyEvaluationvalue'],\n",
              "      dtype='object')"
            ]
          },
          "metadata": {},
          "execution_count": 6
        }
      ],
      "source": [
        "df.columns"
      ],
      "id": "11f1afcc"
    },
    {
      "cell_type": "code",
      "execution_count": 7,
      "metadata": {
        "colab": {
          "base_uri": "https://localhost:8080/",
          "height": 0
        },
        "id": "6525d51d",
        "outputId": "490fe13b-8ccd-4202-9419-da4ec7ce5106"
      },
      "outputs": [
        {
          "output_type": "execute_result",
          "data": {
            "text/plain": [
              "PropertyID                    object\n",
              "Borough                        int64\n",
              "State                         object\n",
              "Surroundings                  object\n",
              "Address                       object\n",
              "ZipCode                        int64\n",
              "Block                          int64\n",
              "Lot                            int64\n",
              "BldgClassCategory             object\n",
              "NoOfResidentialUnits           int64\n",
              "NoOfCommercialUnits            int64\n",
              "TotalNoOfUnits                 int64\n",
              "LandAreaInSqFt                 int64\n",
              "GrossAreaInSqFt                int64\n",
              "YearOfConstruction             int64\n",
              "TaxClass_AtEvaluationTime      int64\n",
              "BldgClass_AtEvaluationTime    object\n",
              "DateOfEvaluation              object\n",
              "PropertyEvaluationvalue        int64\n",
              "dtype: object"
            ]
          },
          "metadata": {},
          "execution_count": 7
        }
      ],
      "source": [
        "df.dtypes"
      ],
      "id": "6525d51d"
    },
    {
      "cell_type": "code",
      "execution_count": 8,
      "metadata": {
        "colab": {
          "base_uri": "https://localhost:8080/",
          "height": 0
        },
        "id": "0a826606",
        "outputId": "2c2a12f7-fe5a-413d-ea17-9c7fb3491edc"
      },
      "outputs": [
        {
          "output_type": "stream",
          "name": "stdout",
          "text": [
            "<class 'pandas.core.frame.DataFrame'>\n",
            "RangeIndex: 16810 entries, 0 to 16809\n",
            "Data columns (total 19 columns):\n",
            " #   Column                      Non-Null Count  Dtype \n",
            "---  ------                      --------------  ----- \n",
            " 0   PropertyID                  16810 non-null  object\n",
            " 1   Borough                     16810 non-null  int64 \n",
            " 2   State                       16810 non-null  object\n",
            " 3   Surroundings                16810 non-null  object\n",
            " 4   Address                     16810 non-null  object\n",
            " 5   ZipCode                     16810 non-null  int64 \n",
            " 6   Block                       16810 non-null  int64 \n",
            " 7   Lot                         16810 non-null  int64 \n",
            " 8   BldgClassCategory           16810 non-null  object\n",
            " 9   NoOfResidentialUnits        16810 non-null  int64 \n",
            " 10  NoOfCommercialUnits         16810 non-null  int64 \n",
            " 11  TotalNoOfUnits              16810 non-null  int64 \n",
            " 12  LandAreaInSqFt              16810 non-null  int64 \n",
            " 13  GrossAreaInSqFt             16810 non-null  int64 \n",
            " 14  YearOfConstruction          16810 non-null  int64 \n",
            " 15  TaxClass_AtEvaluationTime   16810 non-null  int64 \n",
            " 16  BldgClass_AtEvaluationTime  16810 non-null  object\n",
            " 17  DateOfEvaluation            16810 non-null  object\n",
            " 18  PropertyEvaluationvalue     16810 non-null  int64 \n",
            "dtypes: int64(12), object(7)\n",
            "memory usage: 2.4+ MB\n"
          ]
        }
      ],
      "source": [
        "df.info()"
      ],
      "id": "0a826606"
    },
    {
      "cell_type": "code",
      "execution_count": 9,
      "metadata": {
        "colab": {
          "base_uri": "https://localhost:8080/",
          "height": 0
        },
        "id": "b757f95e",
        "outputId": "968d3f4f-29c3-4c6b-d2a3-bb9e6dd035af"
      },
      "outputs": [
        {
          "output_type": "execute_result",
          "data": {
            "text/plain": [
              "PropertyID                    0\n",
              "Borough                       0\n",
              "State                         0\n",
              "Surroundings                  0\n",
              "Address                       0\n",
              "ZipCode                       0\n",
              "Block                         0\n",
              "Lot                           0\n",
              "BldgClassCategory             0\n",
              "NoOfResidentialUnits          0\n",
              "NoOfCommercialUnits           0\n",
              "TotalNoOfUnits                0\n",
              "LandAreaInSqFt                0\n",
              "GrossAreaInSqFt               0\n",
              "YearOfConstruction            0\n",
              "TaxClass_AtEvaluationTime     0\n",
              "BldgClass_AtEvaluationTime    0\n",
              "DateOfEvaluation              0\n",
              "PropertyEvaluationvalue       0\n",
              "dtype: int64"
            ]
          },
          "metadata": {},
          "execution_count": 9
        }
      ],
      "source": [
        "df.isnull().sum()"
      ],
      "id": "b757f95e"
    },
    {
      "cell_type": "code",
      "execution_count": 10,
      "metadata": {
        "id": "f546faf6"
      },
      "outputs": [],
      "source": [
        "#remove duplicate value if any\n",
        "\n",
        "df = df.drop_duplicates()"
      ],
      "id": "f546faf6"
    },
    {
      "cell_type": "code",
      "execution_count": 11,
      "metadata": {
        "colab": {
          "base_uri": "https://localhost:8080/",
          "height": 0
        },
        "id": "367b6c44",
        "outputId": "748b9175-a9a4-4b73-c31d-b0240a4cfde4"
      },
      "outputs": [
        {
          "output_type": "execute_result",
          "data": {
            "text/plain": [
              "(16810, 19)"
            ]
          },
          "metadata": {},
          "execution_count": 11
        }
      ],
      "source": [
        "df.shape"
      ],
      "id": "367b6c44"
    },
    {
      "cell_type": "code",
      "execution_count": 12,
      "metadata": {
        "colab": {
          "base_uri": "https://localhost:8080/",
          "height": 645
        },
        "id": "87b94e6b",
        "outputId": "cf21ffca-5dc3-4ae7-93ef-05adb85810e6"
      },
      "outputs": [
        {
          "output_type": "execute_result",
          "data": {
            "text/plain": [
              "                                 0\n",
              "PropertyID                  object\n",
              "Borough                      int64\n",
              "State                       object\n",
              "Surroundings                object\n",
              "Address                     object\n",
              "ZipCode                      int64\n",
              "Block                        int64\n",
              "Lot                          int64\n",
              "BldgClassCategory           object\n",
              "NoOfResidentialUnits         int64\n",
              "NoOfCommercialUnits          int64\n",
              "TotalNoOfUnits               int64\n",
              "LandAreaInSqFt               int64\n",
              "GrossAreaInSqFt              int64\n",
              "YearOfConstruction           int64\n",
              "TaxClass_AtEvaluationTime    int64\n",
              "BldgClass_AtEvaluationTime  object\n",
              "DateOfEvaluation            object\n",
              "PropertyEvaluationvalue      int64"
            ],
            "text/html": [
              "\n",
              "  <div id=\"df-bb8e36ec-86f3-4923-a13d-7d6000165dcf\">\n",
              "    <div class=\"colab-df-container\">\n",
              "      <div>\n",
              "<style scoped>\n",
              "    .dataframe tbody tr th:only-of-type {\n",
              "        vertical-align: middle;\n",
              "    }\n",
              "\n",
              "    .dataframe tbody tr th {\n",
              "        vertical-align: top;\n",
              "    }\n",
              "\n",
              "    .dataframe thead th {\n",
              "        text-align: right;\n",
              "    }\n",
              "</style>\n",
              "<table border=\"1\" class=\"dataframe\">\n",
              "  <thead>\n",
              "    <tr style=\"text-align: right;\">\n",
              "      <th></th>\n",
              "      <th>0</th>\n",
              "    </tr>\n",
              "  </thead>\n",
              "  <tbody>\n",
              "    <tr>\n",
              "      <th>PropertyID</th>\n",
              "      <td>object</td>\n",
              "    </tr>\n",
              "    <tr>\n",
              "      <th>Borough</th>\n",
              "      <td>int64</td>\n",
              "    </tr>\n",
              "    <tr>\n",
              "      <th>State</th>\n",
              "      <td>object</td>\n",
              "    </tr>\n",
              "    <tr>\n",
              "      <th>Surroundings</th>\n",
              "      <td>object</td>\n",
              "    </tr>\n",
              "    <tr>\n",
              "      <th>Address</th>\n",
              "      <td>object</td>\n",
              "    </tr>\n",
              "    <tr>\n",
              "      <th>ZipCode</th>\n",
              "      <td>int64</td>\n",
              "    </tr>\n",
              "    <tr>\n",
              "      <th>Block</th>\n",
              "      <td>int64</td>\n",
              "    </tr>\n",
              "    <tr>\n",
              "      <th>Lot</th>\n",
              "      <td>int64</td>\n",
              "    </tr>\n",
              "    <tr>\n",
              "      <th>BldgClassCategory</th>\n",
              "      <td>object</td>\n",
              "    </tr>\n",
              "    <tr>\n",
              "      <th>NoOfResidentialUnits</th>\n",
              "      <td>int64</td>\n",
              "    </tr>\n",
              "    <tr>\n",
              "      <th>NoOfCommercialUnits</th>\n",
              "      <td>int64</td>\n",
              "    </tr>\n",
              "    <tr>\n",
              "      <th>TotalNoOfUnits</th>\n",
              "      <td>int64</td>\n",
              "    </tr>\n",
              "    <tr>\n",
              "      <th>LandAreaInSqFt</th>\n",
              "      <td>int64</td>\n",
              "    </tr>\n",
              "    <tr>\n",
              "      <th>GrossAreaInSqFt</th>\n",
              "      <td>int64</td>\n",
              "    </tr>\n",
              "    <tr>\n",
              "      <th>YearOfConstruction</th>\n",
              "      <td>int64</td>\n",
              "    </tr>\n",
              "    <tr>\n",
              "      <th>TaxClass_AtEvaluationTime</th>\n",
              "      <td>int64</td>\n",
              "    </tr>\n",
              "    <tr>\n",
              "      <th>BldgClass_AtEvaluationTime</th>\n",
              "      <td>object</td>\n",
              "    </tr>\n",
              "    <tr>\n",
              "      <th>DateOfEvaluation</th>\n",
              "      <td>object</td>\n",
              "    </tr>\n",
              "    <tr>\n",
              "      <th>PropertyEvaluationvalue</th>\n",
              "      <td>int64</td>\n",
              "    </tr>\n",
              "  </tbody>\n",
              "</table>\n",
              "</div>\n",
              "      <button class=\"colab-df-convert\" onclick=\"convertToInteractive('df-bb8e36ec-86f3-4923-a13d-7d6000165dcf')\"\n",
              "              title=\"Convert this dataframe to an interactive table.\"\n",
              "              style=\"display:none;\">\n",
              "        \n",
              "  <svg xmlns=\"http://www.w3.org/2000/svg\" height=\"24px\"viewBox=\"0 0 24 24\"\n",
              "       width=\"24px\">\n",
              "    <path d=\"M0 0h24v24H0V0z\" fill=\"none\"/>\n",
              "    <path d=\"M18.56 5.44l.94 2.06.94-2.06 2.06-.94-2.06-.94-.94-2.06-.94 2.06-2.06.94zm-11 1L8.5 8.5l.94-2.06 2.06-.94-2.06-.94L8.5 2.5l-.94 2.06-2.06.94zm10 10l.94 2.06.94-2.06 2.06-.94-2.06-.94-.94-2.06-.94 2.06-2.06.94z\"/><path d=\"M17.41 7.96l-1.37-1.37c-.4-.4-.92-.59-1.43-.59-.52 0-1.04.2-1.43.59L10.3 9.45l-7.72 7.72c-.78.78-.78 2.05 0 2.83L4 21.41c.39.39.9.59 1.41.59.51 0 1.02-.2 1.41-.59l7.78-7.78 2.81-2.81c.8-.78.8-2.07 0-2.86zM5.41 20L4 18.59l7.72-7.72 1.47 1.35L5.41 20z\"/>\n",
              "  </svg>\n",
              "      </button>\n",
              "      \n",
              "  <style>\n",
              "    .colab-df-container {\n",
              "      display:flex;\n",
              "      flex-wrap:wrap;\n",
              "      gap: 12px;\n",
              "    }\n",
              "\n",
              "    .colab-df-convert {\n",
              "      background-color: #E8F0FE;\n",
              "      border: none;\n",
              "      border-radius: 50%;\n",
              "      cursor: pointer;\n",
              "      display: none;\n",
              "      fill: #1967D2;\n",
              "      height: 32px;\n",
              "      padding: 0 0 0 0;\n",
              "      width: 32px;\n",
              "    }\n",
              "\n",
              "    .colab-df-convert:hover {\n",
              "      background-color: #E2EBFA;\n",
              "      box-shadow: 0px 1px 2px rgba(60, 64, 67, 0.3), 0px 1px 3px 1px rgba(60, 64, 67, 0.15);\n",
              "      fill: #174EA6;\n",
              "    }\n",
              "\n",
              "    [theme=dark] .colab-df-convert {\n",
              "      background-color: #3B4455;\n",
              "      fill: #D2E3FC;\n",
              "    }\n",
              "\n",
              "    [theme=dark] .colab-df-convert:hover {\n",
              "      background-color: #434B5C;\n",
              "      box-shadow: 0px 1px 3px 1px rgba(0, 0, 0, 0.15);\n",
              "      filter: drop-shadow(0px 1px 2px rgba(0, 0, 0, 0.3));\n",
              "      fill: #FFFFFF;\n",
              "    }\n",
              "  </style>\n",
              "\n",
              "      <script>\n",
              "        const buttonEl =\n",
              "          document.querySelector('#df-bb8e36ec-86f3-4923-a13d-7d6000165dcf button.colab-df-convert');\n",
              "        buttonEl.style.display =\n",
              "          google.colab.kernel.accessAllowed ? 'block' : 'none';\n",
              "\n",
              "        async function convertToInteractive(key) {\n",
              "          const element = document.querySelector('#df-bb8e36ec-86f3-4923-a13d-7d6000165dcf');\n",
              "          const dataTable =\n",
              "            await google.colab.kernel.invokeFunction('convertToInteractive',\n",
              "                                                     [key], {});\n",
              "          if (!dataTable) return;\n",
              "\n",
              "          const docLinkHtml = 'Like what you see? Visit the ' +\n",
              "            '<a target=\"_blank\" href=https://colab.research.google.com/notebooks/data_table.ipynb>data table notebook</a>'\n",
              "            + ' to learn more about interactive tables.';\n",
              "          element.innerHTML = '';\n",
              "          dataTable['output_type'] = 'display_data';\n",
              "          await google.colab.output.renderOutput(dataTable, element);\n",
              "          const docLink = document.createElement('div');\n",
              "          docLink.innerHTML = docLinkHtml;\n",
              "          element.appendChild(docLink);\n",
              "        }\n",
              "      </script>\n",
              "    </div>\n",
              "  </div>\n",
              "  "
            ]
          },
          "metadata": {},
          "execution_count": 12
        }
      ],
      "source": [
        "# Creating the Data Dictionary with first column being datatype.\n",
        "\n",
        "Data_dict = pd.DataFrame(df.dtypes)\n",
        "Data_dict"
      ],
      "id": "87b94e6b"
    },
    {
      "cell_type": "code",
      "execution_count": 13,
      "metadata": {
        "colab": {
          "base_uri": "https://localhost:8080/",
          "height": 645
        },
        "id": "fed5af04",
        "outputId": "b98ac2b4-fecc-4465-f98f-8a752856f92a"
      },
      "outputs": [
        {
          "output_type": "execute_result",
          "data": {
            "text/plain": [
              "                                 0  UniqueVal\n",
              "PropertyID                  object      16810\n",
              "Borough                      int64          5\n",
              "State                       object          1\n",
              "Surroundings                object        243\n",
              "Address                     object      15219\n",
              "ZipCode                      int64        174\n",
              "Block                        int64       6405\n",
              "Lot                          int64       1299\n",
              "BldgClassCategory           object         52\n",
              "NoOfResidentialUnits         int64         70\n",
              "NoOfCommercialUnits          int64         18\n",
              "TotalNoOfUnits               int64         75\n",
              "LandAreaInSqFt               int64       3898\n",
              "GrossAreaInSqFt              int64       3350\n",
              "YearOfConstruction           int64         72\n",
              "TaxClass_AtEvaluationTime    int64          3\n",
              "BldgClass_AtEvaluationTime  object        101\n",
              "DateOfEvaluation            object        572\n",
              "PropertyEvaluationvalue      int64       3694"
            ],
            "text/html": [
              "\n",
              "  <div id=\"df-3a90c19b-117d-4d8f-8aa6-d96fc819f175\">\n",
              "    <div class=\"colab-df-container\">\n",
              "      <div>\n",
              "<style scoped>\n",
              "    .dataframe tbody tr th:only-of-type {\n",
              "        vertical-align: middle;\n",
              "    }\n",
              "\n",
              "    .dataframe tbody tr th {\n",
              "        vertical-align: top;\n",
              "    }\n",
              "\n",
              "    .dataframe thead th {\n",
              "        text-align: right;\n",
              "    }\n",
              "</style>\n",
              "<table border=\"1\" class=\"dataframe\">\n",
              "  <thead>\n",
              "    <tr style=\"text-align: right;\">\n",
              "      <th></th>\n",
              "      <th>0</th>\n",
              "      <th>UniqueVal</th>\n",
              "    </tr>\n",
              "  </thead>\n",
              "  <tbody>\n",
              "    <tr>\n",
              "      <th>PropertyID</th>\n",
              "      <td>object</td>\n",
              "      <td>16810</td>\n",
              "    </tr>\n",
              "    <tr>\n",
              "      <th>Borough</th>\n",
              "      <td>int64</td>\n",
              "      <td>5</td>\n",
              "    </tr>\n",
              "    <tr>\n",
              "      <th>State</th>\n",
              "      <td>object</td>\n",
              "      <td>1</td>\n",
              "    </tr>\n",
              "    <tr>\n",
              "      <th>Surroundings</th>\n",
              "      <td>object</td>\n",
              "      <td>243</td>\n",
              "    </tr>\n",
              "    <tr>\n",
              "      <th>Address</th>\n",
              "      <td>object</td>\n",
              "      <td>15219</td>\n",
              "    </tr>\n",
              "    <tr>\n",
              "      <th>ZipCode</th>\n",
              "      <td>int64</td>\n",
              "      <td>174</td>\n",
              "    </tr>\n",
              "    <tr>\n",
              "      <th>Block</th>\n",
              "      <td>int64</td>\n",
              "      <td>6405</td>\n",
              "    </tr>\n",
              "    <tr>\n",
              "      <th>Lot</th>\n",
              "      <td>int64</td>\n",
              "      <td>1299</td>\n",
              "    </tr>\n",
              "    <tr>\n",
              "      <th>BldgClassCategory</th>\n",
              "      <td>object</td>\n",
              "      <td>52</td>\n",
              "    </tr>\n",
              "    <tr>\n",
              "      <th>NoOfResidentialUnits</th>\n",
              "      <td>int64</td>\n",
              "      <td>70</td>\n",
              "    </tr>\n",
              "    <tr>\n",
              "      <th>NoOfCommercialUnits</th>\n",
              "      <td>int64</td>\n",
              "      <td>18</td>\n",
              "    </tr>\n",
              "    <tr>\n",
              "      <th>TotalNoOfUnits</th>\n",
              "      <td>int64</td>\n",
              "      <td>75</td>\n",
              "    </tr>\n",
              "    <tr>\n",
              "      <th>LandAreaInSqFt</th>\n",
              "      <td>int64</td>\n",
              "      <td>3898</td>\n",
              "    </tr>\n",
              "    <tr>\n",
              "      <th>GrossAreaInSqFt</th>\n",
              "      <td>int64</td>\n",
              "      <td>3350</td>\n",
              "    </tr>\n",
              "    <tr>\n",
              "      <th>YearOfConstruction</th>\n",
              "      <td>int64</td>\n",
              "      <td>72</td>\n",
              "    </tr>\n",
              "    <tr>\n",
              "      <th>TaxClass_AtEvaluationTime</th>\n",
              "      <td>int64</td>\n",
              "      <td>3</td>\n",
              "    </tr>\n",
              "    <tr>\n",
              "      <th>BldgClass_AtEvaluationTime</th>\n",
              "      <td>object</td>\n",
              "      <td>101</td>\n",
              "    </tr>\n",
              "    <tr>\n",
              "      <th>DateOfEvaluation</th>\n",
              "      <td>object</td>\n",
              "      <td>572</td>\n",
              "    </tr>\n",
              "    <tr>\n",
              "      <th>PropertyEvaluationvalue</th>\n",
              "      <td>int64</td>\n",
              "      <td>3694</td>\n",
              "    </tr>\n",
              "  </tbody>\n",
              "</table>\n",
              "</div>\n",
              "      <button class=\"colab-df-convert\" onclick=\"convertToInteractive('df-3a90c19b-117d-4d8f-8aa6-d96fc819f175')\"\n",
              "              title=\"Convert this dataframe to an interactive table.\"\n",
              "              style=\"display:none;\">\n",
              "        \n",
              "  <svg xmlns=\"http://www.w3.org/2000/svg\" height=\"24px\"viewBox=\"0 0 24 24\"\n",
              "       width=\"24px\">\n",
              "    <path d=\"M0 0h24v24H0V0z\" fill=\"none\"/>\n",
              "    <path d=\"M18.56 5.44l.94 2.06.94-2.06 2.06-.94-2.06-.94-.94-2.06-.94 2.06-2.06.94zm-11 1L8.5 8.5l.94-2.06 2.06-.94-2.06-.94L8.5 2.5l-.94 2.06-2.06.94zm10 10l.94 2.06.94-2.06 2.06-.94-2.06-.94-.94-2.06-.94 2.06-2.06.94z\"/><path d=\"M17.41 7.96l-1.37-1.37c-.4-.4-.92-.59-1.43-.59-.52 0-1.04.2-1.43.59L10.3 9.45l-7.72 7.72c-.78.78-.78 2.05 0 2.83L4 21.41c.39.39.9.59 1.41.59.51 0 1.02-.2 1.41-.59l7.78-7.78 2.81-2.81c.8-.78.8-2.07 0-2.86zM5.41 20L4 18.59l7.72-7.72 1.47 1.35L5.41 20z\"/>\n",
              "  </svg>\n",
              "      </button>\n",
              "      \n",
              "  <style>\n",
              "    .colab-df-container {\n",
              "      display:flex;\n",
              "      flex-wrap:wrap;\n",
              "      gap: 12px;\n",
              "    }\n",
              "\n",
              "    .colab-df-convert {\n",
              "      background-color: #E8F0FE;\n",
              "      border: none;\n",
              "      border-radius: 50%;\n",
              "      cursor: pointer;\n",
              "      display: none;\n",
              "      fill: #1967D2;\n",
              "      height: 32px;\n",
              "      padding: 0 0 0 0;\n",
              "      width: 32px;\n",
              "    }\n",
              "\n",
              "    .colab-df-convert:hover {\n",
              "      background-color: #E2EBFA;\n",
              "      box-shadow: 0px 1px 2px rgba(60, 64, 67, 0.3), 0px 1px 3px 1px rgba(60, 64, 67, 0.15);\n",
              "      fill: #174EA6;\n",
              "    }\n",
              "\n",
              "    [theme=dark] .colab-df-convert {\n",
              "      background-color: #3B4455;\n",
              "      fill: #D2E3FC;\n",
              "    }\n",
              "\n",
              "    [theme=dark] .colab-df-convert:hover {\n",
              "      background-color: #434B5C;\n",
              "      box-shadow: 0px 1px 3px 1px rgba(0, 0, 0, 0.15);\n",
              "      filter: drop-shadow(0px 1px 2px rgba(0, 0, 0, 0.3));\n",
              "      fill: #FFFFFF;\n",
              "    }\n",
              "  </style>\n",
              "\n",
              "      <script>\n",
              "        const buttonEl =\n",
              "          document.querySelector('#df-3a90c19b-117d-4d8f-8aa6-d96fc819f175 button.colab-df-convert');\n",
              "        buttonEl.style.display =\n",
              "          google.colab.kernel.accessAllowed ? 'block' : 'none';\n",
              "\n",
              "        async function convertToInteractive(key) {\n",
              "          const element = document.querySelector('#df-3a90c19b-117d-4d8f-8aa6-d96fc819f175');\n",
              "          const dataTable =\n",
              "            await google.colab.kernel.invokeFunction('convertToInteractive',\n",
              "                                                     [key], {});\n",
              "          if (!dataTable) return;\n",
              "\n",
              "          const docLinkHtml = 'Like what you see? Visit the ' +\n",
              "            '<a target=\"_blank\" href=https://colab.research.google.com/notebooks/data_table.ipynb>data table notebook</a>'\n",
              "            + ' to learn more about interactive tables.';\n",
              "          element.innerHTML = '';\n",
              "          dataTable['output_type'] = 'display_data';\n",
              "          await google.colab.output.renderOutput(dataTable, element);\n",
              "          const docLink = document.createElement('div');\n",
              "          docLink.innerHTML = docLinkHtml;\n",
              "          element.appendChild(docLink);\n",
              "        }\n",
              "      </script>\n",
              "    </div>\n",
              "  </div>\n",
              "  "
            ]
          },
          "metadata": {},
          "execution_count": 13
        }
      ],
      "source": [
        "# Identifying unique values . For this we used nunique() which returns unique elements in the object.\n",
        "\n",
        "Data_dict['UniqueVal'] = df.nunique()\n",
        "Data_dict"
      ],
      "id": "fed5af04"
    },
    {
      "cell_type": "code",
      "execution_count": 14,
      "metadata": {
        "colab": {
          "base_uri": "https://localhost:8080/",
          "height": 489
        },
        "id": "00826f62",
        "outputId": "5cc2bee3-0bd7-4256-99ec-ac615cc11625"
      },
      "outputs": [
        {
          "output_type": "execute_result",
          "data": {
            "text/plain": [
              "                            Borough   ZipCode     Block       Lot  \\\n",
              "Borough                    1.000000  0.488406  0.313951  0.005866   \n",
              "ZipCode                    0.488406  1.000000  0.528438 -0.125573   \n",
              "Block                      0.313951  0.528438  1.000000 -0.240481   \n",
              "Lot                        0.005866 -0.125573 -0.240481  1.000000   \n",
              "NoOfResidentialUnits      -0.005122  0.014876 -0.008005 -0.025278   \n",
              "NoOfCommercialUnits       -0.006849 -0.002288 -0.024037 -0.000308   \n",
              "TotalNoOfUnits            -0.006620  0.013504 -0.013785 -0.024030   \n",
              "LandAreaInSqFt             0.002994 -0.046456 -0.046750  0.234273   \n",
              "GrossAreaInSqFt            0.005231 -0.090817 -0.083749 -0.050164   \n",
              "YearOfConstruction        -0.168352 -0.261036 -0.269244  0.339635   \n",
              "TaxClass_AtEvaluationTime  0.003318 -0.044437 -0.234643  0.280392   \n",
              "PropertyEvaluationvalue    0.049743 -0.012603 -0.186906  0.207938   \n",
              "\n",
              "                           NoOfResidentialUnits  NoOfCommercialUnits  \\\n",
              "Borough                               -0.005122            -0.006849   \n",
              "ZipCode                                0.014876            -0.002288   \n",
              "Block                                 -0.008005            -0.024037   \n",
              "Lot                                   -0.025278            -0.000308   \n",
              "NoOfResidentialUnits                   1.000000             0.073065   \n",
              "NoOfCommercialUnits                    0.073065             1.000000   \n",
              "TotalNoOfUnits                         0.966332             0.327214   \n",
              "LandAreaInSqFt                         0.049807             0.660527   \n",
              "GrossAreaInSqFt                        0.467357             0.604961   \n",
              "YearOfConstruction                     0.005098             0.020689   \n",
              "TaxClass_AtEvaluationTime              0.038005             0.219687   \n",
              "PropertyEvaluationvalue                0.098409             0.068230   \n",
              "\n",
              "                           TotalNoOfUnits  LandAreaInSqFt  GrossAreaInSqFt  \\\n",
              "Borough                         -0.006620        0.002994         0.005231   \n",
              "ZipCode                          0.013504       -0.046456        -0.090817   \n",
              "Block                           -0.013785       -0.046750        -0.083749   \n",
              "Lot                             -0.024030        0.234273        -0.050164   \n",
              "NoOfResidentialUnits             0.966332        0.049807         0.467357   \n",
              "NoOfCommercialUnits              0.327214        0.660527         0.604961   \n",
              "TotalNoOfUnits                   1.000000        0.217598         0.598885   \n",
              "LandAreaInSqFt                   0.217598        1.000000         0.465828   \n",
              "GrossAreaInSqFt                  0.598885        0.465828         1.000000   \n",
              "YearOfConstruction               0.010168        0.018417         0.085072   \n",
              "TaxClass_AtEvaluationTime        0.092686        0.090533         0.328519   \n",
              "PropertyEvaluationvalue          0.110843        0.034867         0.068621   \n",
              "\n",
              "                           YearOfConstruction  TaxClass_AtEvaluationTime  \\\n",
              "Borough                             -0.168352                   0.003318   \n",
              "ZipCode                             -0.261036                  -0.044437   \n",
              "Block                               -0.269244                  -0.234643   \n",
              "Lot                                  0.339635                   0.280392   \n",
              "NoOfResidentialUnits                 0.005098                   0.038005   \n",
              "NoOfCommercialUnits                  0.020689                   0.219687   \n",
              "TotalNoOfUnits                       0.010168                   0.092686   \n",
              "LandAreaInSqFt                       0.018417                   0.090533   \n",
              "GrossAreaInSqFt                      0.085072                   0.328519   \n",
              "YearOfConstruction                   1.000000                   0.210623   \n",
              "TaxClass_AtEvaluationTime            0.210623                   1.000000   \n",
              "PropertyEvaluationvalue              0.113079                   0.402181   \n",
              "\n",
              "                           PropertyEvaluationvalue  \n",
              "Borough                                   0.049743  \n",
              "ZipCode                                  -0.012603  \n",
              "Block                                    -0.186906  \n",
              "Lot                                       0.207938  \n",
              "NoOfResidentialUnits                      0.098409  \n",
              "NoOfCommercialUnits                       0.068230  \n",
              "TotalNoOfUnits                            0.110843  \n",
              "LandAreaInSqFt                            0.034867  \n",
              "GrossAreaInSqFt                           0.068621  \n",
              "YearOfConstruction                        0.113079  \n",
              "TaxClass_AtEvaluationTime                 0.402181  \n",
              "PropertyEvaluationvalue                   1.000000  "
            ],
            "text/html": [
              "\n",
              "  <div id=\"df-bec177de-287c-4c47-86f4-82421114ef99\">\n",
              "    <div class=\"colab-df-container\">\n",
              "      <div>\n",
              "<style scoped>\n",
              "    .dataframe tbody tr th:only-of-type {\n",
              "        vertical-align: middle;\n",
              "    }\n",
              "\n",
              "    .dataframe tbody tr th {\n",
              "        vertical-align: top;\n",
              "    }\n",
              "\n",
              "    .dataframe thead th {\n",
              "        text-align: right;\n",
              "    }\n",
              "</style>\n",
              "<table border=\"1\" class=\"dataframe\">\n",
              "  <thead>\n",
              "    <tr style=\"text-align: right;\">\n",
              "      <th></th>\n",
              "      <th>Borough</th>\n",
              "      <th>ZipCode</th>\n",
              "      <th>Block</th>\n",
              "      <th>Lot</th>\n",
              "      <th>NoOfResidentialUnits</th>\n",
              "      <th>NoOfCommercialUnits</th>\n",
              "      <th>TotalNoOfUnits</th>\n",
              "      <th>LandAreaInSqFt</th>\n",
              "      <th>GrossAreaInSqFt</th>\n",
              "      <th>YearOfConstruction</th>\n",
              "      <th>TaxClass_AtEvaluationTime</th>\n",
              "      <th>PropertyEvaluationvalue</th>\n",
              "    </tr>\n",
              "  </thead>\n",
              "  <tbody>\n",
              "    <tr>\n",
              "      <th>Borough</th>\n",
              "      <td>1.000000</td>\n",
              "      <td>0.488406</td>\n",
              "      <td>0.313951</td>\n",
              "      <td>0.005866</td>\n",
              "      <td>-0.005122</td>\n",
              "      <td>-0.006849</td>\n",
              "      <td>-0.006620</td>\n",
              "      <td>0.002994</td>\n",
              "      <td>0.005231</td>\n",
              "      <td>-0.168352</td>\n",
              "      <td>0.003318</td>\n",
              "      <td>0.049743</td>\n",
              "    </tr>\n",
              "    <tr>\n",
              "      <th>ZipCode</th>\n",
              "      <td>0.488406</td>\n",
              "      <td>1.000000</td>\n",
              "      <td>0.528438</td>\n",
              "      <td>-0.125573</td>\n",
              "      <td>0.014876</td>\n",
              "      <td>-0.002288</td>\n",
              "      <td>0.013504</td>\n",
              "      <td>-0.046456</td>\n",
              "      <td>-0.090817</td>\n",
              "      <td>-0.261036</td>\n",
              "      <td>-0.044437</td>\n",
              "      <td>-0.012603</td>\n",
              "    </tr>\n",
              "    <tr>\n",
              "      <th>Block</th>\n",
              "      <td>0.313951</td>\n",
              "      <td>0.528438</td>\n",
              "      <td>1.000000</td>\n",
              "      <td>-0.240481</td>\n",
              "      <td>-0.008005</td>\n",
              "      <td>-0.024037</td>\n",
              "      <td>-0.013785</td>\n",
              "      <td>-0.046750</td>\n",
              "      <td>-0.083749</td>\n",
              "      <td>-0.269244</td>\n",
              "      <td>-0.234643</td>\n",
              "      <td>-0.186906</td>\n",
              "    </tr>\n",
              "    <tr>\n",
              "      <th>Lot</th>\n",
              "      <td>0.005866</td>\n",
              "      <td>-0.125573</td>\n",
              "      <td>-0.240481</td>\n",
              "      <td>1.000000</td>\n",
              "      <td>-0.025278</td>\n",
              "      <td>-0.000308</td>\n",
              "      <td>-0.024030</td>\n",
              "      <td>0.234273</td>\n",
              "      <td>-0.050164</td>\n",
              "      <td>0.339635</td>\n",
              "      <td>0.280392</td>\n",
              "      <td>0.207938</td>\n",
              "    </tr>\n",
              "    <tr>\n",
              "      <th>NoOfResidentialUnits</th>\n",
              "      <td>-0.005122</td>\n",
              "      <td>0.014876</td>\n",
              "      <td>-0.008005</td>\n",
              "      <td>-0.025278</td>\n",
              "      <td>1.000000</td>\n",
              "      <td>0.073065</td>\n",
              "      <td>0.966332</td>\n",
              "      <td>0.049807</td>\n",
              "      <td>0.467357</td>\n",
              "      <td>0.005098</td>\n",
              "      <td>0.038005</td>\n",
              "      <td>0.098409</td>\n",
              "    </tr>\n",
              "    <tr>\n",
              "      <th>NoOfCommercialUnits</th>\n",
              "      <td>-0.006849</td>\n",
              "      <td>-0.002288</td>\n",
              "      <td>-0.024037</td>\n",
              "      <td>-0.000308</td>\n",
              "      <td>0.073065</td>\n",
              "      <td>1.000000</td>\n",
              "      <td>0.327214</td>\n",
              "      <td>0.660527</td>\n",
              "      <td>0.604961</td>\n",
              "      <td>0.020689</td>\n",
              "      <td>0.219687</td>\n",
              "      <td>0.068230</td>\n",
              "    </tr>\n",
              "    <tr>\n",
              "      <th>TotalNoOfUnits</th>\n",
              "      <td>-0.006620</td>\n",
              "      <td>0.013504</td>\n",
              "      <td>-0.013785</td>\n",
              "      <td>-0.024030</td>\n",
              "      <td>0.966332</td>\n",
              "      <td>0.327214</td>\n",
              "      <td>1.000000</td>\n",
              "      <td>0.217598</td>\n",
              "      <td>0.598885</td>\n",
              "      <td>0.010168</td>\n",
              "      <td>0.092686</td>\n",
              "      <td>0.110843</td>\n",
              "    </tr>\n",
              "    <tr>\n",
              "      <th>LandAreaInSqFt</th>\n",
              "      <td>0.002994</td>\n",
              "      <td>-0.046456</td>\n",
              "      <td>-0.046750</td>\n",
              "      <td>0.234273</td>\n",
              "      <td>0.049807</td>\n",
              "      <td>0.660527</td>\n",
              "      <td>0.217598</td>\n",
              "      <td>1.000000</td>\n",
              "      <td>0.465828</td>\n",
              "      <td>0.018417</td>\n",
              "      <td>0.090533</td>\n",
              "      <td>0.034867</td>\n",
              "    </tr>\n",
              "    <tr>\n",
              "      <th>GrossAreaInSqFt</th>\n",
              "      <td>0.005231</td>\n",
              "      <td>-0.090817</td>\n",
              "      <td>-0.083749</td>\n",
              "      <td>-0.050164</td>\n",
              "      <td>0.467357</td>\n",
              "      <td>0.604961</td>\n",
              "      <td>0.598885</td>\n",
              "      <td>0.465828</td>\n",
              "      <td>1.000000</td>\n",
              "      <td>0.085072</td>\n",
              "      <td>0.328519</td>\n",
              "      <td>0.068621</td>\n",
              "    </tr>\n",
              "    <tr>\n",
              "      <th>YearOfConstruction</th>\n",
              "      <td>-0.168352</td>\n",
              "      <td>-0.261036</td>\n",
              "      <td>-0.269244</td>\n",
              "      <td>0.339635</td>\n",
              "      <td>0.005098</td>\n",
              "      <td>0.020689</td>\n",
              "      <td>0.010168</td>\n",
              "      <td>0.018417</td>\n",
              "      <td>0.085072</td>\n",
              "      <td>1.000000</td>\n",
              "      <td>0.210623</td>\n",
              "      <td>0.113079</td>\n",
              "    </tr>\n",
              "    <tr>\n",
              "      <th>TaxClass_AtEvaluationTime</th>\n",
              "      <td>0.003318</td>\n",
              "      <td>-0.044437</td>\n",
              "      <td>-0.234643</td>\n",
              "      <td>0.280392</td>\n",
              "      <td>0.038005</td>\n",
              "      <td>0.219687</td>\n",
              "      <td>0.092686</td>\n",
              "      <td>0.090533</td>\n",
              "      <td>0.328519</td>\n",
              "      <td>0.210623</td>\n",
              "      <td>1.000000</td>\n",
              "      <td>0.402181</td>\n",
              "    </tr>\n",
              "    <tr>\n",
              "      <th>PropertyEvaluationvalue</th>\n",
              "      <td>0.049743</td>\n",
              "      <td>-0.012603</td>\n",
              "      <td>-0.186906</td>\n",
              "      <td>0.207938</td>\n",
              "      <td>0.098409</td>\n",
              "      <td>0.068230</td>\n",
              "      <td>0.110843</td>\n",
              "      <td>0.034867</td>\n",
              "      <td>0.068621</td>\n",
              "      <td>0.113079</td>\n",
              "      <td>0.402181</td>\n",
              "      <td>1.000000</td>\n",
              "    </tr>\n",
              "  </tbody>\n",
              "</table>\n",
              "</div>\n",
              "      <button class=\"colab-df-convert\" onclick=\"convertToInteractive('df-bec177de-287c-4c47-86f4-82421114ef99')\"\n",
              "              title=\"Convert this dataframe to an interactive table.\"\n",
              "              style=\"display:none;\">\n",
              "        \n",
              "  <svg xmlns=\"http://www.w3.org/2000/svg\" height=\"24px\"viewBox=\"0 0 24 24\"\n",
              "       width=\"24px\">\n",
              "    <path d=\"M0 0h24v24H0V0z\" fill=\"none\"/>\n",
              "    <path d=\"M18.56 5.44l.94 2.06.94-2.06 2.06-.94-2.06-.94-.94-2.06-.94 2.06-2.06.94zm-11 1L8.5 8.5l.94-2.06 2.06-.94-2.06-.94L8.5 2.5l-.94 2.06-2.06.94zm10 10l.94 2.06.94-2.06 2.06-.94-2.06-.94-.94-2.06-.94 2.06-2.06.94z\"/><path d=\"M17.41 7.96l-1.37-1.37c-.4-.4-.92-.59-1.43-.59-.52 0-1.04.2-1.43.59L10.3 9.45l-7.72 7.72c-.78.78-.78 2.05 0 2.83L4 21.41c.39.39.9.59 1.41.59.51 0 1.02-.2 1.41-.59l7.78-7.78 2.81-2.81c.8-.78.8-2.07 0-2.86zM5.41 20L4 18.59l7.72-7.72 1.47 1.35L5.41 20z\"/>\n",
              "  </svg>\n",
              "      </button>\n",
              "      \n",
              "  <style>\n",
              "    .colab-df-container {\n",
              "      display:flex;\n",
              "      flex-wrap:wrap;\n",
              "      gap: 12px;\n",
              "    }\n",
              "\n",
              "    .colab-df-convert {\n",
              "      background-color: #E8F0FE;\n",
              "      border: none;\n",
              "      border-radius: 50%;\n",
              "      cursor: pointer;\n",
              "      display: none;\n",
              "      fill: #1967D2;\n",
              "      height: 32px;\n",
              "      padding: 0 0 0 0;\n",
              "      width: 32px;\n",
              "    }\n",
              "\n",
              "    .colab-df-convert:hover {\n",
              "      background-color: #E2EBFA;\n",
              "      box-shadow: 0px 1px 2px rgba(60, 64, 67, 0.3), 0px 1px 3px 1px rgba(60, 64, 67, 0.15);\n",
              "      fill: #174EA6;\n",
              "    }\n",
              "\n",
              "    [theme=dark] .colab-df-convert {\n",
              "      background-color: #3B4455;\n",
              "      fill: #D2E3FC;\n",
              "    }\n",
              "\n",
              "    [theme=dark] .colab-df-convert:hover {\n",
              "      background-color: #434B5C;\n",
              "      box-shadow: 0px 1px 3px 1px rgba(0, 0, 0, 0.15);\n",
              "      filter: drop-shadow(0px 1px 2px rgba(0, 0, 0, 0.3));\n",
              "      fill: #FFFFFF;\n",
              "    }\n",
              "  </style>\n",
              "\n",
              "      <script>\n",
              "        const buttonEl =\n",
              "          document.querySelector('#df-bec177de-287c-4c47-86f4-82421114ef99 button.colab-df-convert');\n",
              "        buttonEl.style.display =\n",
              "          google.colab.kernel.accessAllowed ? 'block' : 'none';\n",
              "\n",
              "        async function convertToInteractive(key) {\n",
              "          const element = document.querySelector('#df-bec177de-287c-4c47-86f4-82421114ef99');\n",
              "          const dataTable =\n",
              "            await google.colab.kernel.invokeFunction('convertToInteractive',\n",
              "                                                     [key], {});\n",
              "          if (!dataTable) return;\n",
              "\n",
              "          const docLinkHtml = 'Like what you see? Visit the ' +\n",
              "            '<a target=\"_blank\" href=https://colab.research.google.com/notebooks/data_table.ipynb>data table notebook</a>'\n",
              "            + ' to learn more about interactive tables.';\n",
              "          element.innerHTML = '';\n",
              "          dataTable['output_type'] = 'display_data';\n",
              "          await google.colab.output.renderOutput(dataTable, element);\n",
              "          const docLink = document.createElement('div');\n",
              "          docLink.innerHTML = docLinkHtml;\n",
              "          element.appendChild(docLink);\n",
              "        }\n",
              "      </script>\n",
              "    </div>\n",
              "  </div>\n",
              "  "
            ]
          },
          "metadata": {},
          "execution_count": 14
        }
      ],
      "source": [
        "corr = df.corr()\n",
        "corr"
      ],
      "id": "00826f62"
    },
    {
      "cell_type": "code",
      "execution_count": 15,
      "metadata": {
        "colab": {
          "base_uri": "https://localhost:8080/",
          "height": 413
        },
        "id": "e5232e9c",
        "outputId": "62d693fb-a2b5-4eee-9413-98d6bda7b584",
        "scrolled": true
      },
      "outputs": [
        {
          "output_type": "execute_result",
          "data": {
            "text/plain": [
              "<matplotlib.axes._subplots.AxesSubplot at 0x7f8300dac110>"
            ]
          },
          "metadata": {},
          "execution_count": 15
        },
        {
          "output_type": "display_data",
          "data": {
            "text/plain": [
              "<Figure size 432x288 with 2 Axes>"
            ],
            "image/png": "[encoded data removed]"
          },
          "metadata": {
            "needs_background": "light"
          }
        }
      ],
      "source": [
        "# Visulaizing the heatmap of complete dataset\n",
        "\n",
        "sns.heatmap(corr)"
      ],
      "id": "e5232e9c"
    },
    {
      "cell_type": "code",
      "execution_count": 16,
      "metadata": {
        "id": "9b99e0b3"
      },
      "outputs": [],
      "source": [
        "#since TotalNoOfUnits and NoOfResidentialUnits have strong co relation drop one column\n",
        "\n",
        "df = df.drop(['TotalNoOfUnits'],  axis=1)"
      ],
      "id": "9b99e0b3"
    },
    {
      "cell_type": "code",
      "execution_count": 17,
      "metadata": {
        "colab": {
          "base_uri": "https://localhost:8080/",
          "height": 0
        },
        "id": "aad222ec",
        "outputId": "3289f5d1-e190-4f09-8b30-f4e89fa7ec0e"
      },
      "outputs": [
        {
          "output_type": "execute_result",
          "data": {
            "text/plain": [
              "Index(['PropertyID', 'Borough', 'State', 'Surroundings', 'Address', 'ZipCode',\n",
              "       'Block', 'Lot', 'BldgClassCategory', 'NoOfResidentialUnits',\n",
              "       'NoOfCommercialUnits', 'LandAreaInSqFt', 'GrossAreaInSqFt',\n",
              "       'YearOfConstruction', 'TaxClass_AtEvaluationTime',\n",
              "       'BldgClass_AtEvaluationTime', 'DateOfEvaluation',\n",
              "       'PropertyEvaluationvalue'],\n",
              "      dtype='object')"
            ]
          },
          "metadata": {},
          "execution_count": 17
        }
      ],
      "source": [
        "df.columns"
      ],
      "id": "aad222ec"
    },
    {
      "cell_type": "code",
      "execution_count": 18,
      "metadata": {
        "colab": {
          "base_uri": "https://localhost:8080/",
          "height": 364
        },
        "id": "b25e3e9a",
        "outputId": "eb8fe94d-74d3-4400-df69-f955e494cf0b"
      },
      "outputs": [
        {
          "output_type": "execute_result",
          "data": {
            "text/plain": [
              "            Borough       ZipCode         Block           Lot  \\\n",
              "count  16810.000000  16810.000000  16810.000000  16810.000000   \n",
              "mean       3.439143  10871.027543   5428.122308    266.327722   \n",
              "std        1.398950    522.996869   3710.031921    542.420132   \n",
              "min        1.000000  10001.000000      6.000000      1.000000   \n",
              "25%        2.000000  10312.000000   2401.250000     25.000000   \n",
              "50%        3.000000  11207.000000   5050.000000     52.000000   \n",
              "75%        5.000000  11364.000000   7376.750000    138.000000   \n",
              "max        5.000000  11694.000000  16314.000000   5323.000000   \n",
              "\n",
              "       NoOfResidentialUnits  NoOfCommercialUnits  LandAreaInSqFt  \\\n",
              "count          16810.000000         16810.000000    1.681000e+04   \n",
              "mean               1.862225             0.137775    1.092492e+04   \n",
              "std                8.027805             2.185857    5.837620e+04   \n",
              "min                0.000000             0.000000    1.000000e+00   \n",
              "25%                1.000000             0.000000    2.100000e+03   \n",
              "50%                1.000000             0.000000    3.200000e+03   \n",
              "75%                2.000000             0.000000    5.000000e+03   \n",
              "max              437.000000           252.000000    5.612000e+06   \n",
              "\n",
              "       GrossAreaInSqFt  YearOfConstruction  TaxClass_AtEvaluationTime  \\\n",
              "count     1.681000e+04        16810.000000               16810.000000   \n",
              "mean      3.612157e+03         1973.982867                   1.289530   \n",
              "std       1.627378e+04           23.632595                   0.713779   \n",
              "min       1.000000e+00         1941.000000                   1.000000   \n",
              "25%       1.224000e+03         1951.000000                   1.000000   \n",
              "50%       1.750000e+03         1968.000000                   1.000000   \n",
              "75%       2.449750e+03         1998.000000                   1.000000   \n",
              "max       1.172005e+06         2012.000000                   4.000000   \n",
              "\n",
              "       PropertyEvaluationvalue  \n",
              "count             1.681000e+04  \n",
              "mean              8.084101e+05  \n",
              "std               8.978317e+05  \n",
              "min               1.000440e+05  \n",
              "25%               4.250000e+05  \n",
              "50%               5.900000e+05  \n",
              "75%               8.450000e+05  \n",
              "max               9.935000e+06  "
            ],
            "text/html": [
              "\n",
              "  <div id=\"df-05025cdb-c842-4a32-9f2d-1bacd3a68d7b\">\n",
              "    <div class=\"colab-df-container\">\n",
              "      <div>\n",
              "<style scoped>\n",
              "    .dataframe tbody tr th:only-of-type {\n",
              "        vertical-align: middle;\n",
              "    }\n",
              "\n",
              "    .dataframe tbody tr th {\n",
              "        vertical-align: top;\n",
              "    }\n",
              "\n",
              "    .dataframe thead th {\n",
              "        text-align: right;\n",
              "    }\n",
              "</style>\n",
              "<table border=\"1\" class=\"dataframe\">\n",
              "  <thead>\n",
              "    <tr style=\"text-align: right;\">\n",
              "      <th></th>\n",
              "      <th>Borough</th>\n",
              "      <th>ZipCode</th>\n",
              "      <th>Block</th>\n",
              "      <th>Lot</th>\n",
              "      <th>NoOfResidentialUnits</th>\n",
              "      <th>NoOfCommercialUnits</th>\n",
              "      <th>LandAreaInSqFt</th>\n",
              "      <th>GrossAreaInSqFt</th>\n",
              "      <th>YearOfConstruction</th>\n",
              "      <th>TaxClass_AtEvaluationTime</th>\n",
              "      <th>PropertyEvaluationvalue</th>\n",
              "    </tr>\n",
              "  </thead>\n",
              "  <tbody>\n",
              "    <tr>\n",
              "      <th>count</th>\n",
              "      <td>16810.000000</td>\n",
              "      <td>16810.000000</td>\n",
              "      <td>16810.000000</td>\n",
              "      <td>16810.000000</td>\n",
              "      <td>16810.000000</td>\n",
              "      <td>16810.000000</td>\n",
              "      <td>1.681000e+04</td>\n",
              "      <td>1.681000e+04</td>\n",
              "      <td>16810.000000</td>\n",
              "      <td>16810.000000</td>\n",
              "      <td>1.681000e+04</td>\n",
              "    </tr>\n",
              "    <tr>\n",
              "      <th>mean</th>\n",
              "      <td>3.439143</td>\n",
              "      <td>10871.027543</td>\n",
              "      <td>5428.122308</td>\n",
              "      <td>266.327722</td>\n",
              "      <td>1.862225</td>\n",
              "      <td>0.137775</td>\n",
              "      <td>1.092492e+04</td>\n",
              "      <td>3.612157e+03</td>\n",
              "      <td>1973.982867</td>\n",
              "      <td>1.289530</td>\n",
              "      <td>8.084101e+05</td>\n",
              "    </tr>\n",
              "    <tr>\n",
              "      <th>std</th>\n",
              "      <td>1.398950</td>\n",
              "      <td>522.996869</td>\n",
              "      <td>3710.031921</td>\n",
              "      <td>542.420132</td>\n",
              "      <td>8.027805</td>\n",
              "      <td>2.185857</td>\n",
              "      <td>5.837620e+04</td>\n",
              "      <td>1.627378e+04</td>\n",
              "      <td>23.632595</td>\n",
              "      <td>0.713779</td>\n",
              "      <td>8.978317e+05</td>\n",
              "    </tr>\n",
              "    <tr>\n",
              "      <th>min</th>\n",
              "      <td>1.000000</td>\n",
              "      <td>10001.000000</td>\n",
              "      <td>6.000000</td>\n",
              "      <td>1.000000</td>\n",
              "      <td>0.000000</td>\n",
              "      <td>0.000000</td>\n",
              "      <td>1.000000e+00</td>\n",
              "      <td>1.000000e+00</td>\n",
              "      <td>1941.000000</td>\n",
              "      <td>1.000000</td>\n",
              "      <td>1.000440e+05</td>\n",
              "    </tr>\n",
              "    <tr>\n",
              "      <th>25%</th>\n",
              "      <td>2.000000</td>\n",
              "      <td>10312.000000</td>\n",
              "      <td>2401.250000</td>\n",
              "      <td>25.000000</td>\n",
              "      <td>1.000000</td>\n",
              "      <td>0.000000</td>\n",
              "      <td>2.100000e+03</td>\n",
              "      <td>1.224000e+03</td>\n",
              "      <td>1951.000000</td>\n",
              "      <td>1.000000</td>\n",
              "      <td>4.250000e+05</td>\n",
              "    </tr>\n",
              "    <tr>\n",
              "      <th>50%</th>\n",
              "      <td>3.000000</td>\n",
              "      <td>11207.000000</td>\n",
              "      <td>5050.000000</td>\n",
              "      <td>52.000000</td>\n",
              "      <td>1.000000</td>\n",
              "      <td>0.000000</td>\n",
              "      <td>3.200000e+03</td>\n",
              "      <td>1.750000e+03</td>\n",
              "      <td>1968.000000</td>\n",
              "      <td>1.000000</td>\n",
              "      <td>5.900000e+05</td>\n",
              "    </tr>\n",
              "    <tr>\n",
              "      <th>75%</th>\n",
              "      <td>5.000000</td>\n",
              "      <td>11364.000000</td>\n",
              "      <td>7376.750000</td>\n",
              "      <td>138.000000</td>\n",
              "      <td>2.000000</td>\n",
              "      <td>0.000000</td>\n",
              "      <td>5.000000e+03</td>\n",
              "      <td>2.449750e+03</td>\n",
              "      <td>1998.000000</td>\n",
              "      <td>1.000000</td>\n",
              "      <td>8.450000e+05</td>\n",
              "    </tr>\n",
              "    <tr>\n",
              "      <th>max</th>\n",
              "      <td>5.000000</td>\n",
              "      <td>11694.000000</td>\n",
              "      <td>16314.000000</td>\n",
              "      <td>5323.000000</td>\n",
              "      <td>437.000000</td>\n",
              "      <td>252.000000</td>\n",
              "      <td>5.612000e+06</td>\n",
              "      <td>1.172005e+06</td>\n",
              "      <td>2012.000000</td>\n",
              "      <td>4.000000</td>\n",
              "      <td>9.935000e+06</td>\n",
              "    </tr>\n",
              "  </tbody>\n",
              "</table>\n",
              "</div>\n",
              "      <button class=\"colab-df-convert\" onclick=\"convertToInteractive('df-05025cdb-c842-4a32-9f2d-1bacd3a68d7b')\"\n",
              "              title=\"Convert this dataframe to an interactive table.\"\n",
              "              style=\"display:none;\">\n",
              "        \n",
              "  <svg xmlns=\"http://www.w3.org/2000/svg\" height=\"24px\"viewBox=\"0 0 24 24\"\n",
              "       width=\"24px\">\n",
              "    <path d=\"M0 0h24v24H0V0z\" fill=\"none\"/>\n",
              "    <path d=\"M18.56 5.44l.94 2.06.94-2.06 2.06-.94-2.06-.94-.94-2.06-.94 2.06-2.06.94zm-11 1L8.5 8.5l.94-2.06 2.06-.94-2.06-.94L8.5 2.5l-.94 2.06-2.06.94zm10 10l.94 2.06.94-2.06 2.06-.94-2.06-.94-.94-2.06-.94 2.06-2.06.94z\"/><path d=\"M17.41 7.96l-1.37-1.37c-.4-.4-.92-.59-1.43-.59-.52 0-1.04.2-1.43.59L10.3 9.45l-7.72 7.72c-.78.78-.78 2.05 0 2.83L4 21.41c.39.39.9.59 1.41.59.51 0 1.02-.2 1.41-.59l7.78-7.78 2.81-2.81c.8-.78.8-2.07 0-2.86zM5.41 20L4 18.59l7.72-7.72 1.47 1.35L5.41 20z\"/>\n",
              "  </svg>\n",
              "      </button>\n",
              "      \n",
              "  <style>\n",
              "    .colab-df-container {\n",
              "      display:flex;\n",
              "      flex-wrap:wrap;\n",
              "      gap: 12px;\n",
              "    }\n",
              "\n",
              "    .colab-df-convert {\n",
              "      background-color: #E8F0FE;\n",
              "      border: none;\n",
              "      border-radius: 50%;\n",
              "      cursor: pointer;\n",
              "      display: none;\n",
              "      fill: #1967D2;\n",
              "      height: 32px;\n",
              "      padding: 0 0 0 0;\n",
              "      width: 32px;\n",
              "    }\n",
              "\n",
              "    .colab-df-convert:hover {\n",
              "      background-color: #E2EBFA;\n",
              "      box-shadow: 0px 1px 2px rgba(60, 64, 67, 0.3), 0px 1px 3px 1px rgba(60, 64, 67, 0.15);\n",
              "      fill: #174EA6;\n",
              "    }\n",
              "\n",
              "    [theme=dark] .colab-df-convert {\n",
              "      background-color: #3B4455;\n",
              "      fill: #D2E3FC;\n",
              "    }\n",
              "\n",
              "    [theme=dark] .colab-df-convert:hover {\n",
              "      background-color: #434B5C;\n",
              "      box-shadow: 0px 1px 3px 1px rgba(0, 0, 0, 0.15);\n",
              "      filter: drop-shadow(0px 1px 2px rgba(0, 0, 0, 0.3));\n",
              "      fill: #FFFFFF;\n",
              "    }\n",
              "  </style>\n",
              "\n",
              "      <script>\n",
              "        const buttonEl =\n",
              "          document.querySelector('#df-05025cdb-c842-4a32-9f2d-1bacd3a68d7b button.colab-df-convert');\n",
              "        buttonEl.style.display =\n",
              "          google.colab.kernel.accessAllowed ? 'block' : 'none';\n",
              "\n",
              "        async function convertToInteractive(key) {\n",
              "          const element = document.querySelector('#df-05025cdb-c842-4a32-9f2d-1bacd3a68d7b');\n",
              "          const dataTable =\n",
              "            await google.colab.kernel.invokeFunction('convertToInteractive',\n",
              "                                                     [key], {});\n",
              "          if (!dataTable) return;\n",
              "\n",
              "          const docLinkHtml = 'Like what you see? Visit the ' +\n",
              "            '<a target=\"_blank\" href=https://colab.research.google.com/notebooks/data_table.ipynb>data table notebook</a>'\n",
              "            + ' to learn more about interactive tables.';\n",
              "          element.innerHTML = '';\n",
              "          dataTable['output_type'] = 'display_data';\n",
              "          await google.colab.output.renderOutput(dataTable, element);\n",
              "          const docLink = document.createElement('div');\n",
              "          docLink.innerHTML = docLinkHtml;\n",
              "          element.appendChild(docLink);\n",
              "        }\n",
              "      </script>\n",
              "    </div>\n",
              "  </div>\n",
              "  "
            ]
          },
          "metadata": {},
          "execution_count": 18
        }
      ],
      "source": [
        "df.describe()"
      ],
      "id": "b25e3e9a"
    },
    {
      "cell_type": "code",
      "execution_count": 19,
      "metadata": {
        "colab": {
          "base_uri": "https://localhost:8080/",
          "height": 354
        },
        "id": "5a0dd3aa",
        "outputId": "79f9197e-05eb-480f-84dc-90c08817298f",
        "scrolled": true
      },
      "outputs": [
        {
          "output_type": "stream",
          "name": "stderr",
          "text": [
            "/usr/local/lib/python3.7/dist-packages/seaborn/_decorators.py:43: FutureWarning: Pass the following variable as a keyword arg: x. From version 0.12, the only valid positional argument will be `data`, and passing other arguments without an explicit keyword will result in an error or misinterpretation.\n",
            "  FutureWarning\n"
          ]
        },
        {
          "output_type": "execute_result",
          "data": {
            "text/plain": [
              "<matplotlib.axes._subplots.AxesSubplot at 0x7f82fb227c50>"
            ]
          },
          "metadata": {},
          "execution_count": 19
        },
        {
          "output_type": "display_data",
          "data": {
            "text/plain": [
              "<Figure size 432x288 with 1 Axes>"
            ],
            "image/png": "[encoded data removed]"
          },
          "metadata": {
            "needs_background": "light"
          }
        }
      ],
      "source": [
        "sns.boxplot(df['Lot'])"
      ],
      "id": "5a0dd3aa"
    },
    {
      "cell_type": "code",
      "execution_count": 20,
      "metadata": {
        "colab": {
          "base_uri": "https://localhost:8080/",
          "height": 426
        },
        "id": "8db73624",
        "outputId": "a61af329-7814-46f6-93ab-44558b144236",
        "scrolled": true
      },
      "outputs": [
        {
          "output_type": "execute_result",
          "data": {
            "text/plain": [
              "{'whiskers': [<matplotlib.lines.Line2D at 0x7f82facbe090>,\n",
              "  <matplotlib.lines.Line2D at 0x7f82facbe690>],\n",
              " 'caps': [<matplotlib.lines.Line2D at 0x7f82facbebd0>,\n",
              "  <matplotlib.lines.Line2D at 0x7f82facc6150>],\n",
              " 'boxes': [<matplotlib.lines.Line2D at 0x7f82fad37b10>],\n",
              " 'medians': [<matplotlib.lines.Line2D at 0x7f82facc6650>],\n",
              " 'fliers': [<matplotlib.lines.Line2D at 0x7f82facc6b90>],\n",
              " 'means': []}"
            ]
          },
          "metadata": {},
          "execution_count": 20
        },
        {
          "output_type": "display_data",
          "data": {
            "text/plain": [
              "<Figure size 432x288 with 1 Axes>"
            ],
            "image/png": "[encoded data removed]"
          },
          "metadata": {
            "needs_background": "light"
          }
        }
      ],
      "source": [
        "plt.boxplot(df['PropertyEvaluationvalue'], vert = False)"
      ],
      "id": "8db73624"
    },
    {
      "cell_type": "code",
      "execution_count": 21,
      "metadata": {
        "colab": {
          "base_uri": "https://localhost:8080/",
          "height": 426
        },
        "id": "0b43bdc5",
        "outputId": "5e5fb120-973f-4538-ea60-90a41a66cdc9",
        "scrolled": false
      },
      "outputs": [
        {
          "output_type": "execute_result",
          "data": {
            "text/plain": [
              "{'whiskers': [<matplotlib.lines.Line2D at 0x7f82faca8a10>,\n",
              "  <matplotlib.lines.Line2D at 0x7f82faca8f50>],\n",
              " 'caps': [<matplotlib.lines.Line2D at 0x7f82facad4d0>,\n",
              "  <matplotlib.lines.Line2D at 0x7f82facada10>],\n",
              " 'boxes': [<matplotlib.lines.Line2D at 0x7f82faca8490>],\n",
              " 'medians': [<matplotlib.lines.Line2D at 0x7f82facadf90>],\n",
              " 'fliers': [<matplotlib.lines.Line2D at 0x7f82facb6510>],\n",
              " 'means': []}"
            ]
          },
          "metadata": {},
          "execution_count": 21
        },
        {
          "output_type": "display_data",
          "data": {
            "text/plain": [
              "<Figure size 432x288 with 1 Axes>"
            ],
            "image/png": "[encoded data removed]"
          },
          "metadata": {
            "needs_background": "light"
          }
        }
      ],
      "source": [
        "plt.boxplot(df['GrossAreaInSqFt'], vert = False)"
      ],
      "id": "0b43bdc5"
    },
    {
      "cell_type": "code",
      "execution_count": 22,
      "metadata": {
        "colab": {
          "base_uri": "https://localhost:8080/",
          "height": 354
        },
        "id": "bffb3759",
        "outputId": "7c429610-bf43-485b-ef6e-d1da5b049480"
      },
      "outputs": [
        {
          "output_type": "stream",
          "name": "stderr",
          "text": [
            "/usr/local/lib/python3.7/dist-packages/seaborn/_decorators.py:43: FutureWarning: Pass the following variable as a keyword arg: x. From version 0.12, the only valid positional argument will be `data`, and passing other arguments without an explicit keyword will result in an error or misinterpretation.\n",
            "  FutureWarning\n"
          ]
        },
        {
          "output_type": "execute_result",
          "data": {
            "text/plain": [
              "<matplotlib.axes._subplots.AxesSubplot at 0x7f82face4810>"
            ]
          },
          "metadata": {},
          "execution_count": 22
        },
        {
          "output_type": "display_data",
          "data": {
            "text/plain": [
              "<Figure size 432x288 with 1 Axes>"
            ],
            "image/png": "[encoded data removed]"
          },
          "metadata": {
            "needs_background": "light"
          }
        }
      ],
      "source": [
        "sns.boxplot(df['LandAreaInSqFt'])"
      ],
      "id": "bffb3759"
    },
    {
      "cell_type": "code",
      "execution_count": 23,
      "metadata": {
        "id": "4e983c73"
      },
      "outputs": [],
      "source": [
        "#outlier treatment by upper bound and lower bound\n",
        "\n",
        "per25 = df['Lot'].quantile(0.25)\n",
        "per75 = df['Lot'].quantile(0.75)"
      ],
      "id": "4e983c73"
    },
    {
      "cell_type": "code",
      "execution_count": 24,
      "metadata": {
        "colab": {
          "base_uri": "https://localhost:8080/",
          "height": 0
        },
        "id": "eb0bfb37",
        "outputId": "8c29da98-430b-469f-cab3-6731c254bfd4"
      },
      "outputs": [
        {
          "output_type": "execute_result",
          "data": {
            "text/plain": [
              "25.0"
            ]
          },
          "metadata": {},
          "execution_count": 24
        }
      ],
      "source": [
        "per25"
      ],
      "id": "eb0bfb37"
    },
    {
      "cell_type": "code",
      "execution_count": 25,
      "metadata": {
        "colab": {
          "base_uri": "https://localhost:8080/",
          "height": 0
        },
        "id": "d5ac7f1d",
        "outputId": "9453399a-79d5-49ca-e1c8-447277548074"
      },
      "outputs": [
        {
          "output_type": "execute_result",
          "data": {
            "text/plain": [
              "138.0"
            ]
          },
          "metadata": {},
          "execution_count": 25
        }
      ],
      "source": [
        "per75"
      ],
      "id": "d5ac7f1d"
    },
    {
      "cell_type": "code",
      "execution_count": 26,
      "metadata": {
        "id": "f5c06b7b"
      },
      "outputs": [],
      "source": [
        "iqr = per75 - per25"
      ],
      "id": "f5c06b7b"
    },
    {
      "cell_type": "code",
      "execution_count": 27,
      "metadata": {
        "colab": {
          "base_uri": "https://localhost:8080/",
          "height": 0
        },
        "id": "2728630c",
        "outputId": "f690e2a5-9f8b-43c5-f8e4-555343ab3884"
      },
      "outputs": [
        {
          "output_type": "execute_result",
          "data": {
            "text/plain": [
              "113.0"
            ]
          },
          "metadata": {},
          "execution_count": 27
        }
      ],
      "source": [
        "iqr"
      ],
      "id": "2728630c"
    },
    {
      "cell_type": "code",
      "execution_count": 28,
      "metadata": {
        "id": "318f8233"
      },
      "outputs": [],
      "source": [
        "upper_limit = per75 + 1.5 * iqr\n",
        "lower_limit = per25 - 1.5 * iqr"
      ],
      "id": "318f8233"
    },
    {
      "cell_type": "code",
      "execution_count": 29,
      "metadata": {
        "colab": {
          "base_uri": "https://localhost:8080/",
          "height": 0
        },
        "id": "0cc8abd1",
        "outputId": "cb40b55f-8d66-4ecd-a6c6-ed6de9b19d1a"
      },
      "outputs": [
        {
          "output_type": "execute_result",
          "data": {
            "text/plain": [
              "307.5"
            ]
          },
          "metadata": {},
          "execution_count": 29
        }
      ],
      "source": [
        "upper_limit"
      ],
      "id": "0cc8abd1"
    },
    {
      "cell_type": "code",
      "execution_count": 30,
      "metadata": {
        "colab": {
          "base_uri": "https://localhost:8080/",
          "height": 0
        },
        "id": "822c3582",
        "outputId": "58b875ee-aa93-4770-b728-032a36de03b9"
      },
      "outputs": [
        {
          "output_type": "execute_result",
          "data": {
            "text/plain": [
              "-144.5"
            ]
          },
          "metadata": {},
          "execution_count": 30
        }
      ],
      "source": [
        "lower_limit"
      ],
      "id": "822c3582"
    },
    {
      "cell_type": "code",
      "execution_count": 31,
      "metadata": {
        "colab": {
          "base_uri": "https://localhost:8080/",
          "height": 817
        },
        "id": "3da08af9",
        "outputId": "b5a0205e-0016-4fb0-8007-37be21306ad2"
      },
      "outputs": [
        {
          "output_type": "execute_result",
          "data": {
            "text/plain": [
              "      PropertyID  Borough State  Surroundings               Address  ZipCode  \\\n",
              "51       PR11152        3    NY      NEW DORP         26 EVA AVENUE    10306   \n",
              "58       PR11159        3    NY      NEW DORP         40 EVA AVENUE    10306   \n",
              "78       PR11179        3    NY      NEW DORP    48A FRANCINE COURT    10306   \n",
              "88       PR11189        3    NY      NEW DORP    36B FRANCINE COURT    10306   \n",
              "139      PR11240        3    NY    GRANT CITY    175 ZOE STREET, 1E    10305   \n",
              "...          ...      ...   ...           ...                   ...      ...   \n",
              "16804    PR27905        4    NY  CIVIC CENTER         56 LEONARD ST    10013   \n",
              "16805    PR27906        4    NY  CIVIC CENTER         30 PARK PLACE    10007   \n",
              "16806    PR27907        4    NY  CIVIC CENTER     56 LEONARD STREET    10013   \n",
              "16807    PR27908        4    NY  CIVIC CENTER     56 LEONARD STREET    10013   \n",
              "16808    PR27909        4    NY       TRIBECA  250 SOUTH END AVENUE    10280   \n",
              "\n",
              "       Block   Lot                BldgClassCategory  NoOfResidentialUnits  \\\n",
              "51      4058   348          01 ONE FAMILY DWELLINGS                     1   \n",
              "58      4058   354          01 ONE FAMILY DWELLINGS                     1   \n",
              "78      4229  1051            04 TAX CLASS 1 CONDOS                     1   \n",
              "88      4229  1058            04 TAX CLASS 1 CONDOS                     1   \n",
              "139     3543  1005  13 CONDOS - ELEVATOR APARTMENTS                     1   \n",
              "...      ...   ...                              ...                   ...   \n",
              "16804    176  1067  13 CONDOS - ELEVATOR APARTMENTS                     1   \n",
              "16805    123  1213  13 CONDOS - ELEVATOR APARTMENTS                     1   \n",
              "16806    176  1054  13 CONDOS - ELEVATOR APARTMENTS                     1   \n",
              "16807    176  1102  13 CONDOS - ELEVATOR APARTMENTS                     1   \n",
              "16808     16  2249  13 CONDOS - ELEVATOR APARTMENTS                     1   \n",
              "\n",
              "       NoOfCommercialUnits  LandAreaInSqFt  GrossAreaInSqFt  \\\n",
              "51                       0            3731             1873   \n",
              "58                       0            3780             1050   \n",
              "78                       0           89120             1265   \n",
              "88                       0           89120              638   \n",
              "139                      0           65497              701   \n",
              "...                    ...             ...              ...   \n",
              "16804                    0           12518             2245   \n",
              "16805                    0           29715             2803   \n",
              "16806                    0           12518             2252   \n",
              "16807                    0           12518             2177   \n",
              "16808                    0           12644              594   \n",
              "\n",
              "       YearOfConstruction  TaxClass_AtEvaluationTime  \\\n",
              "51                   1961                          1   \n",
              "58                   1951                          1   \n",
              "78                   1984                          1   \n",
              "88                   1984                          1   \n",
              "139                  1982                          2   \n",
              "...                   ...                        ...   \n",
              "16804                2003                          2   \n",
              "16805                2004                          2   \n",
              "16806                2003                          2   \n",
              "16807                2003                          2   \n",
              "16808                1981                          2   \n",
              "\n",
              "      BldgClass_AtEvaluationTime DateOfEvaluation  PropertyEvaluationvalue  \n",
              "51                            A2       31-05-2014                   628000  \n",
              "58                            A2       05-09-2014                   552000  \n",
              "78                            R3       21-05-2014                   150000  \n",
              "88                            R3       25-04-2014                   220000  \n",
              "139                           R4       09-01-2015                   279400  \n",
              "...                          ...              ...                      ...  \n",
              "16804                         R4       19-07-2014                  6500000  \n",
              "16805                         R4       30-11-2014                  8454562  \n",
              "16806                         R4       19-12-2014                  6250000  \n",
              "16807                         R4       16-11-2014                  7150000  \n",
              "16808                         R4       17-09-2014                   550000  \n",
              "\n",
              "[2931 rows x 18 columns]"
            ],
            "text/html": [
              "\n",
              "  <div id=\"df-ddae20de-92d4-4ed5-aaaa-ed6bccaad3d0\">\n",
              "    <div class=\"colab-df-container\">\n",
              "      <div>\n",
              "<style scoped>\n",
              "    .dataframe tbody tr th:only-of-type {\n",
              "        vertical-align: middle;\n",
              "    }\n",
              "\n",
              "    .dataframe tbody tr th {\n",
              "        vertical-align: top;\n",
              "    }\n",
              "\n",
              "    .dataframe thead th {\n",
              "        text-align: right;\n",
              "    }\n",
              "</style>\n",
              "<table border=\"1\" class=\"dataframe\">\n",
              "  <thead>\n",
              "    <tr style=\"text-align: right;\">\n",
              "      <th></th>\n",
              "      <th>PropertyID</th>\n",
              "      <th>Borough</th>\n",
              "      <th>State</th>\n",
              "      <th>Surroundings</th>\n",
              "      <th>Address</th>\n",
              "      <th>ZipCode</th>\n",
              "      <th>Block</th>\n",
              "      <th>Lot</th>\n",
              "      <th>BldgClassCategory</th>\n",
              "      <th>NoOfResidentialUnits</th>\n",
              "      <th>NoOfCommercialUnits</th>\n",
              "      <th>LandAreaInSqFt</th>\n",
              "      <th>GrossAreaInSqFt</th>\n",
              "      <th>YearOfConstruction</th>\n",
              "      <th>TaxClass_AtEvaluationTime</th>\n",
              "      <th>BldgClass_AtEvaluationTime</th>\n",
              "      <th>DateOfEvaluation</th>\n",
              "      <th>PropertyEvaluationvalue</th>\n",
              "    </tr>\n",
              "  </thead>\n",
              "  <tbody>\n",
              "    <tr>\n",
              "      <th>51</th>\n",
              "      <td>PR11152</td>\n",
              "      <td>3</td>\n",
              "      <td>NY</td>\n",
              "      <td>NEW DORP</td>\n",
              "      <td>26 EVA AVENUE</td>\n",
              "      <td>10306</td>\n",
              "      <td>4058</td>\n",
              "      <td>348</td>\n",
              "      <td>01 ONE FAMILY DWELLINGS</td>\n",
              "      <td>1</td>\n",
              "      <td>0</td>\n",
              "      <td>3731</td>\n",
              "      <td>1873</td>\n",
              "      <td>1961</td>\n",
              "      <td>1</td>\n",
              "      <td>A2</td>\n",
              "      <td>31-05-2014</td>\n",
              "      <td>628000</td>\n",
              "    </tr>\n",
              "    <tr>\n",
              "      <th>58</th>\n",
              "      <td>PR11159</td>\n",
              "      <td>3</td>\n",
              "      <td>NY</td>\n",
              "      <td>NEW DORP</td>\n",
              "      <td>40 EVA AVENUE</td>\n",
              "      <td>10306</td>\n",
              "      <td>4058</td>\n",
              "      <td>354</td>\n",
              "      <td>01 ONE FAMILY DWELLINGS</td>\n",
              "      <td>1</td>\n",
              "      <td>0</td>\n",
              "      <td>3780</td>\n",
              "      <td>1050</td>\n",
              "      <td>1951</td>\n",
              "      <td>1</td>\n",
              "      <td>A2</td>\n",
              "      <td>05-09-2014</td>\n",
              "      <td>552000</td>\n",
              "    </tr>\n",
              "    <tr>\n",
              "      <th>78</th>\n",
              "      <td>PR11179</td>\n",
              "      <td>3</td>\n",
              "      <td>NY</td>\n",
              "      <td>NEW DORP</td>\n",
              "      <td>48A FRANCINE COURT</td>\n",
              "      <td>10306</td>\n",
              "      <td>4229</td>\n",
              "      <td>1051</td>\n",
              "      <td>04 TAX CLASS 1 CONDOS</td>\n",
              "      <td>1</td>\n",
              "      <td>0</td>\n",
              "      <td>89120</td>\n",
              "      <td>1265</td>\n",
              "      <td>1984</td>\n",
              "      <td>1</td>\n",
              "      <td>R3</td>\n",
              "      <td>21-05-2014</td>\n",
              "      <td>150000</td>\n",
              "    </tr>\n",
              "    <tr>\n",
              "      <th>88</th>\n",
              "      <td>PR11189</td>\n",
              "      <td>3</td>\n",
              "      <td>NY</td>\n",
              "      <td>NEW DORP</td>\n",
              "      <td>36B FRANCINE COURT</td>\n",
              "      <td>10306</td>\n",
              "      <td>4229</td>\n",
              "      <td>1058</td>\n",
              "      <td>04 TAX CLASS 1 CONDOS</td>\n",
              "      <td>1</td>\n",
              "      <td>0</td>\n",
              "      <td>89120</td>\n",
              "      <td>638</td>\n",
              "      <td>1984</td>\n",
              "      <td>1</td>\n",
              "      <td>R3</td>\n",
              "      <td>25-04-2014</td>\n",
              "      <td>220000</td>\n",
              "    </tr>\n",
              "    <tr>\n",
              "      <th>139</th>\n",
              "      <td>PR11240</td>\n",
              "      <td>3</td>\n",
              "      <td>NY</td>\n",
              "      <td>GRANT CITY</td>\n",
              "      <td>175 ZOE STREET, 1E</td>\n",
              "      <td>10305</td>\n",
              "      <td>3543</td>\n",
              "      <td>1005</td>\n",
              "      <td>13 CONDOS - ELEVATOR APARTMENTS</td>\n",
              "      <td>1</td>\n",
              "      <td>0</td>\n",
              "      <td>65497</td>\n",
              "      <td>701</td>\n",
              "      <td>1982</td>\n",
              "      <td>2</td>\n",
              "      <td>R4</td>\n",
              "      <td>09-01-2015</td>\n",
              "      <td>279400</td>\n",
              "    </tr>\n",
              "    <tr>\n",
              "      <th>...</th>\n",
              "      <td>...</td>\n",
              "      <td>...</td>\n",
              "      <td>...</td>\n",
              "      <td>...</td>\n",
              "      <td>...</td>\n",
              "      <td>...</td>\n",
              "      <td>...</td>\n",
              "      <td>...</td>\n",
              "      <td>...</td>\n",
              "      <td>...</td>\n",
              "      <td>...</td>\n",
              "      <td>...</td>\n",
              "      <td>...</td>\n",
              "      <td>...</td>\n",
              "      <td>...</td>\n",
              "      <td>...</td>\n",
              "      <td>...</td>\n",
              "      <td>...</td>\n",
              "    </tr>\n",
              "    <tr>\n",
              "      <th>16804</th>\n",
              "      <td>PR27905</td>\n",
              "      <td>4</td>\n",
              "      <td>NY</td>\n",
              "      <td>CIVIC CENTER</td>\n",
              "      <td>56 LEONARD ST</td>\n",
              "      <td>10013</td>\n",
              "      <td>176</td>\n",
              "      <td>1067</td>\n",
              "      <td>13 CONDOS - ELEVATOR APARTMENTS</td>\n",
              "      <td>1</td>\n",
              "      <td>0</td>\n",
              "      <td>12518</td>\n",
              "      <td>2245</td>\n",
              "      <td>2003</td>\n",
              "      <td>2</td>\n",
              "      <td>R4</td>\n",
              "      <td>19-07-2014</td>\n",
              "      <td>6500000</td>\n",
              "    </tr>\n",
              "    <tr>\n",
              "      <th>16805</th>\n",
              "      <td>PR27906</td>\n",
              "      <td>4</td>\n",
              "      <td>NY</td>\n",
              "      <td>CIVIC CENTER</td>\n",
              "      <td>30 PARK PLACE</td>\n",
              "      <td>10007</td>\n",
              "      <td>123</td>\n",
              "      <td>1213</td>\n",
              "      <td>13 CONDOS - ELEVATOR APARTMENTS</td>\n",
              "      <td>1</td>\n",
              "      <td>0</td>\n",
              "      <td>29715</td>\n",
              "      <td>2803</td>\n",
              "      <td>2004</td>\n",
              "      <td>2</td>\n",
              "      <td>R4</td>\n",
              "      <td>30-11-2014</td>\n",
              "      <td>8454562</td>\n",
              "    </tr>\n",
              "    <tr>\n",
              "      <th>16806</th>\n",
              "      <td>PR27907</td>\n",
              "      <td>4</td>\n",
              "      <td>NY</td>\n",
              "      <td>CIVIC CENTER</td>\n",
              "      <td>56 LEONARD STREET</td>\n",
              "      <td>10013</td>\n",
              "      <td>176</td>\n",
              "      <td>1054</td>\n",
              "      <td>13 CONDOS - ELEVATOR APARTMENTS</td>\n",
              "      <td>1</td>\n",
              "      <td>0</td>\n",
              "      <td>12518</td>\n",
              "      <td>2252</td>\n",
              "      <td>2003</td>\n",
              "      <td>2</td>\n",
              "      <td>R4</td>\n",
              "      <td>19-12-2014</td>\n",
              "      <td>6250000</td>\n",
              "    </tr>\n",
              "    <tr>\n",
              "      <th>16807</th>\n",
              "      <td>PR27908</td>\n",
              "      <td>4</td>\n",
              "      <td>NY</td>\n",
              "      <td>CIVIC CENTER</td>\n",
              "      <td>56 LEONARD STREET</td>\n",
              "      <td>10013</td>\n",
              "      <td>176</td>\n",
              "      <td>1102</td>\n",
              "      <td>13 CONDOS - ELEVATOR APARTMENTS</td>\n",
              "      <td>1</td>\n",
              "      <td>0</td>\n",
              "      <td>12518</td>\n",
              "      <td>2177</td>\n",
              "      <td>2003</td>\n",
              "      <td>2</td>\n",
              "      <td>R4</td>\n",
              "      <td>16-11-2014</td>\n",
              "      <td>7150000</td>\n",
              "    </tr>\n",
              "    <tr>\n",
              "      <th>16808</th>\n",
              "      <td>PR27909</td>\n",
              "      <td>4</td>\n",
              "      <td>NY</td>\n",
              "      <td>TRIBECA</td>\n",
              "      <td>250 SOUTH END AVENUE</td>\n",
              "      <td>10280</td>\n",
              "      <td>16</td>\n",
              "      <td>2249</td>\n",
              "      <td>13 CONDOS - ELEVATOR APARTMENTS</td>\n",
              "      <td>1</td>\n",
              "      <td>0</td>\n",
              "      <td>12644</td>\n",
              "      <td>594</td>\n",
              "      <td>1981</td>\n",
              "      <td>2</td>\n",
              "      <td>R4</td>\n",
              "      <td>17-09-2014</td>\n",
              "      <td>550000</td>\n",
              "    </tr>\n",
              "  </tbody>\n",
              "</table>\n",
              "<p>2931 rows × 18 columns</p>\n",
              "</div>\n",
              "      <button class=\"colab-df-convert\" onclick=\"convertToInteractive('df-ddae20de-92d4-4ed5-aaaa-ed6bccaad3d0')\"\n",
              "              title=\"Convert this dataframe to an interactive table.\"\n",
              "              style=\"display:none;\">\n",
              "        \n",
              "  <svg xmlns=\"http://www.w3.org/2000/svg\" height=\"24px\"viewBox=\"0 0 24 24\"\n",
              "       width=\"24px\">\n",
              "    <path d=\"M0 0h24v24H0V0z\" fill=\"none\"/>\n",
              "    <path d=\"M18.56 5.44l.94 2.06.94-2.06 2.06-.94-2.06-.94-.94-2.06-.94 2.06-2.06.94zm-11 1L8.5 8.5l.94-2.06 2.06-.94-2.06-.94L8.5 2.5l-.94 2.06-2.06.94zm10 10l.94 2.06.94-2.06 2.06-.94-2.06-.94-.94-2.06-.94 2.06-2.06.94z\"/><path d=\"M17.41 7.96l-1.37-1.37c-.4-.4-.92-.59-1.43-.59-.52 0-1.04.2-1.43.59L10.3 9.45l-7.72 7.72c-.78.78-.78 2.05 0 2.83L4 21.41c.39.39.9.59 1.41.59.51 0 1.02-.2 1.41-.59l7.78-7.78 2.81-2.81c.8-.78.8-2.07 0-2.86zM5.41 20L4 18.59l7.72-7.72 1.47 1.35L5.41 20z\"/>\n",
              "  </svg>\n",
              "      </button>\n",
              "      \n",
              "  <style>\n",
              "    .colab-df-container {\n",
              "      display:flex;\n",
              "      flex-wrap:wrap;\n",
              "      gap: 12px;\n",
              "    }\n",
              "\n",
              "    .colab-df-convert {\n",
              "      background-color: #E8F0FE;\n",
              "      border: none;\n",
              "      border-radius: 50%;\n",
              "      cursor: pointer;\n",
              "      display: none;\n",
              "      fill: #1967D2;\n",
              "      height: 32px;\n",
              "      padding: 0 0 0 0;\n",
              "      width: 32px;\n",
              "    }\n",
              "\n",
              "    .colab-df-convert:hover {\n",
              "      background-color: #E2EBFA;\n",
              "      box-shadow: 0px 1px 2px rgba(60, 64, 67, 0.3), 0px 1px 3px 1px rgba(60, 64, 67, 0.15);\n",
              "      fill: #174EA6;\n",
              "    }\n",
              "\n",
              "    [theme=dark] .colab-df-convert {\n",
              "      background-color: #3B4455;\n",
              "      fill: #D2E3FC;\n",
              "    }\n",
              "\n",
              "    [theme=dark] .colab-df-convert:hover {\n",
              "      background-color: #434B5C;\n",
              "      box-shadow: 0px 1px 3px 1px rgba(0, 0, 0, 0.15);\n",
              "      filter: drop-shadow(0px 1px 2px rgba(0, 0, 0, 0.3));\n",
              "      fill: #FFFFFF;\n",
              "    }\n",
              "  </style>\n",
              "\n",
              "      <script>\n",
              "        const buttonEl =\n",
              "          document.querySelector('#df-ddae20de-92d4-4ed5-aaaa-ed6bccaad3d0 button.colab-df-convert');\n",
              "        buttonEl.style.display =\n",
              "          google.colab.kernel.accessAllowed ? 'block' : 'none';\n",
              "\n",
              "        async function convertToInteractive(key) {\n",
              "          const element = document.querySelector('#df-ddae20de-92d4-4ed5-aaaa-ed6bccaad3d0');\n",
              "          const dataTable =\n",
              "            await google.colab.kernel.invokeFunction('convertToInteractive',\n",
              "                                                     [key], {});\n",
              "          if (!dataTable) return;\n",
              "\n",
              "          const docLinkHtml = 'Like what you see? Visit the ' +\n",
              "            '<a target=\"_blank\" href=https://colab.research.google.com/notebooks/data_table.ipynb>data table notebook</a>'\n",
              "            + ' to learn more about interactive tables.';\n",
              "          element.innerHTML = '';\n",
              "          dataTable['output_type'] = 'display_data';\n",
              "          await google.colab.output.renderOutput(dataTable, element);\n",
              "          const docLink = document.createElement('div');\n",
              "          docLink.innerHTML = docLinkHtml;\n",
              "          element.appendChild(docLink);\n",
              "        }\n",
              "      </script>\n",
              "    </div>\n",
              "  </div>\n",
              "  "
            ]
          },
          "metadata": {},
          "execution_count": 31
        }
      ],
      "source": [
        "df[df['Lot'] > upper_limit]"
      ],
      "id": "3da08af9"
    },
    {
      "cell_type": "code",
      "execution_count": 32,
      "metadata": {
        "id": "24f2c3b7"
      },
      "outputs": [],
      "source": [
        "df['Lot'] = np.where(df['Lot'] > upper_limit, upper_limit,\n",
        "                    np.where(df['Lot'] < lower_limit, lower_limit,\n",
        "                    df['Lot'] ))"
      ],
      "id": "24f2c3b7"
    },
    {
      "cell_type": "code",
      "execution_count": 33,
      "metadata": {
        "colab": {
          "base_uri": "https://localhost:8080/",
          "height": 0
        },
        "collapsed": true,
        "id": "14039902",
        "outputId": "b8572885-5d93-4651-e06f-c3bed338c028"
      },
      "outputs": [
        {
          "output_type": "execute_result",
          "data": {
            "text/plain": [
              "count    16810.000000\n",
              "mean       101.098424\n",
              "std        106.949363\n",
              "min          1.000000\n",
              "25%         25.000000\n",
              "50%         52.000000\n",
              "75%        138.000000\n",
              "max        307.500000\n",
              "Name: Lot, dtype: float64"
            ]
          },
          "metadata": {},
          "execution_count": 33
        }
      ],
      "source": [
        "df['Lot'].describe()"
      ],
      "id": "14039902"
    },
    {
      "cell_type": "code",
      "execution_count": 34,
      "metadata": {
        "colab": {
          "base_uri": "https://localhost:8080/",
          "height": 354
        },
        "collapsed": true,
        "id": "3706a0de",
        "outputId": "04f83609-fb28-4aa6-cff8-22d93bdf6d3b"
      },
      "outputs": [
        {
          "output_type": "stream",
          "name": "stderr",
          "text": [
            "/usr/local/lib/python3.7/dist-packages/seaborn/_decorators.py:43: FutureWarning: Pass the following variable as a keyword arg: x. From version 0.12, the only valid positional argument will be `data`, and passing other arguments without an explicit keyword will result in an error or misinterpretation.\n",
            "  FutureWarning\n"
          ]
        },
        {
          "output_type": "execute_result",
          "data": {
            "text/plain": [
              "<matplotlib.axes._subplots.AxesSubplot at 0x7f82fabcdd90>"
            ]
          },
          "metadata": {},
          "execution_count": 34
        },
        {
          "output_type": "display_data",
          "data": {
            "text/plain": [
              "<Figure size 432x288 with 1 Axes>"
            ],
            "image/png": "[encoded data removed]"
          },
          "metadata": {
            "needs_background": "light"
          }
        }
      ],
      "source": [
        "sns.boxplot(df['Lot'])"
      ],
      "id": "3706a0de"
    },
    {
      "cell_type": "code",
      "execution_count": 35,
      "metadata": {
        "id": "787a9849"
      },
      "outputs": [],
      "source": [
        "#outlier treatment for PropertyEvaluationvalue\n",
        "\n",
        "per25 = df['PropertyEvaluationvalue'].quantile(0.25)\n",
        "per75 = df['PropertyEvaluationvalue'].quantile(0.75)"
      ],
      "id": "787a9849"
    },
    {
      "cell_type": "code",
      "execution_count": 36,
      "metadata": {
        "colab": {
          "base_uri": "https://localhost:8080/",
          "height": 0
        },
        "id": "bb7e7469",
        "outputId": "32a03010-9131-4c30-9828-a80bc17eab41"
      },
      "outputs": [
        {
          "output_type": "execute_result",
          "data": {
            "text/plain": [
              "425000.0"
            ]
          },
          "metadata": {},
          "execution_count": 36
        }
      ],
      "source": [
        "per25"
      ],
      "id": "bb7e7469"
    },
    {
      "cell_type": "code",
      "execution_count": 37,
      "metadata": {
        "colab": {
          "base_uri": "https://localhost:8080/",
          "height": 0
        },
        "id": "4b8a5494",
        "outputId": "1f4a388f-4e1d-456a-8cd0-3425f29520b6"
      },
      "outputs": [
        {
          "output_type": "execute_result",
          "data": {
            "text/plain": [
              "845000.0"
            ]
          },
          "metadata": {},
          "execution_count": 37
        }
      ],
      "source": [
        "per75"
      ],
      "id": "4b8a5494"
    },
    {
      "cell_type": "code",
      "execution_count": 38,
      "metadata": {
        "id": "430b9f2f"
      },
      "outputs": [],
      "source": [
        "iqr = per75 - per25"
      ],
      "id": "430b9f2f"
    },
    {
      "cell_type": "code",
      "execution_count": 39,
      "metadata": {
        "colab": {
          "base_uri": "https://localhost:8080/",
          "height": 0
        },
        "id": "747ac15f",
        "outputId": "66f743cd-0be0-41ec-8a14-5f4c716f1f57"
      },
      "outputs": [
        {
          "output_type": "execute_result",
          "data": {
            "text/plain": [
              "420000.0"
            ]
          },
          "metadata": {},
          "execution_count": 39
        }
      ],
      "source": [
        "iqr"
      ],
      "id": "747ac15f"
    },
    {
      "cell_type": "code",
      "execution_count": 40,
      "metadata": {
        "id": "b979461c"
      },
      "outputs": [],
      "source": [
        "upper_limit = per75 + 1.5 * iqr\n",
        "lower_limit = per25 - 1.5 * iqr"
      ],
      "id": "b979461c"
    },
    {
      "cell_type": "code",
      "execution_count": 41,
      "metadata": {
        "colab": {
          "base_uri": "https://localhost:8080/",
          "height": 0
        },
        "id": "29b70b7f",
        "outputId": "ff2a0e87-d7c0-4293-8bb8-a97540340649"
      },
      "outputs": [
        {
          "output_type": "execute_result",
          "data": {
            "text/plain": [
              "1475000.0"
            ]
          },
          "metadata": {},
          "execution_count": 41
        }
      ],
      "source": [
        "upper_limit"
      ],
      "id": "29b70b7f"
    },
    {
      "cell_type": "code",
      "execution_count": 42,
      "metadata": {
        "colab": {
          "base_uri": "https://localhost:8080/",
          "height": 0
        },
        "id": "91878264",
        "outputId": "10320e2e-184a-46df-f1d5-6d5e4f51dd94"
      },
      "outputs": [
        {
          "output_type": "execute_result",
          "data": {
            "text/plain": [
              "-205000.0"
            ]
          },
          "metadata": {},
          "execution_count": 42
        }
      ],
      "source": [
        "lower_limit"
      ],
      "id": "91878264"
    },
    {
      "cell_type": "code",
      "execution_count": 43,
      "metadata": {
        "id": "57583688"
      },
      "outputs": [],
      "source": [
        "df['PropertyEvaluationvalue'] = np.where(df['PropertyEvaluationvalue'] > upper_limit, upper_limit,\n",
        "                    np.where(df['PropertyEvaluationvalue'] < lower_limit, lower_limit,\n",
        "                    df['PropertyEvaluationvalue'] ))"
      ],
      "id": "57583688"
    },
    {
      "cell_type": "code",
      "execution_count": 44,
      "metadata": {
        "colab": {
          "base_uri": "https://localhost:8080/",
          "height": 0
        },
        "id": "6f8b86c6",
        "outputId": "ffe31082-3c9b-479c-feb1-d5aaa4a80079",
        "scrolled": true
      },
      "outputs": [
        {
          "output_type": "execute_result",
          "data": {
            "text/plain": [
              "count    1.681000e+04\n",
              "mean     6.774504e+05\n",
              "std      3.534746e+05\n",
              "min      1.000440e+05\n",
              "25%      4.250000e+05\n",
              "50%      5.900000e+05\n",
              "75%      8.450000e+05\n",
              "max      1.475000e+06\n",
              "Name: PropertyEvaluationvalue, dtype: float64"
            ]
          },
          "metadata": {},
          "execution_count": 44
        }
      ],
      "source": [
        "df['PropertyEvaluationvalue'].describe()"
      ],
      "id": "6f8b86c6"
    },
    {
      "cell_type": "code",
      "execution_count": 45,
      "metadata": {
        "colab": {
          "base_uri": "https://localhost:8080/",
          "height": 354
        },
        "id": "e7e1afa2",
        "outputId": "d84a52cb-cb2f-4a4b-859e-4ebe9e660a50"
      },
      "outputs": [
        {
          "output_type": "stream",
          "name": "stderr",
          "text": [
            "/usr/local/lib/python3.7/dist-packages/seaborn/_decorators.py:43: FutureWarning: Pass the following variable as a keyword arg: x. From version 0.12, the only valid positional argument will be `data`, and passing other arguments without an explicit keyword will result in an error or misinterpretation.\n",
            "  FutureWarning\n"
          ]
        },
        {
          "output_type": "execute_result",
          "data": {
            "text/plain": [
              "<matplotlib.axes._subplots.AxesSubplot at 0x7f82fab59710>"
            ]
          },
          "metadata": {},
          "execution_count": 45
        },
        {
          "output_type": "display_data",
          "data": {
            "text/plain": [
              "<Figure size 432x288 with 1 Axes>"
            ],
            "image/png": "[encoded data removed]"
          },
          "metadata": {
            "needs_background": "light"
          }
        }
      ],
      "source": [
        "sns.boxplot(df['PropertyEvaluationvalue'])"
      ],
      "id": "e7e1afa2"
    },
    {
      "cell_type": "code",
      "execution_count": 46,
      "metadata": {
        "id": "f0b5820b"
      },
      "outputs": [],
      "source": [
        "#outlier treatment for GrossAreaInSqFt\n",
        "\n",
        "per25 = df['GrossAreaInSqFt'].quantile(0.25)\n",
        "per75 = df['GrossAreaInSqFt'].quantile(0.75)"
      ],
      "id": "f0b5820b"
    },
    {
      "cell_type": "code",
      "execution_count": 47,
      "metadata": {
        "colab": {
          "base_uri": "https://localhost:8080/",
          "height": 0
        },
        "id": "caa1623e",
        "outputId": "0aefcd5a-2021-44c6-8033-81d274e1c875"
      },
      "outputs": [
        {
          "output_type": "execute_result",
          "data": {
            "text/plain": [
              "1224.0"
            ]
          },
          "metadata": {},
          "execution_count": 47
        }
      ],
      "source": [
        "per25"
      ],
      "id": "caa1623e"
    },
    {
      "cell_type": "code",
      "execution_count": 48,
      "metadata": {
        "colab": {
          "base_uri": "https://localhost:8080/",
          "height": 0
        },
        "id": "5251c435",
        "outputId": "a69bc70b-e3e2-46a5-ebb5-bb0f21582a5e"
      },
      "outputs": [
        {
          "output_type": "execute_result",
          "data": {
            "text/plain": [
              "2449.75"
            ]
          },
          "metadata": {},
          "execution_count": 48
        }
      ],
      "source": [
        "per75"
      ],
      "id": "5251c435"
    },
    {
      "cell_type": "code",
      "execution_count": 49,
      "metadata": {
        "id": "a320bed6"
      },
      "outputs": [],
      "source": [
        "iqr = per75 - per25"
      ],
      "id": "a320bed6"
    },
    {
      "cell_type": "code",
      "execution_count": 50,
      "metadata": {
        "colab": {
          "base_uri": "https://localhost:8080/",
          "height": 0
        },
        "id": "e0ed60f1",
        "outputId": "2a0310ae-8f00-4748-dd45-4e3309d5c73a"
      },
      "outputs": [
        {
          "output_type": "execute_result",
          "data": {
            "text/plain": [
              "1225.75"
            ]
          },
          "metadata": {},
          "execution_count": 50
        }
      ],
      "source": [
        "iqr"
      ],
      "id": "e0ed60f1"
    },
    {
      "cell_type": "code",
      "execution_count": 51,
      "metadata": {
        "id": "f19a88a6"
      },
      "outputs": [],
      "source": [
        "upper_limit = per75 + 1.5 * iqr\n",
        "lower_limit = per25 - 1.5 * iqr"
      ],
      "id": "f19a88a6"
    },
    {
      "cell_type": "code",
      "execution_count": 52,
      "metadata": {
        "colab": {
          "base_uri": "https://localhost:8080/",
          "height": 0
        },
        "id": "82288d78",
        "outputId": "2795f178-e408-4223-ad53-d4101fafcd78"
      },
      "outputs": [
        {
          "output_type": "execute_result",
          "data": {
            "text/plain": [
              "4288.375"
            ]
          },
          "metadata": {},
          "execution_count": 52
        }
      ],
      "source": [
        "upper_limit"
      ],
      "id": "82288d78"
    },
    {
      "cell_type": "code",
      "execution_count": 53,
      "metadata": {
        "colab": {
          "base_uri": "https://localhost:8080/",
          "height": 0
        },
        "id": "eb5377bc",
        "outputId": "95bb3853-9e0c-4c1e-de84-f25aa8e9dc0d"
      },
      "outputs": [
        {
          "output_type": "execute_result",
          "data": {
            "text/plain": [
              "-614.625"
            ]
          },
          "metadata": {},
          "execution_count": 53
        }
      ],
      "source": [
        "lower_limit"
      ],
      "id": "eb5377bc"
    },
    {
      "cell_type": "code",
      "execution_count": 54,
      "metadata": {
        "id": "da7a00c5"
      },
      "outputs": [],
      "source": [
        "df['GrossAreaInSqFt'] = np.where(df['GrossAreaInSqFt'] > upper_limit, upper_limit,\n",
        "                    np.where(df['GrossAreaInSqFt'] < lower_limit, lower_limit,\n",
        "                    df['GrossAreaInSqFt'] ))"
      ],
      "id": "da7a00c5"
    },
    {
      "cell_type": "code",
      "execution_count": 55,
      "metadata": {
        "colab": {
          "base_uri": "https://localhost:8080/",
          "height": 0
        },
        "id": "6fdcc3fa",
        "outputId": "074fc9f8-e2d0-45a5-c45d-8fef1e8007e6"
      },
      "outputs": [
        {
          "output_type": "execute_result",
          "data": {
            "text/plain": [
              "count    16810.000000\n",
              "mean      1959.677521\n",
              "std        966.934568\n",
              "min          1.000000\n",
              "25%       1224.000000\n",
              "50%       1750.000000\n",
              "75%       2449.750000\n",
              "max       4288.375000\n",
              "Name: GrossAreaInSqFt, dtype: float64"
            ]
          },
          "metadata": {},
          "execution_count": 55
        }
      ],
      "source": [
        "df['GrossAreaInSqFt'].describe()"
      ],
      "id": "6fdcc3fa"
    },
    {
      "cell_type": "code",
      "execution_count": 56,
      "metadata": {
        "colab": {
          "base_uri": "https://localhost:8080/",
          "height": 354
        },
        "id": "109c95f2",
        "outputId": "88e174ff-b490-487f-cdbf-2684795e5312"
      },
      "outputs": [
        {
          "output_type": "stream",
          "name": "stderr",
          "text": [
            "/usr/local/lib/python3.7/dist-packages/seaborn/_decorators.py:43: FutureWarning: Pass the following variable as a keyword arg: x. From version 0.12, the only valid positional argument will be `data`, and passing other arguments without an explicit keyword will result in an error or misinterpretation.\n",
            "  FutureWarning\n"
          ]
        },
        {
          "output_type": "execute_result",
          "data": {
            "text/plain": [
              "<matplotlib.axes._subplots.AxesSubplot at 0x7f82fe6eae10>"
            ]
          },
          "metadata": {},
          "execution_count": 56
        },
        {
          "output_type": "display_data",
          "data": {
            "text/plain": [
              "<Figure size 432x288 with 1 Axes>"
            ],
            "image/png": "[encoded data removed]"
          },
          "metadata": {
            "needs_background": "light"
          }
        }
      ],
      "source": [
        "sns.boxplot(df['GrossAreaInSqFt'])"
      ],
      "id": "109c95f2"
    },
    {
      "cell_type": "code",
      "execution_count": 57,
      "metadata": {
        "id": "a5c89c17"
      },
      "outputs": [],
      "source": [
        "#outlier treatment for LandAreaInSqFt\n",
        "\n",
        "per25 = df['LandAreaInSqFt'].quantile(0.25)\n",
        "per75 = df['LandAreaInSqFt'].quantile(0.75)"
      ],
      "id": "a5c89c17"
    },
    {
      "cell_type": "code",
      "execution_count": 58,
      "metadata": {
        "colab": {
          "base_uri": "https://localhost:8080/",
          "height": 0
        },
        "id": "467b93c2",
        "outputId": "c262d7c3-bbf2-40f3-c9c8-b0ce29151fe2"
      },
      "outputs": [
        {
          "output_type": "execute_result",
          "data": {
            "text/plain": [
              "2100.0"
            ]
          },
          "metadata": {},
          "execution_count": 58
        }
      ],
      "source": [
        "per25"
      ],
      "id": "467b93c2"
    },
    {
      "cell_type": "code",
      "execution_count": 59,
      "metadata": {
        "colab": {
          "base_uri": "https://localhost:8080/",
          "height": 0
        },
        "id": "54b3148b",
        "outputId": "457739e7-1c0c-47db-f48d-6e9d2114f32b"
      },
      "outputs": [
        {
          "output_type": "execute_result",
          "data": {
            "text/plain": [
              "5000.0"
            ]
          },
          "metadata": {},
          "execution_count": 59
        }
      ],
      "source": [
        "per75"
      ],
      "id": "54b3148b"
    },
    {
      "cell_type": "code",
      "execution_count": 60,
      "metadata": {
        "id": "c7163226"
      },
      "outputs": [],
      "source": [
        "iqr = per75 - per25"
      ],
      "id": "c7163226"
    },
    {
      "cell_type": "code",
      "execution_count": 61,
      "metadata": {
        "colab": {
          "base_uri": "https://localhost:8080/",
          "height": 0
        },
        "id": "0c3bffb8",
        "outputId": "9ee734dd-920b-4d2b-bd08-6c5c8e2ce6b6"
      },
      "outputs": [
        {
          "output_type": "execute_result",
          "data": {
            "text/plain": [
              "2900.0"
            ]
          },
          "metadata": {},
          "execution_count": 61
        }
      ],
      "source": [
        "iqr"
      ],
      "id": "0c3bffb8"
    },
    {
      "cell_type": "code",
      "execution_count": 62,
      "metadata": {
        "id": "673dd2b0"
      },
      "outputs": [],
      "source": [
        "upper_limit = per75 + 1.5 * iqr\n",
        "lower_limit = per25 - 1.5 * iqr"
      ],
      "id": "673dd2b0"
    },
    {
      "cell_type": "code",
      "execution_count": 63,
      "metadata": {
        "colab": {
          "base_uri": "https://localhost:8080/",
          "height": 0
        },
        "id": "59d8c9e5",
        "outputId": "038f523e-8ecc-4412-e682-6d5cebf6770c"
      },
      "outputs": [
        {
          "output_type": "execute_result",
          "data": {
            "text/plain": [
              "9350.0"
            ]
          },
          "metadata": {},
          "execution_count": 63
        }
      ],
      "source": [
        "upper_limit"
      ],
      "id": "59d8c9e5"
    },
    {
      "cell_type": "code",
      "execution_count": 64,
      "metadata": {
        "colab": {
          "base_uri": "https://localhost:8080/",
          "height": 0
        },
        "id": "e5e7a34d",
        "outputId": "ce40efb5-0c74-473d-8c36-e4c1b1465778"
      },
      "outputs": [
        {
          "output_type": "execute_result",
          "data": {
            "text/plain": [
              "-2250.0"
            ]
          },
          "metadata": {},
          "execution_count": 64
        }
      ],
      "source": [
        "lower_limit"
      ],
      "id": "e5e7a34d"
    },
    {
      "cell_type": "code",
      "execution_count": 65,
      "metadata": {
        "id": "f3c5b17f"
      },
      "outputs": [],
      "source": [
        "df['LandAreaInSqFt'] = np.where(df['LandAreaInSqFt'] > upper_limit, upper_limit,\n",
        "                    np.where(df['LandAreaInSqFt'] < lower_limit, lower_limit,\n",
        "                    df['LandAreaInSqFt'] ))"
      ],
      "id": "f3c5b17f"
    },
    {
      "cell_type": "code",
      "execution_count": 66,
      "metadata": {
        "colab": {
          "base_uri": "https://localhost:8080/",
          "height": 0
        },
        "id": "917ff67a",
        "outputId": "14f2a1c5-dbe0-4239-d88c-39e202bce33b"
      },
      "outputs": [
        {
          "output_type": "execute_result",
          "data": {
            "text/plain": [
              "count    16810.000000\n",
              "mean      4058.441701\n",
              "std       2575.798611\n",
              "min          1.000000\n",
              "25%       2100.000000\n",
              "50%       3200.000000\n",
              "75%       5000.000000\n",
              "max       9350.000000\n",
              "Name: LandAreaInSqFt, dtype: float64"
            ]
          },
          "metadata": {},
          "execution_count": 66
        }
      ],
      "source": [
        "df['LandAreaInSqFt'].describe()"
      ],
      "id": "917ff67a"
    },
    {
      "cell_type": "code",
      "execution_count": 67,
      "metadata": {
        "colab": {
          "base_uri": "https://localhost:8080/",
          "height": 354
        },
        "id": "4c6cfe3b",
        "outputId": "e8520986-1f96-4d33-ddec-fdf0239628e7"
      },
      "outputs": [
        {
          "output_type": "stream",
          "name": "stderr",
          "text": [
            "/usr/local/lib/python3.7/dist-packages/seaborn/_decorators.py:43: FutureWarning: Pass the following variable as a keyword arg: x. From version 0.12, the only valid positional argument will be `data`, and passing other arguments without an explicit keyword will result in an error or misinterpretation.\n",
            "  FutureWarning\n"
          ]
        },
        {
          "output_type": "execute_result",
          "data": {
            "text/plain": [
              "<matplotlib.axes._subplots.AxesSubplot at 0x7f82faa42210>"
            ]
          },
          "metadata": {},
          "execution_count": 67
        },
        {
          "output_type": "display_data",
          "data": {
            "text/plain": [
              "<Figure size 432x288 with 1 Axes>"
            ],
            "image/png": "[encoded data removed]"
          },
          "metadata": {
            "needs_background": "light"
          }
        }
      ],
      "source": [
        "sns.boxplot(df['LandAreaInSqFt'])"
      ],
      "id": "4c6cfe3b"
    },
    {
      "cell_type": "code",
      "execution_count": 68,
      "metadata": {
        "id": "e453abd9"
      },
      "outputs": [],
      "source": [
        "#since state has only one unique value remove column\n",
        "\n",
        "df = df.drop(['State'],  axis=1)"
      ],
      "id": "e453abd9"
    },
    {
      "cell_type": "code",
      "execution_count": 69,
      "metadata": {
        "colab": {
          "base_uri": "https://localhost:8080/",
          "height": 0
        },
        "id": "6d3c86b4",
        "outputId": "782a9579-9540-4819-e7fe-e8a3ee4cfa0a"
      },
      "outputs": [
        {
          "output_type": "execute_result",
          "data": {
            "text/plain": [
              "Index(['PropertyID', 'Borough', 'Surroundings', 'Address', 'ZipCode', 'Block',\n",
              "       'Lot', 'BldgClassCategory', 'NoOfResidentialUnits',\n",
              "       'NoOfCommercialUnits', 'LandAreaInSqFt', 'GrossAreaInSqFt',\n",
              "       'YearOfConstruction', 'TaxClass_AtEvaluationTime',\n",
              "       'BldgClass_AtEvaluationTime', 'DateOfEvaluation',\n",
              "       'PropertyEvaluationvalue'],\n",
              "      dtype='object')"
            ]
          },
          "metadata": {},
          "execution_count": 69
        }
      ],
      "source": [
        "df.columns"
      ],
      "id": "6d3c86b4"
    },
    {
      "cell_type": "code",
      "execution_count": 70,
      "metadata": {
        "id": "09f52f51"
      },
      "outputs": [],
      "source": [
        "#remove property id since it is identity value\n",
        "\n",
        "df = df.drop(['PropertyID'],  axis=1)"
      ],
      "id": "09f52f51"
    },
    {
      "cell_type": "code",
      "execution_count": 71,
      "metadata": {
        "id": "niFMbBRjuDqN"
      },
      "outputs": [],
      "source": [
        "df = df.drop(['Surroundings', 'Address', 'BldgClass_AtEvaluationTime', 'BldgClassCategory'],  axis=1)"
      ],
      "id": "niFMbBRjuDqN"
    },
    {
      "cell_type": "code",
      "execution_count": 72,
      "metadata": {
        "colab": {
          "base_uri": "https://localhost:8080/",
          "height": 0
        },
        "id": "7892d67a",
        "outputId": "0718ae23-9544-406e-8e7c-91abfe6bf62e"
      },
      "outputs": [
        {
          "output_type": "execute_result",
          "data": {
            "text/plain": [
              "Index(['Borough', 'ZipCode', 'Block', 'Lot', 'NoOfResidentialUnits',\n",
              "       'NoOfCommercialUnits', 'LandAreaInSqFt', 'GrossAreaInSqFt',\n",
              "       'YearOfConstruction', 'TaxClass_AtEvaluationTime', 'DateOfEvaluation',\n",
              "       'PropertyEvaluationvalue'],\n",
              "      dtype='object')"
            ]
          },
          "metadata": {},
          "execution_count": 72
        }
      ],
      "source": [
        "df.columns"
      ],
      "id": "7892d67a"
    },
    {
      "cell_type": "code",
      "execution_count": 73,
      "metadata": {
        "id": "cb589840"
      },
      "outputs": [],
      "source": [
        "#converting date into a year as there wouldn't be huge change in tax evaluation within a year\n",
        "\n",
        "date_col = pd.DatetimeIndex(df['DateOfEvaluation'])"
      ],
      "id": "cb589840"
    },
    {
      "cell_type": "code",
      "execution_count": 74,
      "metadata": {
        "colab": {
          "base_uri": "https://localhost:8080/",
          "height": 0
        },
        "id": "53cdbab0",
        "outputId": "e4b5234c-f1f6-4efb-a777-bfceee4a6f18"
      },
      "outputs": [
        {
          "output_type": "execute_result",
          "data": {
            "text/plain": [
              "DatetimeIndex(['2014-05-30', '2014-09-13', '2014-09-28', '2014-05-06',\n",
              "               '2015-07-02', '2015-03-27', '2014-07-08', '2015-02-25',\n",
              "               '2014-11-27', '2014-07-23',\n",
              "               ...\n",
              "               '2012-12-26', '2014-08-16', '2014-08-13', '2014-04-04',\n",
              "               '2014-07-19', '2014-11-30', '2014-12-19', '2014-11-16',\n",
              "               '2014-09-17', '2013-03-22'],\n",
              "              dtype='datetime64[ns]', name='DateOfEvaluation', length=16810, freq=None)"
            ]
          },
          "metadata": {},
          "execution_count": 74
        }
      ],
      "source": [
        "date_col"
      ],
      "id": "53cdbab0"
    },
    {
      "cell_type": "code",
      "execution_count": 75,
      "metadata": {
        "id": "d1c817ec"
      },
      "outputs": [],
      "source": [
        "df['DateOfEvaluation'] = date_col.year"
      ],
      "id": "d1c817ec"
    },
    {
      "cell_type": "code",
      "execution_count": 76,
      "metadata": {
        "colab": {
          "base_uri": "https://localhost:8080/",
          "height": 0
        },
        "id": "d90f1b0b",
        "outputId": "fd80224a-6d72-4479-ec63-c38aff5dc069",
        "scrolled": false
      },
      "outputs": [
        {
          "output_type": "execute_result",
          "data": {
            "text/plain": [
              "0    2014\n",
              "1    2014\n",
              "2    2014\n",
              "3    2014\n",
              "4    2015\n",
              "Name: DateOfEvaluation, dtype: int64"
            ]
          },
          "metadata": {},
          "execution_count": 76
        }
      ],
      "source": [
        "df['DateOfEvaluation'].head()"
      ],
      "id": "d90f1b0b"
    },
    {
      "cell_type": "code",
      "execution_count": 77,
      "metadata": {
        "colab": {
          "base_uri": "https://localhost:8080/",
          "height": 0
        },
        "id": "b6cab37b",
        "outputId": "02101300-49f3-4fc3-a099-93e5b3b0653a"
      },
      "outputs": [
        {
          "output_type": "execute_result",
          "data": {
            "text/plain": [
              "Borough                        int64\n",
              "ZipCode                        int64\n",
              "Block                          int64\n",
              "Lot                          float64\n",
              "NoOfResidentialUnits           int64\n",
              "NoOfCommercialUnits            int64\n",
              "LandAreaInSqFt               float64\n",
              "GrossAreaInSqFt              float64\n",
              "YearOfConstruction             int64\n",
              "TaxClass_AtEvaluationTime      int64\n",
              "DateOfEvaluation               int64\n",
              "PropertyEvaluationvalue      float64\n",
              "dtype: object"
            ]
          },
          "metadata": {},
          "execution_count": 77
        }
      ],
      "source": [
        "df.dtypes"
      ],
      "id": "b6cab37b"
    },
    {
      "cell_type": "code",
      "execution_count": 78,
      "metadata": {
        "id": "9ab95c87"
      },
      "outputs": [],
      "source": [
        "c_df = df"
      ],
      "id": "9ab95c87"
    },
    {
      "cell_type": "code",
      "execution_count": 79,
      "metadata": {
        "id": "bc543123"
      },
      "outputs": [],
      "source": [
        "c_df = pd.get_dummies(c_df,columns = ['Borough', 'TaxClass_AtEvaluationTime'], drop_first = True)"
      ],
      "id": "bc543123"
    },
    {
      "cell_type": "code",
      "execution_count": 80,
      "metadata": {
        "colab": {
          "base_uri": "https://localhost:8080/",
          "height": 270
        },
        "id": "4b67c768",
        "outputId": "40f8773d-173a-4a6a-d975-d66804484c86",
        "scrolled": true
      },
      "outputs": [
        {
          "output_type": "execute_result",
          "data": {
            "text/plain": [
              "   ZipCode  Block    Lot  NoOfResidentialUnits  NoOfCommercialUnits  \\\n",
              "0    10456   2927  127.0                     2                    0   \n",
              "1    10457   3037  110.0                     3                    0   \n",
              "2    10457   2912  155.0                     2                    0   \n",
              "3    10457   2929  134.0                     2                    0   \n",
              "4    10457   3036  140.0                     2                    0   \n",
              "\n",
              "   LandAreaInSqFt  GrossAreaInSqFt  YearOfConstruction  DateOfEvaluation  \\\n",
              "0          1900.0           2394.0                1990              2014   \n",
              "1          1687.0           3037.0                2002              2014   \n",
              "2          2000.0           2400.0                1989              2014   \n",
              "3          2356.0           2394.0                1991              2014   \n",
              "4          3346.0           2308.0                1993              2015   \n",
              "\n",
              "   PropertyEvaluationvalue  Borough_2  Borough_3  Borough_4  Borough_5  \\\n",
              "0                 540000.0          0          0          0          0   \n",
              "1                 750000.0          0          0          0          0   \n",
              "2                 470000.0          0          0          0          0   \n",
              "3                 570000.0          0          0          0          0   \n",
              "4                 640000.0          0          0          0          0   \n",
              "\n",
              "   TaxClass_AtEvaluationTime_2  TaxClass_AtEvaluationTime_4  \n",
              "0                            0                            0  \n",
              "1                            0                            0  \n",
              "2                            0                            0  \n",
              "3                            0                            0  \n",
              "4                            0                            0  "
            ],
            "text/html": [
              "\n",
              "  <div id=\"df-7d2cd448-8102-4602-80cb-3ba8621620bc\">\n",
              "    <div class=\"colab-df-container\">\n",
              "      <div>\n",
              "<style scoped>\n",
              "    .dataframe tbody tr th:only-of-type {\n",
              "        vertical-align: middle;\n",
              "    }\n",
              "\n",
              "    .dataframe tbody tr th {\n",
              "        vertical-align: top;\n",
              "    }\n",
              "\n",
              "    .dataframe thead th {\n",
              "        text-align: right;\n",
              "    }\n",
              "</style>\n",
              "<table border=\"1\" class=\"dataframe\">\n",
              "  <thead>\n",
              "    <tr style=\"text-align: right;\">\n",
              "      <th></th>\n",
              "      <th>ZipCode</th>\n",
              "      <th>Block</th>\n",
              "      <th>Lot</th>\n",
              "      <th>NoOfResidentialUnits</th>\n",
              "      <th>NoOfCommercialUnits</th>\n",
              "      <th>LandAreaInSqFt</th>\n",
              "      <th>GrossAreaInSqFt</th>\n",
              "      <th>YearOfConstruction</th>\n",
              "      <th>DateOfEvaluation</th>\n",
              "      <th>PropertyEvaluationvalue</th>\n",
              "      <th>Borough_2</th>\n",
              "      <th>Borough_3</th>\n",
              "      <th>Borough_4</th>\n",
              "      <th>Borough_5</th>\n",
              "      <th>TaxClass_AtEvaluationTime_2</th>\n",
              "      <th>TaxClass_AtEvaluationTime_4</th>\n",
              "    </tr>\n",
              "  </thead>\n",
              "  <tbody>\n",
              "    <tr>\n",
              "      <th>0</th>\n",
              "      <td>10456</td>\n",
              "      <td>2927</td>\n",
              "      <td>127.0</td>\n",
              "      <td>2</td>\n",
              "      <td>0</td>\n",
              "      <td>1900.0</td>\n",
              "      <td>2394.0</td>\n",
              "      <td>1990</td>\n",
              "      <td>2014</td>\n",
              "      <td>540000.0</td>\n",
              "      <td>0</td>\n",
              "      <td>0</td>\n",
              "      <td>0</td>\n",
              "      <td>0</td>\n",
              "      <td>0</td>\n",
              "      <td>0</td>\n",
              "    </tr>\n",
              "    <tr>\n",
              "      <th>1</th>\n",
              "      <td>10457</td>\n",
              "      <td>3037</td>\n",
              "      <td>110.0</td>\n",
              "      <td>3</td>\n",
              "      <td>0</td>\n",
              "      <td>1687.0</td>\n",
              "      <td>3037.0</td>\n",
              "      <td>2002</td>\n",
              "      <td>2014</td>\n",
              "      <td>750000.0</td>\n",
              "      <td>0</td>\n",
              "      <td>0</td>\n",
              "      <td>0</td>\n",
              "      <td>0</td>\n",
              "      <td>0</td>\n",
              "      <td>0</td>\n",
              "    </tr>\n",
              "    <tr>\n",
              "      <th>2</th>\n",
              "      <td>10457</td>\n",
              "      <td>2912</td>\n",
              "      <td>155.0</td>\n",
              "      <td>2</td>\n",
              "      <td>0</td>\n",
              "      <td>2000.0</td>\n",
              "      <td>2400.0</td>\n",
              "      <td>1989</td>\n",
              "      <td>2014</td>\n",
              "      <td>470000.0</td>\n",
              "      <td>0</td>\n",
              "      <td>0</td>\n",
              "      <td>0</td>\n",
              "      <td>0</td>\n",
              "      <td>0</td>\n",
              "      <td>0</td>\n",
              "    </tr>\n",
              "    <tr>\n",
              "      <th>3</th>\n",
              "      <td>10457</td>\n",
              "      <td>2929</td>\n",
              "      <td>134.0</td>\n",
              "      <td>2</td>\n",
              "      <td>0</td>\n",
              "      <td>2356.0</td>\n",
              "      <td>2394.0</td>\n",
              "      <td>1991</td>\n",
              "      <td>2014</td>\n",
              "      <td>570000.0</td>\n",
              "      <td>0</td>\n",
              "      <td>0</td>\n",
              "      <td>0</td>\n",
              "      <td>0</td>\n",
              "      <td>0</td>\n",
              "      <td>0</td>\n",
              "    </tr>\n",
              "    <tr>\n",
              "      <th>4</th>\n",
              "      <td>10457</td>\n",
              "      <td>3036</td>\n",
              "      <td>140.0</td>\n",
              "      <td>2</td>\n",
              "      <td>0</td>\n",
              "      <td>3346.0</td>\n",
              "      <td>2308.0</td>\n",
              "      <td>1993</td>\n",
              "      <td>2015</td>\n",
              "      <td>640000.0</td>\n",
              "      <td>0</td>\n",
              "      <td>0</td>\n",
              "      <td>0</td>\n",
              "      <td>0</td>\n",
              "      <td>0</td>\n",
              "      <td>0</td>\n",
              "    </tr>\n",
              "  </tbody>\n",
              "</table>\n",
              "</div>\n",
              "      <button class=\"colab-df-convert\" onclick=\"convertToInteractive('df-7d2cd448-8102-4602-80cb-3ba8621620bc')\"\n",
              "              title=\"Convert this dataframe to an interactive table.\"\n",
              "              style=\"display:none;\">\n",
              "        \n",
              "  <svg xmlns=\"http://www.w3.org/2000/svg\" height=\"24px\"viewBox=\"0 0 24 24\"\n",
              "       width=\"24px\">\n",
              "    <path d=\"M0 0h24v24H0V0z\" fill=\"none\"/>\n",
              "    <path d=\"M18.56 5.44l.94 2.06.94-2.06 2.06-.94-2.06-.94-.94-2.06-.94 2.06-2.06.94zm-11 1L8.5 8.5l.94-2.06 2.06-.94-2.06-.94L8.5 2.5l-.94 2.06-2.06.94zm10 10l.94 2.06.94-2.06 2.06-.94-2.06-.94-.94-2.06-.94 2.06-2.06.94z\"/><path d=\"M17.41 7.96l-1.37-1.37c-.4-.4-.92-.59-1.43-.59-.52 0-1.04.2-1.43.59L10.3 9.45l-7.72 7.72c-.78.78-.78 2.05 0 2.83L4 21.41c.39.39.9.59 1.41.59.51 0 1.02-.2 1.41-.59l7.78-7.78 2.81-2.81c.8-.78.8-2.07 0-2.86zM5.41 20L4 18.59l7.72-7.72 1.47 1.35L5.41 20z\"/>\n",
              "  </svg>\n",
              "      </button>\n",
              "      \n",
              "  <style>\n",
              "    .colab-df-container {\n",
              "      display:flex;\n",
              "      flex-wrap:wrap;\n",
              "      gap: 12px;\n",
              "    }\n",
              "\n",
              "    .colab-df-convert {\n",
              "      background-color: #E8F0FE;\n",
              "      border: none;\n",
              "      border-radius: 50%;\n",
              "      cursor: pointer;\n",
              "      display: none;\n",
              "      fill: #1967D2;\n",
              "      height: 32px;\n",
              "      padding: 0 0 0 0;\n",
              "      width: 32px;\n",
              "    }\n",
              "\n",
              "    .colab-df-convert:hover {\n",
              "      background-color: #E2EBFA;\n",
              "      box-shadow: 0px 1px 2px rgba(60, 64, 67, 0.3), 0px 1px 3px 1px rgba(60, 64, 67, 0.15);\n",
              "      fill: #174EA6;\n",
              "    }\n",
              "\n",
              "    [theme=dark] .colab-df-convert {\n",
              "      background-color: #3B4455;\n",
              "      fill: #D2E3FC;\n",
              "    }\n",
              "\n",
              "    [theme=dark] .colab-df-convert:hover {\n",
              "      background-color: #434B5C;\n",
              "      box-shadow: 0px 1px 3px 1px rgba(0, 0, 0, 0.15);\n",
              "      filter: drop-shadow(0px 1px 2px rgba(0, 0, 0, 0.3));\n",
              "      fill: #FFFFFF;\n",
              "    }\n",
              "  </style>\n",
              "\n",
              "      <script>\n",
              "        const buttonEl =\n",
              "          document.querySelector('#df-7d2cd448-8102-4602-80cb-3ba8621620bc button.colab-df-convert');\n",
              "        buttonEl.style.display =\n",
              "          google.colab.kernel.accessAllowed ? 'block' : 'none';\n",
              "\n",
              "        async function convertToInteractive(key) {\n",
              "          const element = document.querySelector('#df-7d2cd448-8102-4602-80cb-3ba8621620bc');\n",
              "          const dataTable =\n",
              "            await google.colab.kernel.invokeFunction('convertToInteractive',\n",
              "                                                     [key], {});\n",
              "          if (!dataTable) return;\n",
              "\n",
              "          const docLinkHtml = 'Like what you see? Visit the ' +\n",
              "            '<a target=\"_blank\" href=https://colab.research.google.com/notebooks/data_table.ipynb>data table notebook</a>'\n",
              "            + ' to learn more about interactive tables.';\n",
              "          element.innerHTML = '';\n",
              "          dataTable['output_type'] = 'display_data';\n",
              "          await google.colab.output.renderOutput(dataTable, element);\n",
              "          const docLink = document.createElement('div');\n",
              "          docLink.innerHTML = docLinkHtml;\n",
              "          element.appendChild(docLink);\n",
              "        }\n",
              "      </script>\n",
              "    </div>\n",
              "  </div>\n",
              "  "
            ]
          },
          "metadata": {},
          "execution_count": 80
        }
      ],
      "source": [
        "c_df.head()"
      ],
      "id": "4b67c768"
    },
    {
      "cell_type": "code",
      "execution_count": 81,
      "metadata": {
        "colab": {
          "base_uri": "https://localhost:8080/",
          "height": 0
        },
        "id": "cPQV1c99vTQ6",
        "outputId": "7f1c2f3f-0216-42e2-a4cd-9dc30c429378"
      },
      "outputs": [
        {
          "output_type": "execute_result",
          "data": {
            "text/plain": [
              "ZipCode                          int64\n",
              "Block                            int64\n",
              "Lot                            float64\n",
              "NoOfResidentialUnits             int64\n",
              "NoOfCommercialUnits              int64\n",
              "LandAreaInSqFt                 float64\n",
              "GrossAreaInSqFt                float64\n",
              "YearOfConstruction               int64\n",
              "DateOfEvaluation                 int64\n",
              "PropertyEvaluationvalue        float64\n",
              "Borough_2                        uint8\n",
              "Borough_3                        uint8\n",
              "Borough_4                        uint8\n",
              "Borough_5                        uint8\n",
              "TaxClass_AtEvaluationTime_2      uint8\n",
              "TaxClass_AtEvaluationTime_4      uint8\n",
              "dtype: object"
            ]
          },
          "metadata": {},
          "execution_count": 81
        }
      ],
      "source": [
        "c_df.dtypes"
      ],
      "id": "cPQV1c99vTQ6"
    },
    {
      "cell_type": "code",
      "execution_count": 82,
      "metadata": {
        "id": "b3b07331"
      },
      "outputs": [],
      "source": [
        "X_train = c_df.loc[:,c_df.columns!=\"PropertyEvaluationvalue\"]\n"
      ],
      "id": "b3b07331"
    },
    {
      "cell_type": "code",
      "execution_count": 83,
      "metadata": {
        "id": "5a17e432"
      },
      "outputs": [],
      "source": [
        "y_train = df[\"PropertyEvaluationvalue\"]\n"
      ],
      "id": "5a17e432"
    },
    {
      "cell_type": "code",
      "execution_count": 84,
      "metadata": {
        "colab": {
          "base_uri": "https://localhost:8080/",
          "height": 0
        },
        "id": "73aef958",
        "outputId": "feb1b43a-222a-4cd8-f465-8afcc3142bf4"
      },
      "outputs": [
        {
          "output_type": "execute_result",
          "data": {
            "text/plain": [
              "0    540000.0\n",
              "1    750000.0\n",
              "2    470000.0\n",
              "3    570000.0\n",
              "4    640000.0\n",
              "Name: PropertyEvaluationvalue, dtype: float64"
            ]
          },
          "metadata": {},
          "execution_count": 84
        }
      ],
      "source": [
        "y_train.head()"
      ],
      "id": "73aef958"
    },
    {
      "cell_type": "code",
      "execution_count": 85,
      "metadata": {
        "colab": {
          "base_uri": "https://localhost:8080/",
          "height": 0
        },
        "id": "gbT5jCMD296W",
        "outputId": "e43b2a7c-5a12-4b4b-e265-522508e36b76"
      },
      "outputs": [
        {
          "output_type": "execute_result",
          "data": {
            "text/plain": [
              "(16810, 15)"
            ]
          },
          "metadata": {},
          "execution_count": 85
        }
      ],
      "source": [
        "X_train.shape"
      ],
      "id": "gbT5jCMD296W"
    },
    {
      "cell_type": "markdown",
      "metadata": {
        "id": "ec76e14b"
      },
      "source": [
        "Reading test data"
      ],
      "id": "ec76e14b"
    },
    {
      "cell_type": "code",
      "execution_count": 115,
      "metadata": {
        "id": "986a5c76"
      },
      "outputs": [],
      "source": [
        "df_test = pd.read_csv('/content/Test.csv')"
      ],
      "id": "986a5c76"
    },
    {
      "cell_type": "code",
      "execution_count": 116,
      "metadata": {
        "colab": {
          "base_uri": "https://localhost:8080/",
          "height": 364
        },
        "id": "493f64bf",
        "outputId": "7f9fd001-93de-47bd-e8a3-4a67cb9b54f4"
      },
      "outputs": [
        {
          "output_type": "execute_result",
          "data": {
            "text/plain": [
              "           Borough       ZipCode         Block          Lot  \\\n",
              "count  2936.000000   2936.000000   2936.000000  2936.000000   \n",
              "mean      3.385559  10837.683924   5170.971730   279.483651   \n",
              "std       1.364623    526.594771   3581.310989   562.104975   \n",
              "min       1.000000  10001.000000     31.000000     1.000000   \n",
              "25%       2.000000  10310.000000   2373.000000    25.000000   \n",
              "50%       3.000000  11105.000000   4772.500000    54.000000   \n",
              "75%       5.000000  11361.250000   7106.000000   146.000000   \n",
              "max       5.000000  11694.000000  16262.000000  5026.000000   \n",
              "\n",
              "       NoOfResidentialUnits  NoOfCommercialUnits  TotalNoOfUnits  \\\n",
              "count           2936.000000          2936.000000     2936.000000   \n",
              "mean               1.656335             0.136921        1.793256   \n",
              "std                4.456347             1.211945        4.733782   \n",
              "min                0.000000             0.000000        1.000000   \n",
              "25%                1.000000             0.000000        1.000000   \n",
              "50%                1.000000             0.000000        1.000000   \n",
              "75%                2.000000             0.000000        2.000000   \n",
              "max              128.000000            50.000000      130.000000   \n",
              "\n",
              "       LandAreaInSqFt  GrossAreaInSqFt  YearOfConstruction  \\\n",
              "count     2936.000000      2936.000000         2936.000000   \n",
              "mean     11015.183924      4060.355586         1975.443460   \n",
              "std      37702.788446     14807.827309           23.707392   \n",
              "min          1.000000        80.000000         1941.000000   \n",
              "25%       2100.000000      1222.000000         1955.000000   \n",
              "50%       3126.500000      1720.000000         1971.000000   \n",
              "75%       5000.000000      2440.250000         2000.000000   \n",
              "max     484555.000000    231891.000000         2012.000000   \n",
              "\n",
              "       TaxClass_AtEvaluationTime  \n",
              "count                2936.000000  \n",
              "mean                    1.309605  \n",
              "std                     0.739623  \n",
              "min                     1.000000  \n",
              "25%                     1.000000  \n",
              "50%                     1.000000  \n",
              "75%                     1.000000  \n",
              "max                     4.000000  "
            ],
            "text/html": [
              "\n",
              "  <div id=\"df-3eb57340-857d-4791-84b0-b062a108b462\">\n",
              "    <div class=\"colab-df-container\">\n",
              "      <div>\n",
              "<style scoped>\n",
              "    .dataframe tbody tr th:only-of-type {\n",
              "        vertical-align: middle;\n",
              "    }\n",
              "\n",
              "    .dataframe tbody tr th {\n",
              "        vertical-align: top;\n",
              "    }\n",
              "\n",
              "    .dataframe thead th {\n",
              "        text-align: right;\n",
              "    }\n",
              "</style>\n",
              "<table border=\"1\" class=\"dataframe\">\n",
              "  <thead>\n",
              "    <tr style=\"text-align: right;\">\n",
              "      <th></th>\n",
              "      <th>Borough</th>\n",
              "      <th>ZipCode</th>\n",
              "      <th>Block</th>\n",
              "      <th>Lot</th>\n",
              "      <th>NoOfResidentialUnits</th>\n",
              "      <th>NoOfCommercialUnits</th>\n",
              "      <th>TotalNoOfUnits</th>\n",
              "      <th>LandAreaInSqFt</th>\n",
              "      <th>GrossAreaInSqFt</th>\n",
              "      <th>YearOfConstruction</th>\n",
              "      <th>TaxClass_AtEvaluationTime</th>\n",
              "    </tr>\n",
              "  </thead>\n",
              "  <tbody>\n",
              "    <tr>\n",
              "      <th>count</th>\n",
              "      <td>2936.000000</td>\n",
              "      <td>2936.000000</td>\n",
              "      <td>2936.000000</td>\n",
              "      <td>2936.000000</td>\n",
              "      <td>2936.000000</td>\n",
              "      <td>2936.000000</td>\n",
              "      <td>2936.000000</td>\n",
              "      <td>2936.000000</td>\n",
              "      <td>2936.000000</td>\n",
              "      <td>2936.000000</td>\n",
              "      <td>2936.000000</td>\n",
              "    </tr>\n",
              "    <tr>\n",
              "      <th>mean</th>\n",
              "      <td>3.385559</td>\n",
              "      <td>10837.683924</td>\n",
              "      <td>5170.971730</td>\n",
              "      <td>279.483651</td>\n",
              "      <td>1.656335</td>\n",
              "      <td>0.136921</td>\n",
              "      <td>1.793256</td>\n",
              "      <td>11015.183924</td>\n",
              "      <td>4060.355586</td>\n",
              "      <td>1975.443460</td>\n",
              "      <td>1.309605</td>\n",
              "    </tr>\n",
              "    <tr>\n",
              "      <th>std</th>\n",
              "      <td>1.364623</td>\n",
              "      <td>526.594771</td>\n",
              "      <td>3581.310989</td>\n",
              "      <td>562.104975</td>\n",
              "      <td>4.456347</td>\n",
              "      <td>1.211945</td>\n",
              "      <td>4.733782</td>\n",
              "      <td>37702.788446</td>\n",
              "      <td>14807.827309</td>\n",
              "      <td>23.707392</td>\n",
              "      <td>0.739623</td>\n",
              "    </tr>\n",
              "    <tr>\n",
              "      <th>min</th>\n",
              "      <td>1.000000</td>\n",
              "      <td>10001.000000</td>\n",
              "      <td>31.000000</td>\n",
              "      <td>1.000000</td>\n",
              "      <td>0.000000</td>\n",
              "      <td>0.000000</td>\n",
              "      <td>1.000000</td>\n",
              "      <td>1.000000</td>\n",
              "      <td>80.000000</td>\n",
              "      <td>1941.000000</td>\n",
              "      <td>1.000000</td>\n",
              "    </tr>\n",
              "    <tr>\n",
              "      <th>25%</th>\n",
              "      <td>2.000000</td>\n",
              "      <td>10310.000000</td>\n",
              "      <td>2373.000000</td>\n",
              "      <td>25.000000</td>\n",
              "      <td>1.000000</td>\n",
              "      <td>0.000000</td>\n",
              "      <td>1.000000</td>\n",
              "      <td>2100.000000</td>\n",
              "      <td>1222.000000</td>\n",
              "      <td>1955.000000</td>\n",
              "      <td>1.000000</td>\n",
              "    </tr>\n",
              "    <tr>\n",
              "      <th>50%</th>\n",
              "      <td>3.000000</td>\n",
              "      <td>11105.000000</td>\n",
              "      <td>4772.500000</td>\n",
              "      <td>54.000000</td>\n",
              "      <td>1.000000</td>\n",
              "      <td>0.000000</td>\n",
              "      <td>1.000000</td>\n",
              "      <td>3126.500000</td>\n",
              "      <td>1720.000000</td>\n",
              "      <td>1971.000000</td>\n",
              "      <td>1.000000</td>\n",
              "    </tr>\n",
              "    <tr>\n",
              "      <th>75%</th>\n",
              "      <td>5.000000</td>\n",
              "      <td>11361.250000</td>\n",
              "      <td>7106.000000</td>\n",
              "      <td>146.000000</td>\n",
              "      <td>2.000000</td>\n",
              "      <td>0.000000</td>\n",
              "      <td>2.000000</td>\n",
              "      <td>5000.000000</td>\n",
              "      <td>2440.250000</td>\n",
              "      <td>2000.000000</td>\n",
              "      <td>1.000000</td>\n",
              "    </tr>\n",
              "    <tr>\n",
              "      <th>max</th>\n",
              "      <td>5.000000</td>\n",
              "      <td>11694.000000</td>\n",
              "      <td>16262.000000</td>\n",
              "      <td>5026.000000</td>\n",
              "      <td>128.000000</td>\n",
              "      <td>50.000000</td>\n",
              "      <td>130.000000</td>\n",
              "      <td>484555.000000</td>\n",
              "      <td>231891.000000</td>\n",
              "      <td>2012.000000</td>\n",
              "      <td>4.000000</td>\n",
              "    </tr>\n",
              "  </tbody>\n",
              "</table>\n",
              "</div>\n",
              "      <button class=\"colab-df-convert\" onclick=\"convertToInteractive('df-3eb57340-857d-4791-84b0-b062a108b462')\"\n",
              "              title=\"Convert this dataframe to an interactive table.\"\n",
              "              style=\"display:none;\">\n",
              "        \n",
              "  <svg xmlns=\"http://www.w3.org/2000/svg\" height=\"24px\"viewBox=\"0 0 24 24\"\n",
              "       width=\"24px\">\n",
              "    <path d=\"M0 0h24v24H0V0z\" fill=\"none\"/>\n",
              "    <path d=\"M18.56 5.44l.94 2.06.94-2.06 2.06-.94-2.06-.94-.94-2.06-.94 2.06-2.06.94zm-11 1L8.5 8.5l.94-2.06 2.06-.94-2.06-.94L8.5 2.5l-.94 2.06-2.06.94zm10 10l.94 2.06.94-2.06 2.06-.94-2.06-.94-.94-2.06-.94 2.06-2.06.94z\"/><path d=\"M17.41 7.96l-1.37-1.37c-.4-.4-.92-.59-1.43-.59-.52 0-1.04.2-1.43.59L10.3 9.45l-7.72 7.72c-.78.78-.78 2.05 0 2.83L4 21.41c.39.39.9.59 1.41.59.51 0 1.02-.2 1.41-.59l7.78-7.78 2.81-2.81c.8-.78.8-2.07 0-2.86zM5.41 20L4 18.59l7.72-7.72 1.47 1.35L5.41 20z\"/>\n",
              "  </svg>\n",
              "      </button>\n",
              "      \n",
              "  <style>\n",
              "    .colab-df-container {\n",
              "      display:flex;\n",
              "      flex-wrap:wrap;\n",
              "      gap: 12px;\n",
              "    }\n",
              "\n",
              "    .colab-df-convert {\n",
              "      background-color: #E8F0FE;\n",
              "      border: none;\n",
              "      border-radius: 50%;\n",
              "      cursor: pointer;\n",
              "      display: none;\n",
              "      fill: #1967D2;\n",
              "      height: 32px;\n",
              "      padding: 0 0 0 0;\n",
              "      width: 32px;\n",
              "    }\n",
              "\n",
              "    .colab-df-convert:hover {\n",
              "      background-color: #E2EBFA;\n",
              "      box-shadow: 0px 1px 2px rgba(60, 64, 67, 0.3), 0px 1px 3px 1px rgba(60, 64, 67, 0.15);\n",
              "      fill: #174EA6;\n",
              "    }\n",
              "\n",
              "    [theme=dark] .colab-df-convert {\n",
              "      background-color: #3B4455;\n",
              "      fill: #D2E3FC;\n",
              "    }\n",
              "\n",
              "    [theme=dark] .colab-df-convert:hover {\n",
              "      background-color: #434B5C;\n",
              "      box-shadow: 0px 1px 3px 1px rgba(0, 0, 0, 0.15);\n",
              "      filter: drop-shadow(0px 1px 2px rgba(0, 0, 0, 0.3));\n",
              "      fill: #FFFFFF;\n",
              "    }\n",
              "  </style>\n",
              "\n",
              "      <script>\n",
              "        const buttonEl =\n",
              "          document.querySelector('#df-3eb57340-857d-4791-84b0-b062a108b462 button.colab-df-convert');\n",
              "        buttonEl.style.display =\n",
              "          google.colab.kernel.accessAllowed ? 'block' : 'none';\n",
              "\n",
              "        async function convertToInteractive(key) {\n",
              "          const element = document.querySelector('#df-3eb57340-857d-4791-84b0-b062a108b462');\n",
              "          const dataTable =\n",
              "            await google.colab.kernel.invokeFunction('convertToInteractive',\n",
              "                                                     [key], {});\n",
              "          if (!dataTable) return;\n",
              "\n",
              "          const docLinkHtml = 'Like what you see? Visit the ' +\n",
              "            '<a target=\"_blank\" href=https://colab.research.google.com/notebooks/data_table.ipynb>data table notebook</a>'\n",
              "            + ' to learn more about interactive tables.';\n",
              "          element.innerHTML = '';\n",
              "          dataTable['output_type'] = 'display_data';\n",
              "          await google.colab.output.renderOutput(dataTable, element);\n",
              "          const docLink = document.createElement('div');\n",
              "          docLink.innerHTML = docLinkHtml;\n",
              "          element.appendChild(docLink);\n",
              "        }\n",
              "      </script>\n",
              "    </div>\n",
              "  </div>\n",
              "  "
            ]
          },
          "metadata": {},
          "execution_count": 116
        }
      ],
      "source": [
        "df_test.describe()\n"
      ],
      "id": "493f64bf"
    },
    {
      "cell_type": "code",
      "execution_count": 117,
      "metadata": {
        "colab": {
          "base_uri": "https://localhost:8080/",
          "height": 0
        },
        "id": "23b36577",
        "outputId": "25bab427-4854-45ac-a8e1-98557319ef5b"
      },
      "outputs": [
        {
          "output_type": "execute_result",
          "data": {
            "text/plain": [
              "(2936, 18)"
            ]
          },
          "metadata": {},
          "execution_count": 117
        }
      ],
      "source": [
        "df_test.shape"
      ],
      "id": "23b36577"
    },
    {
      "cell_type": "code",
      "execution_count": 118,
      "metadata": {
        "id": "900350dc"
      },
      "outputs": [],
      "source": [
        "df_test = df_test.drop_duplicates()"
      ],
      "id": "900350dc"
    },
    {
      "cell_type": "code",
      "execution_count": 119,
      "metadata": {
        "colab": {
          "base_uri": "https://localhost:8080/",
          "height": 614
        },
        "id": "2qIXZZjfsL0-",
        "outputId": "0deb9e4a-681e-48d4-cdd9-b909dea9a084"
      },
      "outputs": [
        {
          "output_type": "execute_result",
          "data": {
            "text/plain": [
              "                                 0\n",
              "PropertyID                  object\n",
              "Borough                      int64\n",
              "State                       object\n",
              "Surroundings                object\n",
              "Address                     object\n",
              "ZipCode                      int64\n",
              "Block                        int64\n",
              "Lot                          int64\n",
              "BldgClassCategory           object\n",
              "NoOfResidentialUnits         int64\n",
              "NoOfCommercialUnits          int64\n",
              "TotalNoOfUnits               int64\n",
              "LandAreaInSqFt               int64\n",
              "GrossAreaInSqFt              int64\n",
              "YearOfConstruction           int64\n",
              "TaxClass_AtEvaluationTime    int64\n",
              "BldgClass_AtEvaluationTime  object\n",
              "DateOfEvaluation            object"
            ],
            "text/html": [
              "\n",
              "  <div id=\"df-e9cfffb5-7b86-42e8-92a3-defa900272fe\">\n",
              "    <div class=\"colab-df-container\">\n",
              "      <div>\n",
              "<style scoped>\n",
              "    .dataframe tbody tr th:only-of-type {\n",
              "        vertical-align: middle;\n",
              "    }\n",
              "\n",
              "    .dataframe tbody tr th {\n",
              "        vertical-align: top;\n",
              "    }\n",
              "\n",
              "    .dataframe thead th {\n",
              "        text-align: right;\n",
              "    }\n",
              "</style>\n",
              "<table border=\"1\" class=\"dataframe\">\n",
              "  <thead>\n",
              "    <tr style=\"text-align: right;\">\n",
              "      <th></th>\n",
              "      <th>0</th>\n",
              "    </tr>\n",
              "  </thead>\n",
              "  <tbody>\n",
              "    <tr>\n",
              "      <th>PropertyID</th>\n",
              "      <td>object</td>\n",
              "    </tr>\n",
              "    <tr>\n",
              "      <th>Borough</th>\n",
              "      <td>int64</td>\n",
              "    </tr>\n",
              "    <tr>\n",
              "      <th>State</th>\n",
              "      <td>object</td>\n",
              "    </tr>\n",
              "    <tr>\n",
              "      <th>Surroundings</th>\n",
              "      <td>object</td>\n",
              "    </tr>\n",
              "    <tr>\n",
              "      <th>Address</th>\n",
              "      <td>object</td>\n",
              "    </tr>\n",
              "    <tr>\n",
              "      <th>ZipCode</th>\n",
              "      <td>int64</td>\n",
              "    </tr>\n",
              "    <tr>\n",
              "      <th>Block</th>\n",
              "      <td>int64</td>\n",
              "    </tr>\n",
              "    <tr>\n",
              "      <th>Lot</th>\n",
              "      <td>int64</td>\n",
              "    </tr>\n",
              "    <tr>\n",
              "      <th>BldgClassCategory</th>\n",
              "      <td>object</td>\n",
              "    </tr>\n",
              "    <tr>\n",
              "      <th>NoOfResidentialUnits</th>\n",
              "      <td>int64</td>\n",
              "    </tr>\n",
              "    <tr>\n",
              "      <th>NoOfCommercialUnits</th>\n",
              "      <td>int64</td>\n",
              "    </tr>\n",
              "    <tr>\n",
              "      <th>TotalNoOfUnits</th>\n",
              "      <td>int64</td>\n",
              "    </tr>\n",
              "    <tr>\n",
              "      <th>LandAreaInSqFt</th>\n",
              "      <td>int64</td>\n",
              "    </tr>\n",
              "    <tr>\n",
              "      <th>GrossAreaInSqFt</th>\n",
              "      <td>int64</td>\n",
              "    </tr>\n",
              "    <tr>\n",
              "      <th>YearOfConstruction</th>\n",
              "      <td>int64</td>\n",
              "    </tr>\n",
              "    <tr>\n",
              "      <th>TaxClass_AtEvaluationTime</th>\n",
              "      <td>int64</td>\n",
              "    </tr>\n",
              "    <tr>\n",
              "      <th>BldgClass_AtEvaluationTime</th>\n",
              "      <td>object</td>\n",
              "    </tr>\n",
              "    <tr>\n",
              "      <th>DateOfEvaluation</th>\n",
              "      <td>object</td>\n",
              "    </tr>\n",
              "  </tbody>\n",
              "</table>\n",
              "</div>\n",
              "      <button class=\"colab-df-convert\" onclick=\"convertToInteractive('df-e9cfffb5-7b86-42e8-92a3-defa900272fe')\"\n",
              "              title=\"Convert this dataframe to an interactive table.\"\n",
              "              style=\"display:none;\">\n",
              "        \n",
              "  <svg xmlns=\"http://www.w3.org/2000/svg\" height=\"24px\"viewBox=\"0 0 24 24\"\n",
              "       width=\"24px\">\n",
              "    <path d=\"M0 0h24v24H0V0z\" fill=\"none\"/>\n",
              "    <path d=\"M18.56 5.44l.94 2.06.94-2.06 2.06-.94-2.06-.94-.94-2.06-.94 2.06-2.06.94zm-11 1L8.5 8.5l.94-2.06 2.06-.94-2.06-.94L8.5 2.5l-.94 2.06-2.06.94zm10 10l.94 2.06.94-2.06 2.06-.94-2.06-.94-.94-2.06-.94 2.06-2.06.94z\"/><path d=\"M17.41 7.96l-1.37-1.37c-.4-.4-.92-.59-1.43-.59-.52 0-1.04.2-1.43.59L10.3 9.45l-7.72 7.72c-.78.78-.78 2.05 0 2.83L4 21.41c.39.39.9.59 1.41.59.51 0 1.02-.2 1.41-.59l7.78-7.78 2.81-2.81c.8-.78.8-2.07 0-2.86zM5.41 20L4 18.59l7.72-7.72 1.47 1.35L5.41 20z\"/>\n",
              "  </svg>\n",
              "      </button>\n",
              "      \n",
              "  <style>\n",
              "    .colab-df-container {\n",
              "      display:flex;\n",
              "      flex-wrap:wrap;\n",
              "      gap: 12px;\n",
              "    }\n",
              "\n",
              "    .colab-df-convert {\n",
              "      background-color: #E8F0FE;\n",
              "      border: none;\n",
              "      border-radius: 50%;\n",
              "      cursor: pointer;\n",
              "      display: none;\n",
              "      fill: #1967D2;\n",
              "      height: 32px;\n",
              "      padding: 0 0 0 0;\n",
              "      width: 32px;\n",
              "    }\n",
              "\n",
              "    .colab-df-convert:hover {\n",
              "      background-color: #E2EBFA;\n",
              "      box-shadow: 0px 1px 2px rgba(60, 64, 67, 0.3), 0px 1px 3px 1px rgba(60, 64, 67, 0.15);\n",
              "      fill: #174EA6;\n",
              "    }\n",
              "\n",
              "    [theme=dark] .colab-df-convert {\n",
              "      background-color: #3B4455;\n",
              "      fill: #D2E3FC;\n",
              "    }\n",
              "\n",
              "    [theme=dark] .colab-df-convert:hover {\n",
              "      background-color: #434B5C;\n",
              "      box-shadow: 0px 1px 3px 1px rgba(0, 0, 0, 0.15);\n",
              "      filter: drop-shadow(0px 1px 2px rgba(0, 0, 0, 0.3));\n",
              "      fill: #FFFFFF;\n",
              "    }\n",
              "  </style>\n",
              "\n",
              "      <script>\n",
              "        const buttonEl =\n",
              "          document.querySelector('#df-e9cfffb5-7b86-42e8-92a3-defa900272fe button.colab-df-convert');\n",
              "        buttonEl.style.display =\n",
              "          google.colab.kernel.accessAllowed ? 'block' : 'none';\n",
              "\n",
              "        async function convertToInteractive(key) {\n",
              "          const element = document.querySelector('#df-e9cfffb5-7b86-42e8-92a3-defa900272fe');\n",
              "          const dataTable =\n",
              "            await google.colab.kernel.invokeFunction('convertToInteractive',\n",
              "                                                     [key], {});\n",
              "          if (!dataTable) return;\n",
              "\n",
              "          const docLinkHtml = 'Like what you see? Visit the ' +\n",
              "            '<a target=\"_blank\" href=https://colab.research.google.com/notebooks/data_table.ipynb>data table notebook</a>'\n",
              "            + ' to learn more about interactive tables.';\n",
              "          element.innerHTML = '';\n",
              "          dataTable['output_type'] = 'display_data';\n",
              "          await google.colab.output.renderOutput(dataTable, element);\n",
              "          const docLink = document.createElement('div');\n",
              "          docLink.innerHTML = docLinkHtml;\n",
              "          element.appendChild(docLink);\n",
              "        }\n",
              "      </script>\n",
              "    </div>\n",
              "  </div>\n",
              "  "
            ]
          },
          "metadata": {},
          "execution_count": 119
        }
      ],
      "source": [
        "Data_dict = pd.DataFrame(df_test.dtypes)\n",
        "Data_dict"
      ],
      "id": "2qIXZZjfsL0-"
    },
    {
      "cell_type": "code",
      "execution_count": 120,
      "metadata": {
        "colab": {
          "base_uri": "https://localhost:8080/",
          "height": 614
        },
        "id": "GLduAUgLsLoV",
        "outputId": "9c8d90c9-5192-46be-efc8-a6c8461a2892"
      },
      "outputs": [
        {
          "output_type": "execute_result",
          "data": {
            "text/plain": [
              "                                 0  UniqueVal\n",
              "PropertyID                  object       2936\n",
              "Borough                      int64          5\n",
              "State                       object          1\n",
              "Surroundings                object        223\n",
              "Address                     object       2766\n",
              "ZipCode                      int64        164\n",
              "Block                        int64       2131\n",
              "Lot                          int64        583\n",
              "BldgClassCategory           object         37\n",
              "NoOfResidentialUnits         int64         24\n",
              "NoOfCommercialUnits          int64         12\n",
              "TotalNoOfUnits               int64         24\n",
              "LandAreaInSqFt               int64       1259\n",
              "GrossAreaInSqFt              int64       1394\n",
              "YearOfConstruction           int64         72\n",
              "TaxClass_AtEvaluationTime    int64          3\n",
              "BldgClass_AtEvaluationTime  object         65\n",
              "DateOfEvaluation            object        508"
            ],
            "text/html": [
              "\n",
              "  <div id=\"df-e2bf97c8-9903-4de3-9a84-d836bbc01ac1\">\n",
              "    <div class=\"colab-df-container\">\n",
              "      <div>\n",
              "<style scoped>\n",
              "    .dataframe tbody tr th:only-of-type {\n",
              "        vertical-align: middle;\n",
              "    }\n",
              "\n",
              "    .dataframe tbody tr th {\n",
              "        vertical-align: top;\n",
              "    }\n",
              "\n",
              "    .dataframe thead th {\n",
              "        text-align: right;\n",
              "    }\n",
              "</style>\n",
              "<table border=\"1\" class=\"dataframe\">\n",
              "  <thead>\n",
              "    <tr style=\"text-align: right;\">\n",
              "      <th></th>\n",
              "      <th>0</th>\n",
              "      <th>UniqueVal</th>\n",
              "    </tr>\n",
              "  </thead>\n",
              "  <tbody>\n",
              "    <tr>\n",
              "      <th>PropertyID</th>\n",
              "      <td>object</td>\n",
              "      <td>2936</td>\n",
              "    </tr>\n",
              "    <tr>\n",
              "      <th>Borough</th>\n",
              "      <td>int64</td>\n",
              "      <td>5</td>\n",
              "    </tr>\n",
              "    <tr>\n",
              "      <th>State</th>\n",
              "      <td>object</td>\n",
              "      <td>1</td>\n",
              "    </tr>\n",
              "    <tr>\n",
              "      <th>Surroundings</th>\n",
              "      <td>object</td>\n",
              "      <td>223</td>\n",
              "    </tr>\n",
              "    <tr>\n",
              "      <th>Address</th>\n",
              "      <td>object</td>\n",
              "      <td>2766</td>\n",
              "    </tr>\n",
              "    <tr>\n",
              "      <th>ZipCode</th>\n",
              "      <td>int64</td>\n",
              "      <td>164</td>\n",
              "    </tr>\n",
              "    <tr>\n",
              "      <th>Block</th>\n",
              "      <td>int64</td>\n",
              "      <td>2131</td>\n",
              "    </tr>\n",
              "    <tr>\n",
              "      <th>Lot</th>\n",
              "      <td>int64</td>\n",
              "      <td>583</td>\n",
              "    </tr>\n",
              "    <tr>\n",
              "      <th>BldgClassCategory</th>\n",
              "      <td>object</td>\n",
              "      <td>37</td>\n",
              "    </tr>\n",
              "    <tr>\n",
              "      <th>NoOfResidentialUnits</th>\n",
              "      <td>int64</td>\n",
              "      <td>24</td>\n",
              "    </tr>\n",
              "    <tr>\n",
              "      <th>NoOfCommercialUnits</th>\n",
              "      <td>int64</td>\n",
              "      <td>12</td>\n",
              "    </tr>\n",
              "    <tr>\n",
              "      <th>TotalNoOfUnits</th>\n",
              "      <td>int64</td>\n",
              "      <td>24</td>\n",
              "    </tr>\n",
              "    <tr>\n",
              "      <th>LandAreaInSqFt</th>\n",
              "      <td>int64</td>\n",
              "      <td>1259</td>\n",
              "    </tr>\n",
              "    <tr>\n",
              "      <th>GrossAreaInSqFt</th>\n",
              "      <td>int64</td>\n",
              "      <td>1394</td>\n",
              "    </tr>\n",
              "    <tr>\n",
              "      <th>YearOfConstruction</th>\n",
              "      <td>int64</td>\n",
              "      <td>72</td>\n",
              "    </tr>\n",
              "    <tr>\n",
              "      <th>TaxClass_AtEvaluationTime</th>\n",
              "      <td>int64</td>\n",
              "      <td>3</td>\n",
              "    </tr>\n",
              "    <tr>\n",
              "      <th>BldgClass_AtEvaluationTime</th>\n",
              "      <td>object</td>\n",
              "      <td>65</td>\n",
              "    </tr>\n",
              "    <tr>\n",
              "      <th>DateOfEvaluation</th>\n",
              "      <td>object</td>\n",
              "      <td>508</td>\n",
              "    </tr>\n",
              "  </tbody>\n",
              "</table>\n",
              "</div>\n",
              "      <button class=\"colab-df-convert\" onclick=\"convertToInteractive('df-e2bf97c8-9903-4de3-9a84-d836bbc01ac1')\"\n",
              "              title=\"Convert this dataframe to an interactive table.\"\n",
              "              style=\"display:none;\">\n",
              "        \n",
              "  <svg xmlns=\"http://www.w3.org/2000/svg\" height=\"24px\"viewBox=\"0 0 24 24\"\n",
              "       width=\"24px\">\n",
              "    <path d=\"M0 0h24v24H0V0z\" fill=\"none\"/>\n",
              "    <path d=\"M18.56 5.44l.94 2.06.94-2.06 2.06-.94-2.06-.94-.94-2.06-.94 2.06-2.06.94zm-11 1L8.5 8.5l.94-2.06 2.06-.94-2.06-.94L8.5 2.5l-.94 2.06-2.06.94zm10 10l.94 2.06.94-2.06 2.06-.94-2.06-.94-.94-2.06-.94 2.06-2.06.94z\"/><path d=\"M17.41 7.96l-1.37-1.37c-.4-.4-.92-.59-1.43-.59-.52 0-1.04.2-1.43.59L10.3 9.45l-7.72 7.72c-.78.78-.78 2.05 0 2.83L4 21.41c.39.39.9.59 1.41.59.51 0 1.02-.2 1.41-.59l7.78-7.78 2.81-2.81c.8-.78.8-2.07 0-2.86zM5.41 20L4 18.59l7.72-7.72 1.47 1.35L5.41 20z\"/>\n",
              "  </svg>\n",
              "      </button>\n",
              "      \n",
              "  <style>\n",
              "    .colab-df-container {\n",
              "      display:flex;\n",
              "      flex-wrap:wrap;\n",
              "      gap: 12px;\n",
              "    }\n",
              "\n",
              "    .colab-df-convert {\n",
              "      background-color: #E8F0FE;\n",
              "      border: none;\n",
              "      border-radius: 50%;\n",
              "      cursor: pointer;\n",
              "      display: none;\n",
              "      fill: #1967D2;\n",
              "      height: 32px;\n",
              "      padding: 0 0 0 0;\n",
              "      width: 32px;\n",
              "    }\n",
              "\n",
              "    .colab-df-convert:hover {\n",
              "      background-color: #E2EBFA;\n",
              "      box-shadow: 0px 1px 2px rgba(60, 64, 67, 0.3), 0px 1px 3px 1px rgba(60, 64, 67, 0.15);\n",
              "      fill: #174EA6;\n",
              "    }\n",
              "\n",
              "    [theme=dark] .colab-df-convert {\n",
              "      background-color: #3B4455;\n",
              "      fill: #D2E3FC;\n",
              "    }\n",
              "\n",
              "    [theme=dark] .colab-df-convert:hover {\n",
              "      background-color: #434B5C;\n",
              "      box-shadow: 0px 1px 3px 1px rgba(0, 0, 0, 0.15);\n",
              "      filter: drop-shadow(0px 1px 2px rgba(0, 0, 0, 0.3));\n",
              "      fill: #FFFFFF;\n",
              "    }\n",
              "  </style>\n",
              "\n",
              "      <script>\n",
              "        const buttonEl =\n",
              "          document.querySelector('#df-e2bf97c8-9903-4de3-9a84-d836bbc01ac1 button.colab-df-convert');\n",
              "        buttonEl.style.display =\n",
              "          google.colab.kernel.accessAllowed ? 'block' : 'none';\n",
              "\n",
              "        async function convertToInteractive(key) {\n",
              "          const element = document.querySelector('#df-e2bf97c8-9903-4de3-9a84-d836bbc01ac1');\n",
              "          const dataTable =\n",
              "            await google.colab.kernel.invokeFunction('convertToInteractive',\n",
              "                                                     [key], {});\n",
              "          if (!dataTable) return;\n",
              "\n",
              "          const docLinkHtml = 'Like what you see? Visit the ' +\n",
              "            '<a target=\"_blank\" href=https://colab.research.google.com/notebooks/data_table.ipynb>data table notebook</a>'\n",
              "            + ' to learn more about interactive tables.';\n",
              "          element.innerHTML = '';\n",
              "          dataTable['output_type'] = 'display_data';\n",
              "          await google.colab.output.renderOutput(dataTable, element);\n",
              "          const docLink = document.createElement('div');\n",
              "          docLink.innerHTML = docLinkHtml;\n",
              "          element.appendChild(docLink);\n",
              "        }\n",
              "      </script>\n",
              "    </div>\n",
              "  </div>\n",
              "  "
            ]
          },
          "metadata": {},
          "execution_count": 120
        }
      ],
      "source": [
        "\n",
        "Data_dict['UniqueVal'] = df_test.nunique()\n",
        "Data_dict"
      ],
      "id": "GLduAUgLsLoV"
    },
    {
      "cell_type": "code",
      "execution_count": 121,
      "metadata": {
        "colab": {
          "base_uri": "https://localhost:8080/",
          "height": 458
        },
        "id": "5e2e675e",
        "outputId": "83620802-cc22-4a10-ae54-623c5bcfaf3f"
      },
      "outputs": [
        {
          "output_type": "execute_result",
          "data": {
            "text/plain": [
              "                            Borough   ZipCode     Block       Lot  \\\n",
              "Borough                    1.000000  0.457944  0.299355  0.009729   \n",
              "ZipCode                    0.457944  1.000000  0.511020 -0.100147   \n",
              "Block                      0.299355  0.511020  1.000000 -0.227373   \n",
              "Lot                        0.009729 -0.100147 -0.227373  1.000000   \n",
              "NoOfResidentialUnits      -0.028404  0.031245 -0.001826 -0.047423   \n",
              "NoOfCommercialUnits        0.046972  0.004580 -0.041608 -0.020048   \n",
              "TotalNoOfUnits            -0.014714  0.030587 -0.012371 -0.049777   \n",
              "LandAreaInSqFt             0.039233 -0.049038 -0.046156  0.399012   \n",
              "GrossAreaInSqFt            0.043270 -0.165990 -0.139460 -0.076744   \n",
              "YearOfConstruction        -0.179691 -0.239600 -0.266536  0.341295   \n",
              "TaxClass_AtEvaluationTime  0.028197 -0.066878 -0.239526  0.276031   \n",
              "\n",
              "                           NoOfResidentialUnits  NoOfCommercialUnits  \\\n",
              "Borough                               -0.028404             0.046972   \n",
              "ZipCode                                0.031245             0.004580   \n",
              "Block                                 -0.001826            -0.041608   \n",
              "Lot                                   -0.047423            -0.020048   \n",
              "NoOfResidentialUnits                   1.000000             0.100063   \n",
              "NoOfCommercialUnits                    0.100063             1.000000   \n",
              "TotalNoOfUnits                         0.967011             0.350219   \n",
              "LandAreaInSqFt                        -0.001254            -0.006003   \n",
              "GrossAreaInSqFt                        0.308146             0.333557   \n",
              "YearOfConstruction                     0.022131             0.071432   \n",
              "TaxClass_AtEvaluationTime             -0.002647             0.386007   \n",
              "\n",
              "                           TotalNoOfUnits  LandAreaInSqFt  GrossAreaInSqFt  \\\n",
              "Borough                         -0.014714        0.039233         0.043270   \n",
              "ZipCode                          0.030587       -0.049038        -0.165990   \n",
              "Block                           -0.012371       -0.046156        -0.139460   \n",
              "Lot                             -0.049777        0.399012        -0.076744   \n",
              "NoOfResidentialUnits             0.967011       -0.001254         0.308146   \n",
              "NoOfCommercialUnits              0.350219       -0.006003         0.333557   \n",
              "TotalNoOfUnits                   1.000000       -0.002717         0.375484   \n",
              "LandAreaInSqFt                  -0.002717        1.000000        -0.007201   \n",
              "GrossAreaInSqFt                  0.375484       -0.007201         1.000000   \n",
              "YearOfConstruction               0.039122        0.038060         0.167455   \n",
              "TaxClass_AtEvaluationTime        0.096334        0.068779         0.489584   \n",
              "\n",
              "                           YearOfConstruction  TaxClass_AtEvaluationTime  \n",
              "Borough                             -0.179691                   0.028197  \n",
              "ZipCode                             -0.239600                  -0.066878  \n",
              "Block                               -0.266536                  -0.239526  \n",
              "Lot                                  0.341295                   0.276031  \n",
              "NoOfResidentialUnits                 0.022131                  -0.002647  \n",
              "NoOfCommercialUnits                  0.071432                   0.386007  \n",
              "TotalNoOfUnits                       0.039122                   0.096334  \n",
              "LandAreaInSqFt                       0.038060                   0.068779  \n",
              "GrossAreaInSqFt                      0.167455                   0.489584  \n",
              "YearOfConstruction                   1.000000                   0.270110  \n",
              "TaxClass_AtEvaluationTime            0.270110                   1.000000  "
            ],
            "text/html": [
              "\n",
              "  <div id=\"df-5122db82-261f-42cb-ab5a-02704c4fd173\">\n",
              "    <div class=\"colab-df-container\">\n",
              "      <div>\n",
              "<style scoped>\n",
              "    .dataframe tbody tr th:only-of-type {\n",
              "        vertical-align: middle;\n",
              "    }\n",
              "\n",
              "    .dataframe tbody tr th {\n",
              "        vertical-align: top;\n",
              "    }\n",
              "\n",
              "    .dataframe thead th {\n",
              "        text-align: right;\n",
              "    }\n",
              "</style>\n",
              "<table border=\"1\" class=\"dataframe\">\n",
              "  <thead>\n",
              "    <tr style=\"text-align: right;\">\n",
              "      <th></th>\n",
              "      <th>Borough</th>\n",
              "      <th>ZipCode</th>\n",
              "      <th>Block</th>\n",
              "      <th>Lot</th>\n",
              "      <th>NoOfResidentialUnits</th>\n",
              "      <th>NoOfCommercialUnits</th>\n",
              "      <th>TotalNoOfUnits</th>\n",
              "      <th>LandAreaInSqFt</th>\n",
              "      <th>GrossAreaInSqFt</th>\n",
              "      <th>YearOfConstruction</th>\n",
              "      <th>TaxClass_AtEvaluationTime</th>\n",
              "    </tr>\n",
              "  </thead>\n",
              "  <tbody>\n",
              "    <tr>\n",
              "      <th>Borough</th>\n",
              "      <td>1.000000</td>\n",
              "      <td>0.457944</td>\n",
              "      <td>0.299355</td>\n",
              "      <td>0.009729</td>\n",
              "      <td>-0.028404</td>\n",
              "      <td>0.046972</td>\n",
              "      <td>-0.014714</td>\n",
              "      <td>0.039233</td>\n",
              "      <td>0.043270</td>\n",
              "      <td>-0.179691</td>\n",
              "      <td>0.028197</td>\n",
              "    </tr>\n",
              "    <tr>\n",
              "      <th>ZipCode</th>\n",
              "      <td>0.457944</td>\n",
              "      <td>1.000000</td>\n",
              "      <td>0.511020</td>\n",
              "      <td>-0.100147</td>\n",
              "      <td>0.031245</td>\n",
              "      <td>0.004580</td>\n",
              "      <td>0.030587</td>\n",
              "      <td>-0.049038</td>\n",
              "      <td>-0.165990</td>\n",
              "      <td>-0.239600</td>\n",
              "      <td>-0.066878</td>\n",
              "    </tr>\n",
              "    <tr>\n",
              "      <th>Block</th>\n",
              "      <td>0.299355</td>\n",
              "      <td>0.511020</td>\n",
              "      <td>1.000000</td>\n",
              "      <td>-0.227373</td>\n",
              "      <td>-0.001826</td>\n",
              "      <td>-0.041608</td>\n",
              "      <td>-0.012371</td>\n",
              "      <td>-0.046156</td>\n",
              "      <td>-0.139460</td>\n",
              "      <td>-0.266536</td>\n",
              "      <td>-0.239526</td>\n",
              "    </tr>\n",
              "    <tr>\n",
              "      <th>Lot</th>\n",
              "      <td>0.009729</td>\n",
              "      <td>-0.100147</td>\n",
              "      <td>-0.227373</td>\n",
              "      <td>1.000000</td>\n",
              "      <td>-0.047423</td>\n",
              "      <td>-0.020048</td>\n",
              "      <td>-0.049777</td>\n",
              "      <td>0.399012</td>\n",
              "      <td>-0.076744</td>\n",
              "      <td>0.341295</td>\n",
              "      <td>0.276031</td>\n",
              "    </tr>\n",
              "    <tr>\n",
              "      <th>NoOfResidentialUnits</th>\n",
              "      <td>-0.028404</td>\n",
              "      <td>0.031245</td>\n",
              "      <td>-0.001826</td>\n",
              "      <td>-0.047423</td>\n",
              "      <td>1.000000</td>\n",
              "      <td>0.100063</td>\n",
              "      <td>0.967011</td>\n",
              "      <td>-0.001254</td>\n",
              "      <td>0.308146</td>\n",
              "      <td>0.022131</td>\n",
              "      <td>-0.002647</td>\n",
              "    </tr>\n",
              "    <tr>\n",
              "      <th>NoOfCommercialUnits</th>\n",
              "      <td>0.046972</td>\n",
              "      <td>0.004580</td>\n",
              "      <td>-0.041608</td>\n",
              "      <td>-0.020048</td>\n",
              "      <td>0.100063</td>\n",
              "      <td>1.000000</td>\n",
              "      <td>0.350219</td>\n",
              "      <td>-0.006003</td>\n",
              "      <td>0.333557</td>\n",
              "      <td>0.071432</td>\n",
              "      <td>0.386007</td>\n",
              "    </tr>\n",
              "    <tr>\n",
              "      <th>TotalNoOfUnits</th>\n",
              "      <td>-0.014714</td>\n",
              "      <td>0.030587</td>\n",
              "      <td>-0.012371</td>\n",
              "      <td>-0.049777</td>\n",
              "      <td>0.967011</td>\n",
              "      <td>0.350219</td>\n",
              "      <td>1.000000</td>\n",
              "      <td>-0.002717</td>\n",
              "      <td>0.375484</td>\n",
              "      <td>0.039122</td>\n",
              "      <td>0.096334</td>\n",
              "    </tr>\n",
              "    <tr>\n",
              "      <th>LandAreaInSqFt</th>\n",
              "      <td>0.039233</td>\n",
              "      <td>-0.049038</td>\n",
              "      <td>-0.046156</td>\n",
              "      <td>0.399012</td>\n",
              "      <td>-0.001254</td>\n",
              "      <td>-0.006003</td>\n",
              "      <td>-0.002717</td>\n",
              "      <td>1.000000</td>\n",
              "      <td>-0.007201</td>\n",
              "      <td>0.038060</td>\n",
              "      <td>0.068779</td>\n",
              "    </tr>\n",
              "    <tr>\n",
              "      <th>GrossAreaInSqFt</th>\n",
              "      <td>0.043270</td>\n",
              "      <td>-0.165990</td>\n",
              "      <td>-0.139460</td>\n",
              "      <td>-0.076744</td>\n",
              "      <td>0.308146</td>\n",
              "      <td>0.333557</td>\n",
              "      <td>0.375484</td>\n",
              "      <td>-0.007201</td>\n",
              "      <td>1.000000</td>\n",
              "      <td>0.167455</td>\n",
              "      <td>0.489584</td>\n",
              "    </tr>\n",
              "    <tr>\n",
              "      <th>YearOfConstruction</th>\n",
              "      <td>-0.179691</td>\n",
              "      <td>-0.239600</td>\n",
              "      <td>-0.266536</td>\n",
              "      <td>0.341295</td>\n",
              "      <td>0.022131</td>\n",
              "      <td>0.071432</td>\n",
              "      <td>0.039122</td>\n",
              "      <td>0.038060</td>\n",
              "      <td>0.167455</td>\n",
              "      <td>1.000000</td>\n",
              "      <td>0.270110</td>\n",
              "    </tr>\n",
              "    <tr>\n",
              "      <th>TaxClass_AtEvaluationTime</th>\n",
              "      <td>0.028197</td>\n",
              "      <td>-0.066878</td>\n",
              "      <td>-0.239526</td>\n",
              "      <td>0.276031</td>\n",
              "      <td>-0.002647</td>\n",
              "      <td>0.386007</td>\n",
              "      <td>0.096334</td>\n",
              "      <td>0.068779</td>\n",
              "      <td>0.489584</td>\n",
              "      <td>0.270110</td>\n",
              "      <td>1.000000</td>\n",
              "    </tr>\n",
              "  </tbody>\n",
              "</table>\n",
              "</div>\n",
              "      <button class=\"colab-df-convert\" onclick=\"convertToInteractive('df-5122db82-261f-42cb-ab5a-02704c4fd173')\"\n",
              "              title=\"Convert this dataframe to an interactive table.\"\n",
              "              style=\"display:none;\">\n",
              "        \n",
              "  <svg xmlns=\"http://www.w3.org/2000/svg\" height=\"24px\"viewBox=\"0 0 24 24\"\n",
              "       width=\"24px\">\n",
              "    <path d=\"M0 0h24v24H0V0z\" fill=\"none\"/>\n",
              "    <path d=\"M18.56 5.44l.94 2.06.94-2.06 2.06-.94-2.06-.94-.94-2.06-.94 2.06-2.06.94zm-11 1L8.5 8.5l.94-2.06 2.06-.94-2.06-.94L8.5 2.5l-.94 2.06-2.06.94zm10 10l.94 2.06.94-2.06 2.06-.94-2.06-.94-.94-2.06-.94 2.06-2.06.94z\"/><path d=\"M17.41 7.96l-1.37-1.37c-.4-.4-.92-.59-1.43-.59-.52 0-1.04.2-1.43.59L10.3 9.45l-7.72 7.72c-.78.78-.78 2.05 0 2.83L4 21.41c.39.39.9.59 1.41.59.51 0 1.02-.2 1.41-.59l7.78-7.78 2.81-2.81c.8-.78.8-2.07 0-2.86zM5.41 20L4 18.59l7.72-7.72 1.47 1.35L5.41 20z\"/>\n",
              "  </svg>\n",
              "      </button>\n",
              "      \n",
              "  <style>\n",
              "    .colab-df-container {\n",
              "      display:flex;\n",
              "      flex-wrap:wrap;\n",
              "      gap: 12px;\n",
              "    }\n",
              "\n",
              "    .colab-df-convert {\n",
              "      background-color: #E8F0FE;\n",
              "      border: none;\n",
              "      border-radius: 50%;\n",
              "      cursor: pointer;\n",
              "      display: none;\n",
              "      fill: #1967D2;\n",
              "      height: 32px;\n",
              "      padding: 0 0 0 0;\n",
              "      width: 32px;\n",
              "    }\n",
              "\n",
              "    .colab-df-convert:hover {\n",
              "      background-color: #E2EBFA;\n",
              "      box-shadow: 0px 1px 2px rgba(60, 64, 67, 0.3), 0px 1px 3px 1px rgba(60, 64, 67, 0.15);\n",
              "      fill: #174EA6;\n",
              "    }\n",
              "\n",
              "    [theme=dark] .colab-df-convert {\n",
              "      background-color: #3B4455;\n",
              "      fill: #D2E3FC;\n",
              "    }\n",
              "\n",
              "    [theme=dark] .colab-df-convert:hover {\n",
              "      background-color: #434B5C;\n",
              "      box-shadow: 0px 1px 3px 1px rgba(0, 0, 0, 0.15);\n",
              "      filter: drop-shadow(0px 1px 2px rgba(0, 0, 0, 0.3));\n",
              "      fill: #FFFFFF;\n",
              "    }\n",
              "  </style>\n",
              "\n",
              "      <script>\n",
              "        const buttonEl =\n",
              "          document.querySelector('#df-5122db82-261f-42cb-ab5a-02704c4fd173 button.colab-df-convert');\n",
              "        buttonEl.style.display =\n",
              "          google.colab.kernel.accessAllowed ? 'block' : 'none';\n",
              "\n",
              "        async function convertToInteractive(key) {\n",
              "          const element = document.querySelector('#df-5122db82-261f-42cb-ab5a-02704c4fd173');\n",
              "          const dataTable =\n",
              "            await google.colab.kernel.invokeFunction('convertToInteractive',\n",
              "                                                     [key], {});\n",
              "          if (!dataTable) return;\n",
              "\n",
              "          const docLinkHtml = 'Like what you see? Visit the ' +\n",
              "            '<a target=\"_blank\" href=https://colab.research.google.com/notebooks/data_table.ipynb>data table notebook</a>'\n",
              "            + ' to learn more about interactive tables.';\n",
              "          element.innerHTML = '';\n",
              "          dataTable['output_type'] = 'display_data';\n",
              "          await google.colab.output.renderOutput(dataTable, element);\n",
              "          const docLink = document.createElement('div');\n",
              "          docLink.innerHTML = docLinkHtml;\n",
              "          element.appendChild(docLink);\n",
              "        }\n",
              "      </script>\n",
              "    </div>\n",
              "  </div>\n",
              "  "
            ]
          },
          "metadata": {},
          "execution_count": 121
        }
      ],
      "source": [
        "corr = df_test.corr()\n",
        "corr"
      ],
      "id": "5e2e675e"
    },
    {
      "cell_type": "code",
      "execution_count": 122,
      "metadata": {
        "colab": {
          "base_uri": "https://localhost:8080/",
          "height": 413
        },
        "id": "5b7fefa6",
        "outputId": "0966c3af-93e3-4f22-f73f-951091e511eb"
      },
      "outputs": [
        {
          "output_type": "execute_result",
          "data": {
            "text/plain": [
              "<matplotlib.axes._subplots.AxesSubplot at 0x7f82f9897090>"
            ]
          },
          "metadata": {},
          "execution_count": 122
        },
        {
          "output_type": "display_data",
          "data": {
            "text/plain": [
              "<Figure size 432x288 with 2 Axes>"
            ],
            "image/png": "[encoded data removed]"
          },
          "metadata": {
            "needs_background": "light"
          }
        }
      ],
      "source": [
        "sns.heatmap(corr)"
      ],
      "id": "5b7fefa6"
    },
    {
      "cell_type": "code",
      "execution_count": 123,
      "metadata": {
        "id": "36da414b"
      },
      "outputs": [],
      "source": [
        "#since TotalNoOfUnits and NoOfResidentialUnits have strong co relation drop one column\n",
        "\n",
        "df_test = df_test.drop(['TotalNoOfUnits'],  axis=1)"
      ],
      "id": "36da414b"
    },
    {
      "cell_type": "code",
      "execution_count": 124,
      "metadata": {
        "colab": {
          "base_uri": "https://localhost:8080/",
          "height": 354
        },
        "id": "28ead5fa",
        "outputId": "2aef2579-b6cc-49b3-a812-381a6f8c658b"
      },
      "outputs": [
        {
          "output_type": "stream",
          "name": "stderr",
          "text": [
            "/usr/local/lib/python3.7/dist-packages/seaborn/_decorators.py:43: FutureWarning: Pass the following variable as a keyword arg: x. From version 0.12, the only valid positional argument will be `data`, and passing other arguments without an explicit keyword will result in an error or misinterpretation.\n",
            "  FutureWarning\n"
          ]
        },
        {
          "output_type": "execute_result",
          "data": {
            "text/plain": [
              "<matplotlib.axes._subplots.AxesSubplot at 0x7f82f97d69d0>"
            ]
          },
          "metadata": {},
          "execution_count": 124
        },
        {
          "output_type": "display_data",
          "data": {
            "text/plain": [
              "<Figure size 432x288 with 1 Axes>"
            ],
            "image/png": "[encoded data removed]"
          },
          "metadata": {
            "needs_background": "light"
          }
        }
      ],
      "source": [
        "sns.boxplot(df_test['Lot'])"
      ],
      "id": "28ead5fa"
    },
    {
      "cell_type": "code",
      "execution_count": 125,
      "metadata": {
        "colab": {
          "base_uri": "https://localhost:8080/",
          "height": 354
        },
        "id": "2d06a06a",
        "outputId": "8f409824-a7a5-49ba-d4af-91f319e5397b"
      },
      "outputs": [
        {
          "output_type": "stream",
          "name": "stderr",
          "text": [
            "/usr/local/lib/python3.7/dist-packages/seaborn/_decorators.py:43: FutureWarning: Pass the following variable as a keyword arg: x. From version 0.12, the only valid positional argument will be `data`, and passing other arguments without an explicit keyword will result in an error or misinterpretation.\n",
            "  FutureWarning\n"
          ]
        },
        {
          "output_type": "execute_result",
          "data": {
            "text/plain": [
              "<matplotlib.axes._subplots.AxesSubplot at 0x7f82f974bf10>"
            ]
          },
          "metadata": {},
          "execution_count": 125
        },
        {
          "output_type": "display_data",
          "data": {
            "text/plain": [
              "<Figure size 432x288 with 1 Axes>"
            ],
            "image/png": "[encoded data removed]"
          },
          "metadata": {
            "needs_background": "light"
          }
        }
      ],
      "source": [
        "sns.boxplot(df_test['GrossAreaInSqFt'])"
      ],
      "id": "2d06a06a"
    },
    {
      "cell_type": "code",
      "execution_count": 126,
      "metadata": {
        "colab": {
          "base_uri": "https://localhost:8080/",
          "height": 354
        },
        "id": "68591e82",
        "outputId": "7126fea6-498b-4005-e2da-41592da3b3d3"
      },
      "outputs": [
        {
          "output_type": "stream",
          "name": "stderr",
          "text": [
            "/usr/local/lib/python3.7/dist-packages/seaborn/_decorators.py:43: FutureWarning: Pass the following variable as a keyword arg: x. From version 0.12, the only valid positional argument will be `data`, and passing other arguments without an explicit keyword will result in an error or misinterpretation.\n",
            "  FutureWarning\n"
          ]
        },
        {
          "output_type": "execute_result",
          "data": {
            "text/plain": [
              "<matplotlib.axes._subplots.AxesSubplot at 0x7f82f973bd50>"
            ]
          },
          "metadata": {},
          "execution_count": 126
        },
        {
          "output_type": "display_data",
          "data": {
            "text/plain": [
              "<Figure size 432x288 with 1 Axes>"
            ],
            "image/png": "[encoded data removed]"
          },
          "metadata": {
            "needs_background": "light"
          }
        }
      ],
      "source": [
        "sns.boxplot(df_test['LandAreaInSqFt'])"
      ],
      "id": "68591e82"
    },
    {
      "cell_type": "code",
      "execution_count": 127,
      "metadata": {
        "id": "091fbbe4"
      },
      "outputs": [],
      "source": [
        "#outlier treatment by upper bound and lower bound\n",
        "\n",
        "per25 = df_test['Lot'].quantile(0.25)\n",
        "per75 = df_test['Lot'].quantile(0.75)"
      ],
      "id": "091fbbe4"
    },
    {
      "cell_type": "code",
      "execution_count": 128,
      "metadata": {
        "colab": {
          "base_uri": "https://localhost:8080/",
          "height": 0
        },
        "id": "debcfcc0",
        "outputId": "336b07d5-ae99-43d0-948e-f2870fe1af8d"
      },
      "outputs": [
        {
          "output_type": "execute_result",
          "data": {
            "text/plain": [
              "25.0"
            ]
          },
          "metadata": {},
          "execution_count": 128
        }
      ],
      "source": [
        "per25"
      ],
      "id": "debcfcc0"
    },
    {
      "cell_type": "code",
      "execution_count": 129,
      "metadata": {
        "colab": {
          "base_uri": "https://localhost:8080/",
          "height": 0
        },
        "id": "43e5cae0",
        "outputId": "a6805b87-5cdc-43d6-eb06-99508d9e1d59"
      },
      "outputs": [
        {
          "output_type": "execute_result",
          "data": {
            "text/plain": [
              "146.0"
            ]
          },
          "metadata": {},
          "execution_count": 129
        }
      ],
      "source": [
        "per75"
      ],
      "id": "43e5cae0"
    },
    {
      "cell_type": "code",
      "execution_count": 130,
      "metadata": {
        "id": "0b47d366"
      },
      "outputs": [],
      "source": [
        "iqr = per75 - per25"
      ],
      "id": "0b47d366"
    },
    {
      "cell_type": "code",
      "execution_count": 131,
      "metadata": {
        "colab": {
          "base_uri": "https://localhost:8080/",
          "height": 0
        },
        "id": "9ac5d9bf",
        "outputId": "362a6e93-0a2d-4dd1-8ce4-521d82e51986"
      },
      "outputs": [
        {
          "output_type": "execute_result",
          "data": {
            "text/plain": [
              "121.0"
            ]
          },
          "metadata": {},
          "execution_count": 131
        }
      ],
      "source": [
        "iqr"
      ],
      "id": "9ac5d9bf"
    },
    {
      "cell_type": "code",
      "execution_count": 132,
      "metadata": {
        "id": "0d4a7562"
      },
      "outputs": [],
      "source": [
        "upper_limit = per75 + 1.5 * iqr\n",
        "lower_limit = per25 - 1.5 * iqr"
      ],
      "id": "0d4a7562"
    },
    {
      "cell_type": "code",
      "execution_count": 133,
      "metadata": {
        "colab": {
          "base_uri": "https://localhost:8080/",
          "height": 0
        },
        "id": "317afe4c",
        "outputId": "5b3cd834-eecd-4770-8666-e8e777b3d6d3"
      },
      "outputs": [
        {
          "output_type": "execute_result",
          "data": {
            "text/plain": [
              "327.5"
            ]
          },
          "metadata": {},
          "execution_count": 133
        }
      ],
      "source": [
        "upper_limit"
      ],
      "id": "317afe4c"
    },
    {
      "cell_type": "code",
      "execution_count": 134,
      "metadata": {
        "colab": {
          "base_uri": "https://localhost:8080/",
          "height": 0
        },
        "id": "95c5248a",
        "outputId": "85facdba-dbf1-482c-9d07-16252a32c1f7"
      },
      "outputs": [
        {
          "output_type": "execute_result",
          "data": {
            "text/plain": [
              "-156.5"
            ]
          },
          "metadata": {},
          "execution_count": 134
        }
      ],
      "source": [
        "lower_limit"
      ],
      "id": "95c5248a"
    },
    {
      "cell_type": "code",
      "execution_count": 135,
      "metadata": {
        "id": "dadd5a32"
      },
      "outputs": [],
      "source": [
        "df_test['Lot'] = np.where(df_test['Lot'] > upper_limit, upper_limit,\n",
        "                    np.where(df_test['Lot'] < lower_limit, lower_limit,\n",
        "                    df_test['Lot'] ))"
      ],
      "id": "dadd5a32"
    },
    {
      "cell_type": "code",
      "execution_count": 136,
      "metadata": {
        "colab": {
          "base_uri": "https://localhost:8080/",
          "height": 0
        },
        "id": "2cb5bd4d",
        "outputId": "5c2d1a45-449e-4b91-ff06-65318690aeb1"
      },
      "outputs": [
        {
          "output_type": "execute_result",
          "data": {
            "text/plain": [
              "count    2936.000000\n",
              "mean      107.877895\n",
              "std       115.291943\n",
              "min         1.000000\n",
              "25%        25.000000\n",
              "50%        54.000000\n",
              "75%       146.000000\n",
              "max       327.500000\n",
              "Name: Lot, dtype: float64"
            ]
          },
          "metadata": {},
          "execution_count": 136
        }
      ],
      "source": [
        "df_test['Lot'].describe()"
      ],
      "id": "2cb5bd4d"
    },
    {
      "cell_type": "code",
      "execution_count": 137,
      "metadata": {
        "colab": {
          "base_uri": "https://localhost:8080/",
          "height": 354
        },
        "id": "d1589fe8",
        "outputId": "8e3e35b0-e299-475a-fb15-e2af7e597e27"
      },
      "outputs": [
        {
          "output_type": "stream",
          "name": "stderr",
          "text": [
            "/usr/local/lib/python3.7/dist-packages/seaborn/_decorators.py:43: FutureWarning: Pass the following variable as a keyword arg: x. From version 0.12, the only valid positional argument will be `data`, and passing other arguments without an explicit keyword will result in an error or misinterpretation.\n",
            "  FutureWarning\n"
          ]
        },
        {
          "output_type": "execute_result",
          "data": {
            "text/plain": [
              "<matplotlib.axes._subplots.AxesSubplot at 0x7f82f97d6c10>"
            ]
          },
          "metadata": {},
          "execution_count": 137
        },
        {
          "output_type": "display_data",
          "data": {
            "text/plain": [
              "<Figure size 432x288 with 1 Axes>"
            ],
            "image/png": "[encoded data removed]"
          },
          "metadata": {
            "needs_background": "light"
          }
        }
      ],
      "source": [
        "sns.boxplot(df_test['Lot'])"
      ],
      "id": "d1589fe8"
    },
    {
      "cell_type": "code",
      "execution_count": 138,
      "metadata": {
        "id": "6595a669"
      },
      "outputs": [],
      "source": [
        "#outlier treatment for GrossAreaInSqFt\n",
        "\n",
        "per25 = df_test['GrossAreaInSqFt'].quantile(0.25)\n",
        "per75 = df_test['GrossAreaInSqFt'].quantile(0.75)"
      ],
      "id": "6595a669"
    },
    {
      "cell_type": "code",
      "execution_count": 139,
      "metadata": {
        "id": "2b91e5aa"
      },
      "outputs": [],
      "source": [
        "iqr = per75 - per25"
      ],
      "id": "2b91e5aa"
    },
    {
      "cell_type": "code",
      "execution_count": 140,
      "metadata": {
        "id": "5bcbebbe"
      },
      "outputs": [],
      "source": [
        "upper_limit = per75 + 1.5 * iqr\n",
        "lower_limit = per25 - 1.5 * iqr"
      ],
      "id": "5bcbebbe"
    },
    {
      "cell_type": "code",
      "execution_count": 141,
      "metadata": {
        "id": "d0a2bac0"
      },
      "outputs": [],
      "source": [
        "df_test['GrossAreaInSqFt'] = np.where(df_test['GrossAreaInSqFt'] > upper_limit, upper_limit,\n",
        "                    np.where(df_test['GrossAreaInSqFt'] < lower_limit, lower_limit,\n",
        "                    df_test['GrossAreaInSqFt'] ))"
      ],
      "id": "d0a2bac0"
    },
    {
      "cell_type": "code",
      "execution_count": 142,
      "metadata": {
        "colab": {
          "base_uri": "https://localhost:8080/",
          "height": 0
        },
        "id": "da318b65",
        "outputId": "8415dce9-1690-413d-d762-4acd967045b7"
      },
      "outputs": [
        {
          "output_type": "execute_result",
          "data": {
            "text/plain": [
              "count    2936.000000\n",
              "mean     1942.514561\n",
              "std       966.164450\n",
              "min        80.000000\n",
              "25%      1222.000000\n",
              "50%      1720.000000\n",
              "75%      2440.250000\n",
              "max      4267.625000\n",
              "Name: GrossAreaInSqFt, dtype: float64"
            ]
          },
          "metadata": {},
          "execution_count": 142
        }
      ],
      "source": [
        "df_test['GrossAreaInSqFt'].describe()"
      ],
      "id": "da318b65"
    },
    {
      "cell_type": "code",
      "execution_count": 143,
      "metadata": {
        "colab": {
          "base_uri": "https://localhost:8080/",
          "height": 354
        },
        "id": "0bb49338",
        "outputId": "6a08febf-b9ce-4129-b965-7ea5c1c4964b"
      },
      "outputs": [
        {
          "output_type": "stream",
          "name": "stderr",
          "text": [
            "/usr/local/lib/python3.7/dist-packages/seaborn/_decorators.py:43: FutureWarning: Pass the following variable as a keyword arg: x. From version 0.12, the only valid positional argument will be `data`, and passing other arguments without an explicit keyword will result in an error or misinterpretation.\n",
            "  FutureWarning\n"
          ]
        },
        {
          "output_type": "execute_result",
          "data": {
            "text/plain": [
              "<matplotlib.axes._subplots.AxesSubplot at 0x7f82f962d490>"
            ]
          },
          "metadata": {},
          "execution_count": 143
        },
        {
          "output_type": "display_data",
          "data": {
            "text/plain": [
              "<Figure size 432x288 with 1 Axes>"
            ],
            "image/png": "[encoded data removed]"
          },
          "metadata": {
            "needs_background": "light"
          }
        }
      ],
      "source": [
        "sns.boxplot(df_test['GrossAreaInSqFt'])"
      ],
      "id": "0bb49338"
    },
    {
      "cell_type": "code",
      "execution_count": 144,
      "metadata": {
        "id": "c82e2b5c"
      },
      "outputs": [],
      "source": [
        "#outlier treatment for LandAreaInSqFt\n",
        "\n",
        "per25 = df_test['LandAreaInSqFt'].quantile(0.25)\n",
        "per75 = df_test['LandAreaInSqFt'].quantile(0.75)"
      ],
      "id": "c82e2b5c"
    },
    {
      "cell_type": "code",
      "execution_count": 145,
      "metadata": {
        "id": "3fc67883"
      },
      "outputs": [],
      "source": [
        "iqr = per75 - per25"
      ],
      "id": "3fc67883"
    },
    {
      "cell_type": "code",
      "execution_count": 146,
      "metadata": {
        "id": "e5eee386"
      },
      "outputs": [],
      "source": [
        "upper_limit = per75 + 1.5 * iqr\n",
        "lower_limit = per25 - 1.5 * iqr"
      ],
      "id": "e5eee386"
    },
    {
      "cell_type": "code",
      "execution_count": 147,
      "metadata": {
        "id": "a72bbe39"
      },
      "outputs": [],
      "source": [
        "df_test['LandAreaInSqFt'] = np.where(df_test['LandAreaInSqFt'] > upper_limit, upper_limit,\n",
        "                    np.where(df_test['LandAreaInSqFt'] < lower_limit, lower_limit,\n",
        "                    df_test['LandAreaInSqFt'] ))"
      ],
      "id": "a72bbe39"
    },
    {
      "cell_type": "code",
      "execution_count": 148,
      "metadata": {
        "colab": {
          "base_uri": "https://localhost:8080/",
          "height": 0
        },
        "id": "cea9214b",
        "outputId": "034bf13c-75ad-481c-8047-f7d377f6c6a9"
      },
      "outputs": [
        {
          "output_type": "execute_result",
          "data": {
            "text/plain": [
              "count    2936.000000\n",
              "mean     4050.566417\n",
              "std      2586.540249\n",
              "min         1.000000\n",
              "25%      2100.000000\n",
              "50%      3126.500000\n",
              "75%      5000.000000\n",
              "max      9350.000000\n",
              "Name: LandAreaInSqFt, dtype: float64"
            ]
          },
          "metadata": {},
          "execution_count": 148
        }
      ],
      "source": [
        "df_test['LandAreaInSqFt'].describe()"
      ],
      "id": "cea9214b"
    },
    {
      "cell_type": "code",
      "execution_count": 149,
      "metadata": {
        "colab": {
          "base_uri": "https://localhost:8080/",
          "height": 354
        },
        "id": "f9a7d9f6",
        "outputId": "5c19fc77-fbb5-43e4-f977-c8369b81fb0d"
      },
      "outputs": [
        {
          "output_type": "stream",
          "name": "stderr",
          "text": [
            "/usr/local/lib/python3.7/dist-packages/seaborn/_decorators.py:43: FutureWarning: Pass the following variable as a keyword arg: x. From version 0.12, the only valid positional argument will be `data`, and passing other arguments without an explicit keyword will result in an error or misinterpretation.\n",
            "  FutureWarning\n"
          ]
        },
        {
          "output_type": "execute_result",
          "data": {
            "text/plain": [
              "<matplotlib.axes._subplots.AxesSubplot at 0x7f82f9597b10>"
            ]
          },
          "metadata": {},
          "execution_count": 149
        },
        {
          "output_type": "display_data",
          "data": {
            "text/plain": [
              "<Figure size 432x288 with 1 Axes>"
            ],
            "image/png": "[encoded data removed]"
          },
          "metadata": {
            "needs_background": "light"
          }
        }
      ],
      "source": [
        "sns.boxplot(df_test['LandAreaInSqFt'])"
      ],
      "id": "f9a7d9f6"
    },
    {
      "cell_type": "code",
      "execution_count": 150,
      "metadata": {
        "id": "610739c5"
      },
      "outputs": [],
      "source": [
        "#since state has only one unique value remove column\n",
        "\n",
        "df_test = df_test.drop(['State'],  axis=1)"
      ],
      "id": "610739c5"
    },
    {
      "cell_type": "code",
      "execution_count": 151,
      "metadata": {
        "id": "0uqSf4InwAqb"
      },
      "outputs": [],
      "source": [
        "df_test = df_test.drop(['Surroundings', 'Address', 'BldgClass_AtEvaluationTime', 'BldgClassCategory'],  axis=1)"
      ],
      "id": "0uqSf4InwAqb"
    },
    {
      "cell_type": "code",
      "execution_count": 152,
      "metadata": {
        "id": "jsS142-f1dtS"
      },
      "outputs": [],
      "source": [
        "#remove property id since it is identity value\n",
        "\n",
        "df_test = df_test.drop(['PropertyID'],  axis=1)"
      ],
      "id": "jsS142-f1dtS"
    },
    {
      "cell_type": "code",
      "execution_count": 153,
      "metadata": {
        "id": "48a055bb"
      },
      "outputs": [],
      "source": [
        "#converting date into a year as there wouldn't be huge change in tax evaluation within a year\n",
        "\n",
        "date_col = pd.DatetimeIndex(df_test['DateOfEvaluation'])"
      ],
      "id": "48a055bb"
    },
    {
      "cell_type": "code",
      "execution_count": 154,
      "metadata": {
        "colab": {
          "base_uri": "https://localhost:8080/",
          "height": 0
        },
        "id": "a22521ed",
        "outputId": "cdd9166b-9e67-4f2e-f771-fc9ace21ed4b"
      },
      "outputs": [
        {
          "output_type": "execute_result",
          "data": {
            "text/plain": [
              "DatetimeIndex(['2013-06-24', '2014-08-28', '2015-01-31', '2015-12-03',\n",
              "               '2014-07-06', '2014-04-19', '2014-08-24', '2012-01-08',\n",
              "               '2012-08-22', '2015-04-03',\n",
              "               ...\n",
              "               '2015-02-28', '2014-08-17', '2015-03-20', '2014-10-09',\n",
              "               '2012-10-23', '2015-02-21', '2014-04-06', '2014-06-08',\n",
              "               '2014-04-30', '2014-10-25'],\n",
              "              dtype='datetime64[ns]', name='DateOfEvaluation', length=2936, freq=None)"
            ]
          },
          "metadata": {},
          "execution_count": 154
        }
      ],
      "source": [
        "date_col\n"
      ],
      "id": "a22521ed"
    },
    {
      "cell_type": "code",
      "execution_count": 155,
      "metadata": {
        "id": "f049048f"
      },
      "outputs": [],
      "source": [
        "df_test['DateOfEvaluation'] = date_col.year"
      ],
      "id": "f049048f"
    },
    {
      "cell_type": "code",
      "execution_count": 156,
      "metadata": {
        "colab": {
          "base_uri": "https://localhost:8080/",
          "height": 0
        },
        "id": "190c5291",
        "outputId": "895153e9-3266-433c-d894-e952154b45b2"
      },
      "outputs": [
        {
          "output_type": "execute_result",
          "data": {
            "text/plain": [
              "0    2013\n",
              "1    2014\n",
              "2    2015\n",
              "3    2015\n",
              "4    2014\n",
              "Name: DateOfEvaluation, dtype: int64"
            ]
          },
          "metadata": {},
          "execution_count": 156
        }
      ],
      "source": [
        "df_test['DateOfEvaluation'].head()"
      ],
      "id": "190c5291"
    },
    {
      "cell_type": "code",
      "execution_count": 157,
      "metadata": {
        "colab": {
          "base_uri": "https://localhost:8080/",
          "height": 0
        },
        "id": "673ed36a",
        "outputId": "3d5d8ceb-edcf-4ea6-b03a-1281b555c5fb"
      },
      "outputs": [
        {
          "output_type": "execute_result",
          "data": {
            "text/plain": [
              "Borough                        int64\n",
              "ZipCode                        int64\n",
              "Block                          int64\n",
              "Lot                          float64\n",
              "NoOfResidentialUnits           int64\n",
              "NoOfCommercialUnits            int64\n",
              "LandAreaInSqFt               float64\n",
              "GrossAreaInSqFt              float64\n",
              "YearOfConstruction             int64\n",
              "TaxClass_AtEvaluationTime      int64\n",
              "DateOfEvaluation               int64\n",
              "dtype: object"
            ]
          },
          "metadata": {},
          "execution_count": 157
        }
      ],
      "source": [
        "df_test.dtypes"
      ],
      "id": "673ed36a"
    },
    {
      "cell_type": "code",
      "execution_count": 158,
      "metadata": {
        "id": "56495e4c"
      },
      "outputs": [],
      "source": [
        "c_df_test = df_test"
      ],
      "id": "56495e4c"
    },
    {
      "cell_type": "code",
      "execution_count": 159,
      "metadata": {
        "id": "e03587d7"
      },
      "outputs": [],
      "source": [
        "c_df_test = pd.get_dummies(c_df_test,columns = ['Borough',  'TaxClass_AtEvaluationTime'], drop_first = True)"
      ],
      "id": "e03587d7"
    },
    {
      "cell_type": "code",
      "execution_count": 160,
      "metadata": {
        "colab": {
          "base_uri": "https://localhost:8080/",
          "height": 270
        },
        "id": "954e9090",
        "outputId": "9903a665-1a0d-439e-a7a7-b2cfe27b981b",
        "scrolled": true
      },
      "outputs": [
        {
          "output_type": "execute_result",
          "data": {
            "text/plain": [
              "   ZipCode  Block    Lot  NoOfResidentialUnits  NoOfCommercialUnits  \\\n",
              "0    10457   2929  117.0                     2                    0   \n",
              "1    10457   3036   65.0                     2                    0   \n",
              "2    10457   3048   51.0                     4                    1   \n",
              "3    10457   2899   34.0                     0                    1   \n",
              "4    10457   3083   40.0                     3                    0   \n",
              "\n",
              "   LandAreaInSqFt  GrossAreaInSqFt  YearOfConstruction  DateOfEvaluation  \\\n",
              "0          2498.0         2394.000                1995              2013   \n",
              "1          2033.0         2340.000                1994              2014   \n",
              "2          2500.0         4267.625                1963              2015   \n",
              "3          3439.0         3320.000                1951              2015   \n",
              "4          1348.0         2931.000                1997              2014   \n",
              "\n",
              "   Borough_2  Borough_3  Borough_4  Borough_5  TaxClass_AtEvaluationTime_2  \\\n",
              "0          0          0          0          0                            0   \n",
              "1          0          0          0          0                            0   \n",
              "2          0          0          0          0                            1   \n",
              "3          0          0          0          0                            0   \n",
              "4          0          0          0          0                            0   \n",
              "\n",
              "   TaxClass_AtEvaluationTime_4  \n",
              "0                            0  \n",
              "1                            0  \n",
              "2                            0  \n",
              "3                            1  \n",
              "4                            0  "
            ],
            "text/html": [
              "\n",
              "  <div id=\"df-27636991-77a2-4649-89f5-f7170e09eb84\">\n",
              "    <div class=\"colab-df-container\">\n",
              "      <div>\n",
              "<style scoped>\n",
              "    .dataframe tbody tr th:only-of-type {\n",
              "        vertical-align: middle;\n",
              "    }\n",
              "\n",
              "    .dataframe tbody tr th {\n",
              "        vertical-align: top;\n",
              "    }\n",
              "\n",
              "    .dataframe thead th {\n",
              "        text-align: right;\n",
              "    }\n",
              "</style>\n",
              "<table border=\"1\" class=\"dataframe\">\n",
              "  <thead>\n",
              "    <tr style=\"text-align: right;\">\n",
              "      <th></th>\n",
              "      <th>ZipCode</th>\n",
              "      <th>Block</th>\n",
              "      <th>Lot</th>\n",
              "      <th>NoOfResidentialUnits</th>\n",
              "      <th>NoOfCommercialUnits</th>\n",
              "      <th>LandAreaInSqFt</th>\n",
              "      <th>GrossAreaInSqFt</th>\n",
              "      <th>YearOfConstruction</th>\n",
              "      <th>DateOfEvaluation</th>\n",
              "      <th>Borough_2</th>\n",
              "      <th>Borough_3</th>\n",
              "      <th>Borough_4</th>\n",
              "      <th>Borough_5</th>\n",
              "      <th>TaxClass_AtEvaluationTime_2</th>\n",
              "      <th>TaxClass_AtEvaluationTime_4</th>\n",
              "    </tr>\n",
              "  </thead>\n",
              "  <tbody>\n",
              "    <tr>\n",
              "      <th>0</th>\n",
              "      <td>10457</td>\n",
              "      <td>2929</td>\n",
              "      <td>117.0</td>\n",
              "      <td>2</td>\n",
              "      <td>0</td>\n",
              "      <td>2498.0</td>\n",
              "      <td>2394.000</td>\n",
              "      <td>1995</td>\n",
              "      <td>2013</td>\n",
              "      <td>0</td>\n",
              "      <td>0</td>\n",
              "      <td>0</td>\n",
              "      <td>0</td>\n",
              "      <td>0</td>\n",
              "      <td>0</td>\n",
              "    </tr>\n",
              "    <tr>\n",
              "      <th>1</th>\n",
              "      <td>10457</td>\n",
              "      <td>3036</td>\n",
              "      <td>65.0</td>\n",
              "      <td>2</td>\n",
              "      <td>0</td>\n",
              "      <td>2033.0</td>\n",
              "      <td>2340.000</td>\n",
              "      <td>1994</td>\n",
              "      <td>2014</td>\n",
              "      <td>0</td>\n",
              "      <td>0</td>\n",
              "      <td>0</td>\n",
              "      <td>0</td>\n",
              "      <td>0</td>\n",
              "      <td>0</td>\n",
              "    </tr>\n",
              "    <tr>\n",
              "      <th>2</th>\n",
              "      <td>10457</td>\n",
              "      <td>3048</td>\n",
              "      <td>51.0</td>\n",
              "      <td>4</td>\n",
              "      <td>1</td>\n",
              "      <td>2500.0</td>\n",
              "      <td>4267.625</td>\n",
              "      <td>1963</td>\n",
              "      <td>2015</td>\n",
              "      <td>0</td>\n",
              "      <td>0</td>\n",
              "      <td>0</td>\n",
              "      <td>0</td>\n",
              "      <td>1</td>\n",
              "      <td>0</td>\n",
              "    </tr>\n",
              "    <tr>\n",
              "      <th>3</th>\n",
              "      <td>10457</td>\n",
              "      <td>2899</td>\n",
              "      <td>34.0</td>\n",
              "      <td>0</td>\n",
              "      <td>1</td>\n",
              "      <td>3439.0</td>\n",
              "      <td>3320.000</td>\n",
              "      <td>1951</td>\n",
              "      <td>2015</td>\n",
              "      <td>0</td>\n",
              "      <td>0</td>\n",
              "      <td>0</td>\n",
              "      <td>0</td>\n",
              "      <td>0</td>\n",
              "      <td>1</td>\n",
              "    </tr>\n",
              "    <tr>\n",
              "      <th>4</th>\n",
              "      <td>10457</td>\n",
              "      <td>3083</td>\n",
              "      <td>40.0</td>\n",
              "      <td>3</td>\n",
              "      <td>0</td>\n",
              "      <td>1348.0</td>\n",
              "      <td>2931.000</td>\n",
              "      <td>1997</td>\n",
              "      <td>2014</td>\n",
              "      <td>0</td>\n",
              "      <td>0</td>\n",
              "      <td>0</td>\n",
              "      <td>0</td>\n",
              "      <td>0</td>\n",
              "      <td>0</td>\n",
              "    </tr>\n",
              "  </tbody>\n",
              "</table>\n",
              "</div>\n",
              "      <button class=\"colab-df-convert\" onclick=\"convertToInteractive('df-27636991-77a2-4649-89f5-f7170e09eb84')\"\n",
              "              title=\"Convert this dataframe to an interactive table.\"\n",
              "              style=\"display:none;\">\n",
              "        \n",
              "  <svg xmlns=\"http://www.w3.org/2000/svg\" height=\"24px\"viewBox=\"0 0 24 24\"\n",
              "       width=\"24px\">\n",
              "    <path d=\"M0 0h24v24H0V0z\" fill=\"none\"/>\n",
              "    <path d=\"M18.56 5.44l.94 2.06.94-2.06 2.06-.94-2.06-.94-.94-2.06-.94 2.06-2.06.94zm-11 1L8.5 8.5l.94-2.06 2.06-.94-2.06-.94L8.5 2.5l-.94 2.06-2.06.94zm10 10l.94 2.06.94-2.06 2.06-.94-2.06-.94-.94-2.06-.94 2.06-2.06.94z\"/><path d=\"M17.41 7.96l-1.37-1.37c-.4-.4-.92-.59-1.43-.59-.52 0-1.04.2-1.43.59L10.3 9.45l-7.72 7.72c-.78.78-.78 2.05 0 2.83L4 21.41c.39.39.9.59 1.41.59.51 0 1.02-.2 1.41-.59l7.78-7.78 2.81-2.81c.8-.78.8-2.07 0-2.86zM5.41 20L4 18.59l7.72-7.72 1.47 1.35L5.41 20z\"/>\n",
              "  </svg>\n",
              "      </button>\n",
              "      \n",
              "  <style>\n",
              "    .colab-df-container {\n",
              "      display:flex;\n",
              "      flex-wrap:wrap;\n",
              "      gap: 12px;\n",
              "    }\n",
              "\n",
              "    .colab-df-convert {\n",
              "      background-color: #E8F0FE;\n",
              "      border: none;\n",
              "      border-radius: 50%;\n",
              "      cursor: pointer;\n",
              "      display: none;\n",
              "      fill: #1967D2;\n",
              "      height: 32px;\n",
              "      padding: 0 0 0 0;\n",
              "      width: 32px;\n",
              "    }\n",
              "\n",
              "    .colab-df-convert:hover {\n",
              "      background-color: #E2EBFA;\n",
              "      box-shadow: 0px 1px 2px rgba(60, 64, 67, 0.3), 0px 1px 3px 1px rgba(60, 64, 67, 0.15);\n",
              "      fill: #174EA6;\n",
              "    }\n",
              "\n",
              "    [theme=dark] .colab-df-convert {\n",
              "      background-color: #3B4455;\n",
              "      fill: #D2E3FC;\n",
              "    }\n",
              "\n",
              "    [theme=dark] .colab-df-convert:hover {\n",
              "      background-color: #434B5C;\n",
              "      box-shadow: 0px 1px 3px 1px rgba(0, 0, 0, 0.15);\n",
              "      filter: drop-shadow(0px 1px 2px rgba(0, 0, 0, 0.3));\n",
              "      fill: #FFFFFF;\n",
              "    }\n",
              "  </style>\n",
              "\n",
              "      <script>\n",
              "        const buttonEl =\n",
              "          document.querySelector('#df-27636991-77a2-4649-89f5-f7170e09eb84 button.colab-df-convert');\n",
              "        buttonEl.style.display =\n",
              "          google.colab.kernel.accessAllowed ? 'block' : 'none';\n",
              "\n",
              "        async function convertToInteractive(key) {\n",
              "          const element = document.querySelector('#df-27636991-77a2-4649-89f5-f7170e09eb84');\n",
              "          const dataTable =\n",
              "            await google.colab.kernel.invokeFunction('convertToInteractive',\n",
              "                                                     [key], {});\n",
              "          if (!dataTable) return;\n",
              "\n",
              "          const docLinkHtml = 'Like what you see? Visit the ' +\n",
              "            '<a target=\"_blank\" href=https://colab.research.google.com/notebooks/data_table.ipynb>data table notebook</a>'\n",
              "            + ' to learn more about interactive tables.';\n",
              "          element.innerHTML = '';\n",
              "          dataTable['output_type'] = 'display_data';\n",
              "          await google.colab.output.renderOutput(dataTable, element);\n",
              "          const docLink = document.createElement('div');\n",
              "          docLink.innerHTML = docLinkHtml;\n",
              "          element.appendChild(docLink);\n",
              "        }\n",
              "      </script>\n",
              "    </div>\n",
              "  </div>\n",
              "  "
            ]
          },
          "metadata": {},
          "execution_count": 160
        }
      ],
      "source": [
        "c_df_test.head()"
      ],
      "id": "954e9090"
    },
    {
      "cell_type": "code",
      "execution_count": 161,
      "metadata": {
        "colab": {
          "base_uri": "https://localhost:8080/",
          "height": 0
        },
        "id": "9b24dacb",
        "outputId": "70745559-4f4b-4cbf-c5e0-d944b250b88b"
      },
      "outputs": [
        {
          "output_type": "execute_result",
          "data": {
            "text/plain": [
              "(2936, 15)"
            ]
          },
          "metadata": {},
          "execution_count": 161
        }
      ],
      "source": [
        "c_df_test.shape"
      ],
      "id": "9b24dacb"
    },
    {
      "cell_type": "code",
      "execution_count": 162,
      "metadata": {
        "id": "83c8f7a1"
      },
      "outputs": [],
      "source": [
        "X_test = c_df_test"
      ],
      "id": "83c8f7a1"
    },
    {
      "cell_type": "code",
      "execution_count": 163,
      "metadata": {
        "colab": {
          "base_uri": "https://localhost:8080/",
          "height": 0
        },
        "id": "qPj8PSKuznUs",
        "outputId": "475177c5-01c9-4e1c-852d-ac8ccfa8d1cc"
      },
      "outputs": [
        {
          "output_type": "execute_result",
          "data": {
            "text/plain": [
              "(2936, 15)"
            ]
          },
          "metadata": {},
          "execution_count": 163
        }
      ],
      "source": [
        "X_test.shape"
      ],
      "id": "qPj8PSKuznUs"
    },
    {
      "cell_type": "code",
      "execution_count": 164,
      "metadata": {
        "id": "8e5b7faf"
      },
      "outputs": [],
      "source": [
        "y_test = pd.read_csv('/content/samplesubmission.csv')"
      ],
      "id": "8e5b7faf"
    },
    {
      "cell_type": "code",
      "execution_count": 165,
      "metadata": {
        "id": "3cc898a4"
      },
      "outputs": [],
      "source": [
        "y_test = y_test.drop(['PropertyID'], axis=1)"
      ],
      "id": "3cc898a4"
    },
    {
      "cell_type": "code",
      "execution_count": 166,
      "metadata": {
        "colab": {
          "base_uri": "https://localhost:8080/",
          "height": 423
        },
        "collapsed": true,
        "id": "2f8a0aa7",
        "outputId": "340d4125-6d8e-4d98-b312-cce33770a439"
      },
      "outputs": [
        {
          "output_type": "execute_result",
          "data": {
            "text/plain": [
              "      PropertyEvaluationvalue\n",
              "0                     1064701\n",
              "1                     1114550\n",
              "2                     1108206\n",
              "3                     1154822\n",
              "4                     1026546\n",
              "...                       ...\n",
              "2931                  1033868\n",
              "2932                  1089966\n",
              "2933                  1162904\n",
              "2934                  1036053\n",
              "2935                  1059027\n",
              "\n",
              "[2936 rows x 1 columns]"
            ],
            "text/html": [
              "\n",
              "  <div id=\"df-daae0023-424c-4d9b-9c39-10e24edfa5d6\">\n",
              "    <div class=\"colab-df-container\">\n",
              "      <div>\n",
              "<style scoped>\n",
              "    .dataframe tbody tr th:only-of-type {\n",
              "        vertical-align: middle;\n",
              "    }\n",
              "\n",
              "    .dataframe tbody tr th {\n",
              "        vertical-align: top;\n",
              "    }\n",
              "\n",
              "    .dataframe thead th {\n",
              "        text-align: right;\n",
              "    }\n",
              "</style>\n",
              "<table border=\"1\" class=\"dataframe\">\n",
              "  <thead>\n",
              "    <tr style=\"text-align: right;\">\n",
              "      <th></th>\n",
              "      <th>PropertyEvaluationvalue</th>\n",
              "    </tr>\n",
              "  </thead>\n",
              "  <tbody>\n",
              "    <tr>\n",
              "      <th>0</th>\n",
              "      <td>1064701</td>\n",
              "    </tr>\n",
              "    <tr>\n",
              "      <th>1</th>\n",
              "      <td>1114550</td>\n",
              "    </tr>\n",
              "    <tr>\n",
              "      <th>2</th>\n",
              "      <td>1108206</td>\n",
              "    </tr>\n",
              "    <tr>\n",
              "      <th>3</th>\n",
              "      <td>1154822</td>\n",
              "    </tr>\n",
              "    <tr>\n",
              "      <th>4</th>\n",
              "      <td>1026546</td>\n",
              "    </tr>\n",
              "    <tr>\n",
              "      <th>...</th>\n",
              "      <td>...</td>\n",
              "    </tr>\n",
              "    <tr>\n",
              "      <th>2931</th>\n",
              "      <td>1033868</td>\n",
              "    </tr>\n",
              "    <tr>\n",
              "      <th>2932</th>\n",
              "      <td>1089966</td>\n",
              "    </tr>\n",
              "    <tr>\n",
              "      <th>2933</th>\n",
              "      <td>1162904</td>\n",
              "    </tr>\n",
              "    <tr>\n",
              "      <th>2934</th>\n",
              "      <td>1036053</td>\n",
              "    </tr>\n",
              "    <tr>\n",
              "      <th>2935</th>\n",
              "      <td>1059027</td>\n",
              "    </tr>\n",
              "  </tbody>\n",
              "</table>\n",
              "<p>2936 rows × 1 columns</p>\n",
              "</div>\n",
              "      <button class=\"colab-df-convert\" onclick=\"convertToInteractive('df-daae0023-424c-4d9b-9c39-10e24edfa5d6')\"\n",
              "              title=\"Convert this dataframe to an interactive table.\"\n",
              "              style=\"display:none;\">\n",
              "        \n",
              "  <svg xmlns=\"http://www.w3.org/2000/svg\" height=\"24px\"viewBox=\"0 0 24 24\"\n",
              "       width=\"24px\">\n",
              "    <path d=\"M0 0h24v24H0V0z\" fill=\"none\"/>\n",
              "    <path d=\"M18.56 5.44l.94 2.06.94-2.06 2.06-.94-2.06-.94-.94-2.06-.94 2.06-2.06.94zm-11 1L8.5 8.5l.94-2.06 2.06-.94-2.06-.94L8.5 2.5l-.94 2.06-2.06.94zm10 10l.94 2.06.94-2.06 2.06-.94-2.06-.94-.94-2.06-.94 2.06-2.06.94z\"/><path d=\"M17.41 7.96l-1.37-1.37c-.4-.4-.92-.59-1.43-.59-.52 0-1.04.2-1.43.59L10.3 9.45l-7.72 7.72c-.78.78-.78 2.05 0 2.83L4 21.41c.39.39.9.59 1.41.59.51 0 1.02-.2 1.41-.59l7.78-7.78 2.81-2.81c.8-.78.8-2.07 0-2.86zM5.41 20L4 18.59l7.72-7.72 1.47 1.35L5.41 20z\"/>\n",
              "  </svg>\n",
              "      </button>\n",
              "      \n",
              "  <style>\n",
              "    .colab-df-container {\n",
              "      display:flex;\n",
              "      flex-wrap:wrap;\n",
              "      gap: 12px;\n",
              "    }\n",
              "\n",
              "    .colab-df-convert {\n",
              "      background-color: #E8F0FE;\n",
              "      border: none;\n",
              "      border-radius: 50%;\n",
              "      cursor: pointer;\n",
              "      display: none;\n",
              "      fill: #1967D2;\n",
              "      height: 32px;\n",
              "      padding: 0 0 0 0;\n",
              "      width: 32px;\n",
              "    }\n",
              "\n",
              "    .colab-df-convert:hover {\n",
              "      background-color: #E2EBFA;\n",
              "      box-shadow: 0px 1px 2px rgba(60, 64, 67, 0.3), 0px 1px 3px 1px rgba(60, 64, 67, 0.15);\n",
              "      fill: #174EA6;\n",
              "    }\n",
              "\n",
              "    [theme=dark] .colab-df-convert {\n",
              "      background-color: #3B4455;\n",
              "      fill: #D2E3FC;\n",
              "    }\n",
              "\n",
              "    [theme=dark] .colab-df-convert:hover {\n",
              "      background-color: #434B5C;\n",
              "      box-shadow: 0px 1px 3px 1px rgba(0, 0, 0, 0.15);\n",
              "      filter: drop-shadow(0px 1px 2px rgba(0, 0, 0, 0.3));\n",
              "      fill: #FFFFFF;\n",
              "    }\n",
              "  </style>\n",
              "\n",
              "      <script>\n",
              "        const buttonEl =\n",
              "          document.querySelector('#df-daae0023-424c-4d9b-9c39-10e24edfa5d6 button.colab-df-convert');\n",
              "        buttonEl.style.display =\n",
              "          google.colab.kernel.accessAllowed ? 'block' : 'none';\n",
              "\n",
              "        async function convertToInteractive(key) {\n",
              "          const element = document.querySelector('#df-daae0023-424c-4d9b-9c39-10e24edfa5d6');\n",
              "          const dataTable =\n",
              "            await google.colab.kernel.invokeFunction('convertToInteractive',\n",
              "                                                     [key], {});\n",
              "          if (!dataTable) return;\n",
              "\n",
              "          const docLinkHtml = 'Like what you see? Visit the ' +\n",
              "            '<a target=\"_blank\" href=https://colab.research.google.com/notebooks/data_table.ipynb>data table notebook</a>'\n",
              "            + ' to learn more about interactive tables.';\n",
              "          element.innerHTML = '';\n",
              "          dataTable['output_type'] = 'display_data';\n",
              "          await google.colab.output.renderOutput(dataTable, element);\n",
              "          const docLink = document.createElement('div');\n",
              "          docLink.innerHTML = docLinkHtml;\n",
              "          element.appendChild(docLink);\n",
              "        }\n",
              "      </script>\n",
              "    </div>\n",
              "  </div>\n",
              "  "
            ]
          },
          "metadata": {},
          "execution_count": 166
        }
      ],
      "source": [
        "y_test"
      ],
      "id": "2f8a0aa7"
    },
    {
      "cell_type": "markdown",
      "metadata": {
        "id": "f443cf17"
      },
      "source": [
        "Linear Regression"
      ],
      "id": "f443cf17"
    },
    {
      "cell_type": "code",
      "execution_count": 167,
      "metadata": {
        "id": "bef720aa"
      },
      "outputs": [],
      "source": [
        "from sklearn.linear_model import LinearRegression"
      ],
      "id": "bef720aa"
    },
    {
      "cell_type": "code",
      "execution_count": 168,
      "metadata": {
        "id": "Q1MnffGv2Prs"
      },
      "outputs": [],
      "source": [
        "from sklearn.metrics import mean_absolute_percentage_error"
      ],
      "id": "Q1MnffGv2Prs"
    },
    {
      "cell_type": "code",
      "execution_count": 169,
      "metadata": {
        "id": "8aa4c7d1"
      },
      "outputs": [],
      "source": [
        "lm=LinearRegression()\n",
        "lm.fit(X_train,y_train)\n",
        "y_train_pred=lm.predict(X_train)\n",
        "y_test_pred_lm=lm.predict(X_test)\n"
      ],
      "id": "8aa4c7d1"
    },
    {
      "cell_type": "code",
      "execution_count": 170,
      "metadata": {
        "colab": {
          "base_uri": "https://localhost:8080/",
          "height": 0
        },
        "id": "92VNWRPH2KnP",
        "outputId": "3be3025a-6a8b-4b1b-a399-6f5ed43dd4e2"
      },
      "outputs": [
        {
          "output_type": "execute_result",
          "data": {
            "text/plain": [
              "0.4302118753669266"
            ]
          },
          "metadata": {},
          "execution_count": 170
        }
      ],
      "source": [
        "mean_absolute_percentage_error(y_train,y_train_pred)"
      ],
      "id": "92VNWRPH2KnP"
    },
    {
      "cell_type": "code",
      "execution_count": 171,
      "metadata": {
        "colab": {
          "base_uri": "https://localhost:8080/",
          "height": 0
        },
        "id": "hksuaTK_5nkK",
        "outputId": "89353b4e-53d8-42fd-8bfa-3d2d666984d6"
      },
      "outputs": [
        {
          "output_type": "execute_result",
          "data": {
            "text/plain": [
              "0.3928820251974343"
            ]
          },
          "metadata": {},
          "execution_count": 171
        }
      ],
      "source": [
        "mean_absolute_percentage_error(y_test, y_test_pred_lm)"
      ],
      "id": "hksuaTK_5nkK"
    },
    {
      "cell_type": "markdown",
      "metadata": {
        "id": "c638f6f7"
      },
      "source": [
        "KNN Regressor"
      ],
      "id": "c638f6f7"
    },
    {
      "cell_type": "code",
      "execution_count": 172,
      "metadata": {
        "id": "d3e5825a"
      },
      "outputs": [],
      "source": [
        "from sklearn.neighbors import KNeighborsRegressor"
      ],
      "id": "d3e5825a"
    },
    {
      "cell_type": "code",
      "execution_count": 173,
      "metadata": {
        "id": "a3926dbc"
      },
      "outputs": [],
      "source": [
        "knn=KNeighborsRegressor()\n",
        "knn.fit(X_train,y_train)\n",
        "y_train_pred=knn.predict(X_train)\n",
        "y_test_pred_knn=knn.predict(X_test)"
      ],
      "id": "a3926dbc"
    },
    {
      "cell_type": "code",
      "execution_count": 174,
      "metadata": {
        "colab": {
          "base_uri": "https://localhost:8080/",
          "height": 0
        },
        "id": "oZsg99FX5R9y",
        "outputId": "0a1fb0a0-eafe-4180-f205-d0341fd6828c"
      },
      "outputs": [
        {
          "output_type": "execute_result",
          "data": {
            "text/plain": [
              "0.2683066676157232"
            ]
          },
          "metadata": {},
          "execution_count": 174
        }
      ],
      "source": [
        "mean_absolute_percentage_error(y_train,y_train_pred)"
      ],
      "id": "oZsg99FX5R9y"
    },
    {
      "cell_type": "code",
      "execution_count": 175,
      "metadata": {
        "colab": {
          "base_uri": "https://localhost:8080/",
          "height": 0
        },
        "id": "_cYftSO15Yj7",
        "outputId": "356b1672-d4db-4d53-9a61-1b2611839f18"
      },
      "outputs": [
        {
          "output_type": "execute_result",
          "data": {
            "text/plain": [
              "0.4351011309656994"
            ]
          },
          "metadata": {},
          "execution_count": 175
        }
      ],
      "source": [
        "mean_absolute_percentage_error(y_test, y_test_pred_knn)"
      ],
      "id": "_cYftSO15Yj7"
    },
    {
      "cell_type": "code",
      "execution_count": 176,
      "metadata": {
        "colab": {
          "base_uri": "https://localhost:8080/",
          "height": 307
        },
        "id": "UOqBw_SW_grI",
        "outputId": "d6d38768-b105-4863-9646-0a56210198fc"
      },
      "outputs": [
        {
          "output_type": "execute_result",
          "data": {
            "text/plain": [
              "<matplotlib.collections.PathCollection at 0x7f82f87328d0>"
            ]
          },
          "metadata": {},
          "execution_count": 176
        },
        {
          "output_type": "display_data",
          "data": {
            "text/plain": [
              "<Figure size 432x288 with 1 Axes>"
            ],
            "image/png": "[encoded data removed]"
          },
          "metadata": {
            "needs_background": "light"
          }
        }
      ],
      "source": [
        "plt.scatter(y_train,y_train_pred)\n"
      ],
      "id": "UOqBw_SW_grI"
    },
    {
      "cell_type": "code",
      "source": [],
      "metadata": {
        "id": "FBm5CkRkxpcu"
      },
      "id": "FBm5CkRkxpcu",
      "execution_count": null,
      "outputs": []
    },
    {
      "cell_type": "code",
      "source": [
        "ser_out =pd.Series(y_test_pred_knn)\n",
        "\n"
      ],
      "metadata": {
        "id": "cFk0n-Nltlda"
      },
      "id": "cFk0n-Nltlda",
      "execution_count": 210,
      "outputs": []
    },
    {
      "cell_type": "code",
      "source": [
        "df_out = pd.DataFrame(ser_out) "
      ],
      "metadata": {
        "id": "6nuwAmz3zO4u"
      },
      "id": "6nuwAmz3zO4u",
      "execution_count": 211,
      "outputs": []
    },
    {
      "cell_type": "code",
      "source": [
        "df_out.head()"
      ],
      "metadata": {
        "colab": {
          "base_uri": "https://localhost:8080/",
          "height": 206
        },
        "id": "PoX_YJURzYt-",
        "outputId": "d03d2e99-166e-4bb9-b9a7-16f5cf3877de"
      },
      "id": "PoX_YJURzYt-",
      "execution_count": 212,
      "outputs": [
        {
          "output_type": "execute_result",
          "data": {
            "text/plain": [
              "          0\n",
              "0  571643.2\n",
              "1  400780.0\n",
              "2  625500.0\n",
              "3  638000.0\n",
              "4  655223.0"
            ],
            "text/html": [
              "\n",
              "  <div id=\"df-040e769a-6c04-45b4-920f-ea1680d84880\">\n",
              "    <div class=\"colab-df-container\">\n",
              "      <div>\n",
              "<style scoped>\n",
              "    .dataframe tbody tr th:only-of-type {\n",
              "        vertical-align: middle;\n",
              "    }\n",
              "\n",
              "    .dataframe tbody tr th {\n",
              "        vertical-align: top;\n",
              "    }\n",
              "\n",
              "    .dataframe thead th {\n",
              "        text-align: right;\n",
              "    }\n",
              "</style>\n",
              "<table border=\"1\" class=\"dataframe\">\n",
              "  <thead>\n",
              "    <tr style=\"text-align: right;\">\n",
              "      <th></th>\n",
              "      <th>0</th>\n",
              "    </tr>\n",
              "  </thead>\n",
              "  <tbody>\n",
              "    <tr>\n",
              "      <th>0</th>\n",
              "      <td>571643.2</td>\n",
              "    </tr>\n",
              "    <tr>\n",
              "      <th>1</th>\n",
              "      <td>400780.0</td>\n",
              "    </tr>\n",
              "    <tr>\n",
              "      <th>2</th>\n",
              "      <td>625500.0</td>\n",
              "    </tr>\n",
              "    <tr>\n",
              "      <th>3</th>\n",
              "      <td>638000.0</td>\n",
              "    </tr>\n",
              "    <tr>\n",
              "      <th>4</th>\n",
              "      <td>655223.0</td>\n",
              "    </tr>\n",
              "  </tbody>\n",
              "</table>\n",
              "</div>\n",
              "      <button class=\"colab-df-convert\" onclick=\"convertToInteractive('df-040e769a-6c04-45b4-920f-ea1680d84880')\"\n",
              "              title=\"Convert this dataframe to an interactive table.\"\n",
              "              style=\"display:none;\">\n",
              "        \n",
              "  <svg xmlns=\"http://www.w3.org/2000/svg\" height=\"24px\"viewBox=\"0 0 24 24\"\n",
              "       width=\"24px\">\n",
              "    <path d=\"M0 0h24v24H0V0z\" fill=\"none\"/>\n",
              "    <path d=\"M18.56 5.44l.94 2.06.94-2.06 2.06-.94-2.06-.94-.94-2.06-.94 2.06-2.06.94zm-11 1L8.5 8.5l.94-2.06 2.06-.94-2.06-.94L8.5 2.5l-.94 2.06-2.06.94zm10 10l.94 2.06.94-2.06 2.06-.94-2.06-.94-.94-2.06-.94 2.06-2.06.94z\"/><path d=\"M17.41 7.96l-1.37-1.37c-.4-.4-.92-.59-1.43-.59-.52 0-1.04.2-1.43.59L10.3 9.45l-7.72 7.72c-.78.78-.78 2.05 0 2.83L4 21.41c.39.39.9.59 1.41.59.51 0 1.02-.2 1.41-.59l7.78-7.78 2.81-2.81c.8-.78.8-2.07 0-2.86zM5.41 20L4 18.59l7.72-7.72 1.47 1.35L5.41 20z\"/>\n",
              "  </svg>\n",
              "      </button>\n",
              "      \n",
              "  <style>\n",
              "    .colab-df-container {\n",
              "      display:flex;\n",
              "      flex-wrap:wrap;\n",
              "      gap: 12px;\n",
              "    }\n",
              "\n",
              "    .colab-df-convert {\n",
              "      background-color: #E8F0FE;\n",
              "      border: none;\n",
              "      border-radius: 50%;\n",
              "      cursor: pointer;\n",
              "      display: none;\n",
              "      fill: #1967D2;\n",
              "      height: 32px;\n",
              "      padding: 0 0 0 0;\n",
              "      width: 32px;\n",
              "    }\n",
              "\n",
              "    .colab-df-convert:hover {\n",
              "      background-color: #E2EBFA;\n",
              "      box-shadow: 0px 1px 2px rgba(60, 64, 67, 0.3), 0px 1px 3px 1px rgba(60, 64, 67, 0.15);\n",
              "      fill: #174EA6;\n",
              "    }\n",
              "\n",
              "    [theme=dark] .colab-df-convert {\n",
              "      background-color: #3B4455;\n",
              "      fill: #D2E3FC;\n",
              "    }\n",
              "\n",
              "    [theme=dark] .colab-df-convert:hover {\n",
              "      background-color: #434B5C;\n",
              "      box-shadow: 0px 1px 3px 1px rgba(0, 0, 0, 0.15);\n",
              "      filter: drop-shadow(0px 1px 2px rgba(0, 0, 0, 0.3));\n",
              "      fill: #FFFFFF;\n",
              "    }\n",
              "  </style>\n",
              "\n",
              "      <script>\n",
              "        const buttonEl =\n",
              "          document.querySelector('#df-040e769a-6c04-45b4-920f-ea1680d84880 button.colab-df-convert');\n",
              "        buttonEl.style.display =\n",
              "          google.colab.kernel.accessAllowed ? 'block' : 'none';\n",
              "\n",
              "        async function convertToInteractive(key) {\n",
              "          const element = document.querySelector('#df-040e769a-6c04-45b4-920f-ea1680d84880');\n",
              "          const dataTable =\n",
              "            await google.colab.kernel.invokeFunction('convertToInteractive',\n",
              "                                                     [key], {});\n",
              "          if (!dataTable) return;\n",
              "\n",
              "          const docLinkHtml = 'Like what you see? Visit the ' +\n",
              "            '<a target=\"_blank\" href=https://colab.research.google.com/notebooks/data_table.ipynb>data table notebook</a>'\n",
              "            + ' to learn more about interactive tables.';\n",
              "          element.innerHTML = '';\n",
              "          dataTable['output_type'] = 'display_data';\n",
              "          await google.colab.output.renderOutput(dataTable, element);\n",
              "          const docLink = document.createElement('div');\n",
              "          docLink.innerHTML = docLinkHtml;\n",
              "          element.appendChild(docLink);\n",
              "        }\n",
              "      </script>\n",
              "    </div>\n",
              "  </div>\n",
              "  "
            ]
          },
          "metadata": {},
          "execution_count": 212
        }
      ]
    },
    {
      "cell_type": "code",
      "source": [
        "df_out.columns= ['PropertyEvaluationvalue']"
      ],
      "metadata": {
        "id": "HmCqaYTM2LyC"
      },
      "id": "HmCqaYTM2LyC",
      "execution_count": 214,
      "outputs": []
    },
    {
      "cell_type": "code",
      "source": [
        "df_out.head()"
      ],
      "metadata": {
        "colab": {
          "base_uri": "https://localhost:8080/",
          "height": 206
        },
        "id": "RAAmzQNh21sU",
        "outputId": "0ff62abd-f93a-4ea3-ed8c-d468a3878bcd"
      },
      "id": "RAAmzQNh21sU",
      "execution_count": 215,
      "outputs": [
        {
          "output_type": "execute_result",
          "data": {
            "text/plain": [
              "   PropertyEvaluationvalue\n",
              "0                 571643.2\n",
              "1                 400780.0\n",
              "2                 625500.0\n",
              "3                 638000.0\n",
              "4                 655223.0"
            ],
            "text/html": [
              "\n",
              "  <div id=\"df-080529cf-4e62-4a9b-875d-aaf2c488dbb4\">\n",
              "    <div class=\"colab-df-container\">\n",
              "      <div>\n",
              "<style scoped>\n",
              "    .dataframe tbody tr th:only-of-type {\n",
              "        vertical-align: middle;\n",
              "    }\n",
              "\n",
              "    .dataframe tbody tr th {\n",
              "        vertical-align: top;\n",
              "    }\n",
              "\n",
              "    .dataframe thead th {\n",
              "        text-align: right;\n",
              "    }\n",
              "</style>\n",
              "<table border=\"1\" class=\"dataframe\">\n",
              "  <thead>\n",
              "    <tr style=\"text-align: right;\">\n",
              "      <th></th>\n",
              "      <th>PropertyEvaluationvalue</th>\n",
              "    </tr>\n",
              "  </thead>\n",
              "  <tbody>\n",
              "    <tr>\n",
              "      <th>0</th>\n",
              "      <td>571643.2</td>\n",
              "    </tr>\n",
              "    <tr>\n",
              "      <th>1</th>\n",
              "      <td>400780.0</td>\n",
              "    </tr>\n",
              "    <tr>\n",
              "      <th>2</th>\n",
              "      <td>625500.0</td>\n",
              "    </tr>\n",
              "    <tr>\n",
              "      <th>3</th>\n",
              "      <td>638000.0</td>\n",
              "    </tr>\n",
              "    <tr>\n",
              "      <th>4</th>\n",
              "      <td>655223.0</td>\n",
              "    </tr>\n",
              "  </tbody>\n",
              "</table>\n",
              "</div>\n",
              "      <button class=\"colab-df-convert\" onclick=\"convertToInteractive('df-080529cf-4e62-4a9b-875d-aaf2c488dbb4')\"\n",
              "              title=\"Convert this dataframe to an interactive table.\"\n",
              "              style=\"display:none;\">\n",
              "        \n",
              "  <svg xmlns=\"http://www.w3.org/2000/svg\" height=\"24px\"viewBox=\"0 0 24 24\"\n",
              "       width=\"24px\">\n",
              "    <path d=\"M0 0h24v24H0V0z\" fill=\"none\"/>\n",
              "    <path d=\"M18.56 5.44l.94 2.06.94-2.06 2.06-.94-2.06-.94-.94-2.06-.94 2.06-2.06.94zm-11 1L8.5 8.5l.94-2.06 2.06-.94-2.06-.94L8.5 2.5l-.94 2.06-2.06.94zm10 10l.94 2.06.94-2.06 2.06-.94-2.06-.94-.94-2.06-.94 2.06-2.06.94z\"/><path d=\"M17.41 7.96l-1.37-1.37c-.4-.4-.92-.59-1.43-.59-.52 0-1.04.2-1.43.59L10.3 9.45l-7.72 7.72c-.78.78-.78 2.05 0 2.83L4 21.41c.39.39.9.59 1.41.59.51 0 1.02-.2 1.41-.59l7.78-7.78 2.81-2.81c.8-.78.8-2.07 0-2.86zM5.41 20L4 18.59l7.72-7.72 1.47 1.35L5.41 20z\"/>\n",
              "  </svg>\n",
              "      </button>\n",
              "      \n",
              "  <style>\n",
              "    .colab-df-container {\n",
              "      display:flex;\n",
              "      flex-wrap:wrap;\n",
              "      gap: 12px;\n",
              "    }\n",
              "\n",
              "    .colab-df-convert {\n",
              "      background-color: #E8F0FE;\n",
              "      border: none;\n",
              "      border-radius: 50%;\n",
              "      cursor: pointer;\n",
              "      display: none;\n",
              "      fill: #1967D2;\n",
              "      height: 32px;\n",
              "      padding: 0 0 0 0;\n",
              "      width: 32px;\n",
              "    }\n",
              "\n",
              "    .colab-df-convert:hover {\n",
              "      background-color: #E2EBFA;\n",
              "      box-shadow: 0px 1px 2px rgba(60, 64, 67, 0.3), 0px 1px 3px 1px rgba(60, 64, 67, 0.15);\n",
              "      fill: #174EA6;\n",
              "    }\n",
              "\n",
              "    [theme=dark] .colab-df-convert {\n",
              "      background-color: #3B4455;\n",
              "      fill: #D2E3FC;\n",
              "    }\n",
              "\n",
              "    [theme=dark] .colab-df-convert:hover {\n",
              "      background-color: #434B5C;\n",
              "      box-shadow: 0px 1px 3px 1px rgba(0, 0, 0, 0.15);\n",
              "      filter: drop-shadow(0px 1px 2px rgba(0, 0, 0, 0.3));\n",
              "      fill: #FFFFFF;\n",
              "    }\n",
              "  </style>\n",
              "\n",
              "      <script>\n",
              "        const buttonEl =\n",
              "          document.querySelector('#df-080529cf-4e62-4a9b-875d-aaf2c488dbb4 button.colab-df-convert');\n",
              "        buttonEl.style.display =\n",
              "          google.colab.kernel.accessAllowed ? 'block' : 'none';\n",
              "\n",
              "        async function convertToInteractive(key) {\n",
              "          const element = document.querySelector('#df-080529cf-4e62-4a9b-875d-aaf2c488dbb4');\n",
              "          const dataTable =\n",
              "            await google.colab.kernel.invokeFunction('convertToInteractive',\n",
              "                                                     [key], {});\n",
              "          if (!dataTable) return;\n",
              "\n",
              "          const docLinkHtml = 'Like what you see? Visit the ' +\n",
              "            '<a target=\"_blank\" href=https://colab.research.google.com/notebooks/data_table.ipynb>data table notebook</a>'\n",
              "            + ' to learn more about interactive tables.';\n",
              "          element.innerHTML = '';\n",
              "          dataTable['output_type'] = 'display_data';\n",
              "          await google.colab.output.renderOutput(dataTable, element);\n",
              "          const docLink = document.createElement('div');\n",
              "          docLink.innerHTML = docLinkHtml;\n",
              "          element.appendChild(docLink);\n",
              "        }\n",
              "      </script>\n",
              "    </div>\n",
              "  </div>\n",
              "  "
            ]
          },
          "metadata": {},
          "execution_count": 215
        }
      ]
    },
    {
      "cell_type": "code",
      "source": [
        "df_out_1 = pd.read_csv('/content/samplesubmission.csv')"
      ],
      "metadata": {
        "id": "jZMyp7GGzr-_"
      },
      "id": "jZMyp7GGzr-_",
      "execution_count": 217,
      "outputs": []
    },
    {
      "cell_type": "code",
      "source": [
        "df_out_1.head()"
      ],
      "metadata": {
        "colab": {
          "base_uri": "https://localhost:8080/",
          "height": 206
        },
        "id": "eP9uxjr40RYq",
        "outputId": "e9e5bd9e-5a4c-4cdc-dfaf-ee56cb565cee"
      },
      "id": "eP9uxjr40RYq",
      "execution_count": 218,
      "outputs": [
        {
          "output_type": "execute_result",
          "data": {
            "text/plain": [
              "  PropertyID  PropertyEvaluationvalue\n",
              "0    PR51101                  1064701\n",
              "1    PR51102                  1114550\n",
              "2    PR51103                  1108206\n",
              "3    PR51104                  1154822\n",
              "4    PR51105                  1026546"
            ],
            "text/html": [
              "\n",
              "  <div id=\"df-c760f335-0f95-4bb6-aae1-22ed434d0ac3\">\n",
              "    <div class=\"colab-df-container\">\n",
              "      <div>\n",
              "<style scoped>\n",
              "    .dataframe tbody tr th:only-of-type {\n",
              "        vertical-align: middle;\n",
              "    }\n",
              "\n",
              "    .dataframe tbody tr th {\n",
              "        vertical-align: top;\n",
              "    }\n",
              "\n",
              "    .dataframe thead th {\n",
              "        text-align: right;\n",
              "    }\n",
              "</style>\n",
              "<table border=\"1\" class=\"dataframe\">\n",
              "  <thead>\n",
              "    <tr style=\"text-align: right;\">\n",
              "      <th></th>\n",
              "      <th>PropertyID</th>\n",
              "      <th>PropertyEvaluationvalue</th>\n",
              "    </tr>\n",
              "  </thead>\n",
              "  <tbody>\n",
              "    <tr>\n",
              "      <th>0</th>\n",
              "      <td>PR51101</td>\n",
              "      <td>1064701</td>\n",
              "    </tr>\n",
              "    <tr>\n",
              "      <th>1</th>\n",
              "      <td>PR51102</td>\n",
              "      <td>1114550</td>\n",
              "    </tr>\n",
              "    <tr>\n",
              "      <th>2</th>\n",
              "      <td>PR51103</td>\n",
              "      <td>1108206</td>\n",
              "    </tr>\n",
              "    <tr>\n",
              "      <th>3</th>\n",
              "      <td>PR51104</td>\n",
              "      <td>1154822</td>\n",
              "    </tr>\n",
              "    <tr>\n",
              "      <th>4</th>\n",
              "      <td>PR51105</td>\n",
              "      <td>1026546</td>\n",
              "    </tr>\n",
              "  </tbody>\n",
              "</table>\n",
              "</div>\n",
              "      <button class=\"colab-df-convert\" onclick=\"convertToInteractive('df-c760f335-0f95-4bb6-aae1-22ed434d0ac3')\"\n",
              "              title=\"Convert this dataframe to an interactive table.\"\n",
              "              style=\"display:none;\">\n",
              "        \n",
              "  <svg xmlns=\"http://www.w3.org/2000/svg\" height=\"24px\"viewBox=\"0 0 24 24\"\n",
              "       width=\"24px\">\n",
              "    <path d=\"M0 0h24v24H0V0z\" fill=\"none\"/>\n",
              "    <path d=\"M18.56 5.44l.94 2.06.94-2.06 2.06-.94-2.06-.94-.94-2.06-.94 2.06-2.06.94zm-11 1L8.5 8.5l.94-2.06 2.06-.94-2.06-.94L8.5 2.5l-.94 2.06-2.06.94zm10 10l.94 2.06.94-2.06 2.06-.94-2.06-.94-.94-2.06-.94 2.06-2.06.94z\"/><path d=\"M17.41 7.96l-1.37-1.37c-.4-.4-.92-.59-1.43-.59-.52 0-1.04.2-1.43.59L10.3 9.45l-7.72 7.72c-.78.78-.78 2.05 0 2.83L4 21.41c.39.39.9.59 1.41.59.51 0 1.02-.2 1.41-.59l7.78-7.78 2.81-2.81c.8-.78.8-2.07 0-2.86zM5.41 20L4 18.59l7.72-7.72 1.47 1.35L5.41 20z\"/>\n",
              "  </svg>\n",
              "      </button>\n",
              "      \n",
              "  <style>\n",
              "    .colab-df-container {\n",
              "      display:flex;\n",
              "      flex-wrap:wrap;\n",
              "      gap: 12px;\n",
              "    }\n",
              "\n",
              "    .colab-df-convert {\n",
              "      background-color: #E8F0FE;\n",
              "      border: none;\n",
              "      border-radius: 50%;\n",
              "      cursor: pointer;\n",
              "      display: none;\n",
              "      fill: #1967D2;\n",
              "      height: 32px;\n",
              "      padding: 0 0 0 0;\n",
              "      width: 32px;\n",
              "    }\n",
              "\n",
              "    .colab-df-convert:hover {\n",
              "      background-color: #E2EBFA;\n",
              "      box-shadow: 0px 1px 2px rgba(60, 64, 67, 0.3), 0px 1px 3px 1px rgba(60, 64, 67, 0.15);\n",
              "      fill: #174EA6;\n",
              "    }\n",
              "\n",
              "    [theme=dark] .colab-df-convert {\n",
              "      background-color: #3B4455;\n",
              "      fill: #D2E3FC;\n",
              "    }\n",
              "\n",
              "    [theme=dark] .colab-df-convert:hover {\n",
              "      background-color: #434B5C;\n",
              "      box-shadow: 0px 1px 3px 1px rgba(0, 0, 0, 0.15);\n",
              "      filter: drop-shadow(0px 1px 2px rgba(0, 0, 0, 0.3));\n",
              "      fill: #FFFFFF;\n",
              "    }\n",
              "  </style>\n",
              "\n",
              "      <script>\n",
              "        const buttonEl =\n",
              "          document.querySelector('#df-c760f335-0f95-4bb6-aae1-22ed434d0ac3 button.colab-df-convert');\n",
              "        buttonEl.style.display =\n",
              "          google.colab.kernel.accessAllowed ? 'block' : 'none';\n",
              "\n",
              "        async function convertToInteractive(key) {\n",
              "          const element = document.querySelector('#df-c760f335-0f95-4bb6-aae1-22ed434d0ac3');\n",
              "          const dataTable =\n",
              "            await google.colab.kernel.invokeFunction('convertToInteractive',\n",
              "                                                     [key], {});\n",
              "          if (!dataTable) return;\n",
              "\n",
              "          const docLinkHtml = 'Like what you see? Visit the ' +\n",
              "            '<a target=\"_blank\" href=https://colab.research.google.com/notebooks/data_table.ipynb>data table notebook</a>'\n",
              "            + ' to learn more about interactive tables.';\n",
              "          element.innerHTML = '';\n",
              "          dataTable['output_type'] = 'display_data';\n",
              "          await google.colab.output.renderOutput(dataTable, element);\n",
              "          const docLink = document.createElement('div');\n",
              "          docLink.innerHTML = docLinkHtml;\n",
              "          element.appendChild(docLink);\n",
              "        }\n",
              "      </script>\n",
              "    </div>\n",
              "  </div>\n",
              "  "
            ]
          },
          "metadata": {},
          "execution_count": 218
        }
      ]
    },
    {
      "cell_type": "code",
      "source": [
        "df_out_1 = df_out_1.drop(['PropertyEvaluationvalue'], axis=1)"
      ],
      "metadata": {
        "id": "D9ANMbli0XVt"
      },
      "id": "D9ANMbli0XVt",
      "execution_count": 220,
      "outputs": []
    },
    {
      "cell_type": "code",
      "source": [
        "df_out_1"
      ],
      "metadata": {
        "colab": {
          "base_uri": "https://localhost:8080/",
          "height": 423
        },
        "id": "TFfbRBVA3aYg",
        "outputId": "2e52cb36-f21c-48d2-88cc-f17c9c1784e7"
      },
      "id": "TFfbRBVA3aYg",
      "execution_count": 226,
      "outputs": [
        {
          "output_type": "execute_result",
          "data": {
            "text/plain": [
              "     PropertyID\n",
              "0       PR51101\n",
              "1       PR51102\n",
              "2       PR51103\n",
              "3       PR51104\n",
              "4       PR51105\n",
              "...         ...\n",
              "2931    PR54032\n",
              "2932    PR54033\n",
              "2933    PR54034\n",
              "2934    PR54035\n",
              "2935    PR54036\n",
              "\n",
              "[2936 rows x 1 columns]"
            ],
            "text/html": [
              "\n",
              "  <div id=\"df-59d359ef-3dba-4b39-b67b-5efd462d95eb\">\n",
              "    <div class=\"colab-df-container\">\n",
              "      <div>\n",
              "<style scoped>\n",
              "    .dataframe tbody tr th:only-of-type {\n",
              "        vertical-align: middle;\n",
              "    }\n",
              "\n",
              "    .dataframe tbody tr th {\n",
              "        vertical-align: top;\n",
              "    }\n",
              "\n",
              "    .dataframe thead th {\n",
              "        text-align: right;\n",
              "    }\n",
              "</style>\n",
              "<table border=\"1\" class=\"dataframe\">\n",
              "  <thead>\n",
              "    <tr style=\"text-align: right;\">\n",
              "      <th></th>\n",
              "      <th>PropertyID</th>\n",
              "    </tr>\n",
              "  </thead>\n",
              "  <tbody>\n",
              "    <tr>\n",
              "      <th>0</th>\n",
              "      <td>PR51101</td>\n",
              "    </tr>\n",
              "    <tr>\n",
              "      <th>1</th>\n",
              "      <td>PR51102</td>\n",
              "    </tr>\n",
              "    <tr>\n",
              "      <th>2</th>\n",
              "      <td>PR51103</td>\n",
              "    </tr>\n",
              "    <tr>\n",
              "      <th>3</th>\n",
              "      <td>PR51104</td>\n",
              "    </tr>\n",
              "    <tr>\n",
              "      <th>4</th>\n",
              "      <td>PR51105</td>\n",
              "    </tr>\n",
              "    <tr>\n",
              "      <th>...</th>\n",
              "      <td>...</td>\n",
              "    </tr>\n",
              "    <tr>\n",
              "      <th>2931</th>\n",
              "      <td>PR54032</td>\n",
              "    </tr>\n",
              "    <tr>\n",
              "      <th>2932</th>\n",
              "      <td>PR54033</td>\n",
              "    </tr>\n",
              "    <tr>\n",
              "      <th>2933</th>\n",
              "      <td>PR54034</td>\n",
              "    </tr>\n",
              "    <tr>\n",
              "      <th>2934</th>\n",
              "      <td>PR54035</td>\n",
              "    </tr>\n",
              "    <tr>\n",
              "      <th>2935</th>\n",
              "      <td>PR54036</td>\n",
              "    </tr>\n",
              "  </tbody>\n",
              "</table>\n",
              "<p>2936 rows × 1 columns</p>\n",
              "</div>\n",
              "      <button class=\"colab-df-convert\" onclick=\"convertToInteractive('df-59d359ef-3dba-4b39-b67b-5efd462d95eb')\"\n",
              "              title=\"Convert this dataframe to an interactive table.\"\n",
              "              style=\"display:none;\">\n",
              "        \n",
              "  <svg xmlns=\"http://www.w3.org/2000/svg\" height=\"24px\"viewBox=\"0 0 24 24\"\n",
              "       width=\"24px\">\n",
              "    <path d=\"M0 0h24v24H0V0z\" fill=\"none\"/>\n",
              "    <path d=\"M18.56 5.44l.94 2.06.94-2.06 2.06-.94-2.06-.94-.94-2.06-.94 2.06-2.06.94zm-11 1L8.5 8.5l.94-2.06 2.06-.94-2.06-.94L8.5 2.5l-.94 2.06-2.06.94zm10 10l.94 2.06.94-2.06 2.06-.94-2.06-.94-.94-2.06-.94 2.06-2.06.94z\"/><path d=\"M17.41 7.96l-1.37-1.37c-.4-.4-.92-.59-1.43-.59-.52 0-1.04.2-1.43.59L10.3 9.45l-7.72 7.72c-.78.78-.78 2.05 0 2.83L4 21.41c.39.39.9.59 1.41.59.51 0 1.02-.2 1.41-.59l7.78-7.78 2.81-2.81c.8-.78.8-2.07 0-2.86zM5.41 20L4 18.59l7.72-7.72 1.47 1.35L5.41 20z\"/>\n",
              "  </svg>\n",
              "      </button>\n",
              "      \n",
              "  <style>\n",
              "    .colab-df-container {\n",
              "      display:flex;\n",
              "      flex-wrap:wrap;\n",
              "      gap: 12px;\n",
              "    }\n",
              "\n",
              "    .colab-df-convert {\n",
              "      background-color: #E8F0FE;\n",
              "      border: none;\n",
              "      border-radius: 50%;\n",
              "      cursor: pointer;\n",
              "      display: none;\n",
              "      fill: #1967D2;\n",
              "      height: 32px;\n",
              "      padding: 0 0 0 0;\n",
              "      width: 32px;\n",
              "    }\n",
              "\n",
              "    .colab-df-convert:hover {\n",
              "      background-color: #E2EBFA;\n",
              "      box-shadow: 0px 1px 2px rgba(60, 64, 67, 0.3), 0px 1px 3px 1px rgba(60, 64, 67, 0.15);\n",
              "      fill: #174EA6;\n",
              "    }\n",
              "\n",
              "    [theme=dark] .colab-df-convert {\n",
              "      background-color: #3B4455;\n",
              "      fill: #D2E3FC;\n",
              "    }\n",
              "\n",
              "    [theme=dark] .colab-df-convert:hover {\n",
              "      background-color: #434B5C;\n",
              "      box-shadow: 0px 1px 3px 1px rgba(0, 0, 0, 0.15);\n",
              "      filter: drop-shadow(0px 1px 2px rgba(0, 0, 0, 0.3));\n",
              "      fill: #FFFFFF;\n",
              "    }\n",
              "  </style>\n",
              "\n",
              "      <script>\n",
              "        const buttonEl =\n",
              "          document.querySelector('#df-59d359ef-3dba-4b39-b67b-5efd462d95eb button.colab-df-convert');\n",
              "        buttonEl.style.display =\n",
              "          google.colab.kernel.accessAllowed ? 'block' : 'none';\n",
              "\n",
              "        async function convertToInteractive(key) {\n",
              "          const element = document.querySelector('#df-59d359ef-3dba-4b39-b67b-5efd462d95eb');\n",
              "          const dataTable =\n",
              "            await google.colab.kernel.invokeFunction('convertToInteractive',\n",
              "                                                     [key], {});\n",
              "          if (!dataTable) return;\n",
              "\n",
              "          const docLinkHtml = 'Like what you see? Visit the ' +\n",
              "            '<a target=\"_blank\" href=https://colab.research.google.com/notebooks/data_table.ipynb>data table notebook</a>'\n",
              "            + ' to learn more about interactive tables.';\n",
              "          element.innerHTML = '';\n",
              "          dataTable['output_type'] = 'display_data';\n",
              "          await google.colab.output.renderOutput(dataTable, element);\n",
              "          const docLink = document.createElement('div');\n",
              "          docLink.innerHTML = docLinkHtml;\n",
              "          element.appendChild(docLink);\n",
              "        }\n",
              "      </script>\n",
              "    </div>\n",
              "  </div>\n",
              "  "
            ]
          },
          "metadata": {},
          "execution_count": 226
        }
      ]
    },
    {
      "cell_type": "code",
      "source": [
        "df_out"
      ],
      "metadata": {
        "colab": {
          "base_uri": "https://localhost:8080/",
          "height": 423
        },
        "id": "ooOXkPf-3et3",
        "outputId": "c8e43e42-6d87-47e2-e32b-81e2c05eff98"
      },
      "id": "ooOXkPf-3et3",
      "execution_count": 224,
      "outputs": [
        {
          "output_type": "execute_result",
          "data": {
            "text/plain": [
              "      PropertyEvaluationvalue\n",
              "0                    571643.2\n",
              "1                    400780.0\n",
              "2                    625500.0\n",
              "3                    638000.0\n",
              "4                    655223.0\n",
              "...                       ...\n",
              "2931                 894102.4\n",
              "2932                1475000.0\n",
              "2933                1475000.0\n",
              "2934                1475000.0\n",
              "2935                1475000.0\n",
              "\n",
              "[2936 rows x 1 columns]"
            ],
            "text/html": [
              "\n",
              "  <div id=\"df-cede16b4-0390-40ae-a686-32ade1049b3a\">\n",
              "    <div class=\"colab-df-container\">\n",
              "      <div>\n",
              "<style scoped>\n",
              "    .dataframe tbody tr th:only-of-type {\n",
              "        vertical-align: middle;\n",
              "    }\n",
              "\n",
              "    .dataframe tbody tr th {\n",
              "        vertical-align: top;\n",
              "    }\n",
              "\n",
              "    .dataframe thead th {\n",
              "        text-align: right;\n",
              "    }\n",
              "</style>\n",
              "<table border=\"1\" class=\"dataframe\">\n",
              "  <thead>\n",
              "    <tr style=\"text-align: right;\">\n",
              "      <th></th>\n",
              "      <th>PropertyEvaluationvalue</th>\n",
              "    </tr>\n",
              "  </thead>\n",
              "  <tbody>\n",
              "    <tr>\n",
              "      <th>0</th>\n",
              "      <td>571643.2</td>\n",
              "    </tr>\n",
              "    <tr>\n",
              "      <th>1</th>\n",
              "      <td>400780.0</td>\n",
              "    </tr>\n",
              "    <tr>\n",
              "      <th>2</th>\n",
              "      <td>625500.0</td>\n",
              "    </tr>\n",
              "    <tr>\n",
              "      <th>3</th>\n",
              "      <td>638000.0</td>\n",
              "    </tr>\n",
              "    <tr>\n",
              "      <th>4</th>\n",
              "      <td>655223.0</td>\n",
              "    </tr>\n",
              "    <tr>\n",
              "      <th>...</th>\n",
              "      <td>...</td>\n",
              "    </tr>\n",
              "    <tr>\n",
              "      <th>2931</th>\n",
              "      <td>894102.4</td>\n",
              "    </tr>\n",
              "    <tr>\n",
              "      <th>2932</th>\n",
              "      <td>1475000.0</td>\n",
              "    </tr>\n",
              "    <tr>\n",
              "      <th>2933</th>\n",
              "      <td>1475000.0</td>\n",
              "    </tr>\n",
              "    <tr>\n",
              "      <th>2934</th>\n",
              "      <td>1475000.0</td>\n",
              "    </tr>\n",
              "    <tr>\n",
              "      <th>2935</th>\n",
              "      <td>1475000.0</td>\n",
              "    </tr>\n",
              "  </tbody>\n",
              "</table>\n",
              "<p>2936 rows × 1 columns</p>\n",
              "</div>\n",
              "      <button class=\"colab-df-convert\" onclick=\"convertToInteractive('df-cede16b4-0390-40ae-a686-32ade1049b3a')\"\n",
              "              title=\"Convert this dataframe to an interactive table.\"\n",
              "              style=\"display:none;\">\n",
              "        \n",
              "  <svg xmlns=\"http://www.w3.org/2000/svg\" height=\"24px\"viewBox=\"0 0 24 24\"\n",
              "       width=\"24px\">\n",
              "    <path d=\"M0 0h24v24H0V0z\" fill=\"none\"/>\n",
              "    <path d=\"M18.56 5.44l.94 2.06.94-2.06 2.06-.94-2.06-.94-.94-2.06-.94 2.06-2.06.94zm-11 1L8.5 8.5l.94-2.06 2.06-.94-2.06-.94L8.5 2.5l-.94 2.06-2.06.94zm10 10l.94 2.06.94-2.06 2.06-.94-2.06-.94-.94-2.06-.94 2.06-2.06.94z\"/><path d=\"M17.41 7.96l-1.37-1.37c-.4-.4-.92-.59-1.43-.59-.52 0-1.04.2-1.43.59L10.3 9.45l-7.72 7.72c-.78.78-.78 2.05 0 2.83L4 21.41c.39.39.9.59 1.41.59.51 0 1.02-.2 1.41-.59l7.78-7.78 2.81-2.81c.8-.78.8-2.07 0-2.86zM5.41 20L4 18.59l7.72-7.72 1.47 1.35L5.41 20z\"/>\n",
              "  </svg>\n",
              "      </button>\n",
              "      \n",
              "  <style>\n",
              "    .colab-df-container {\n",
              "      display:flex;\n",
              "      flex-wrap:wrap;\n",
              "      gap: 12px;\n",
              "    }\n",
              "\n",
              "    .colab-df-convert {\n",
              "      background-color: #E8F0FE;\n",
              "      border: none;\n",
              "      border-radius: 50%;\n",
              "      cursor: pointer;\n",
              "      display: none;\n",
              "      fill: #1967D2;\n",
              "      height: 32px;\n",
              "      padding: 0 0 0 0;\n",
              "      width: 32px;\n",
              "    }\n",
              "\n",
              "    .colab-df-convert:hover {\n",
              "      background-color: #E2EBFA;\n",
              "      box-shadow: 0px 1px 2px rgba(60, 64, 67, 0.3), 0px 1px 3px 1px rgba(60, 64, 67, 0.15);\n",
              "      fill: #174EA6;\n",
              "    }\n",
              "\n",
              "    [theme=dark] .colab-df-convert {\n",
              "      background-color: #3B4455;\n",
              "      fill: #D2E3FC;\n",
              "    }\n",
              "\n",
              "    [theme=dark] .colab-df-convert:hover {\n",
              "      background-color: #434B5C;\n",
              "      box-shadow: 0px 1px 3px 1px rgba(0, 0, 0, 0.15);\n",
              "      filter: drop-shadow(0px 1px 2px rgba(0, 0, 0, 0.3));\n",
              "      fill: #FFFFFF;\n",
              "    }\n",
              "  </style>\n",
              "\n",
              "      <script>\n",
              "        const buttonEl =\n",
              "          document.querySelector('#df-cede16b4-0390-40ae-a686-32ade1049b3a button.colab-df-convert');\n",
              "        buttonEl.style.display =\n",
              "          google.colab.kernel.accessAllowed ? 'block' : 'none';\n",
              "\n",
              "        async function convertToInteractive(key) {\n",
              "          const element = document.querySelector('#df-cede16b4-0390-40ae-a686-32ade1049b3a');\n",
              "          const dataTable =\n",
              "            await google.colab.kernel.invokeFunction('convertToInteractive',\n",
              "                                                     [key], {});\n",
              "          if (!dataTable) return;\n",
              "\n",
              "          const docLinkHtml = 'Like what you see? Visit the ' +\n",
              "            '<a target=\"_blank\" href=https://colab.research.google.com/notebooks/data_table.ipynb>data table notebook</a>'\n",
              "            + ' to learn more about interactive tables.';\n",
              "          element.innerHTML = '';\n",
              "          dataTable['output_type'] = 'display_data';\n",
              "          await google.colab.output.renderOutput(dataTable, element);\n",
              "          const docLink = document.createElement('div');\n",
              "          docLink.innerHTML = docLinkHtml;\n",
              "          element.appendChild(docLink);\n",
              "        }\n",
              "      </script>\n",
              "    </div>\n",
              "  </div>\n",
              "  "
            ]
          },
          "metadata": {},
          "execution_count": 224
        }
      ]
    },
    {
      "cell_type": "code",
      "source": [
        "df_result = df_out_1.join(df_out)"
      ],
      "metadata": {
        "id": "pyRMeueS3lmF"
      },
      "id": "pyRMeueS3lmF",
      "execution_count": 227,
      "outputs": []
    },
    {
      "cell_type": "code",
      "source": [
        "df_result.head()"
      ],
      "metadata": {
        "colab": {
          "base_uri": "https://localhost:8080/",
          "height": 206
        },
        "id": "dEse7Cwb4fHq",
        "outputId": "fb9746e7-c39d-471d-8488-3a767da7f61f"
      },
      "id": "dEse7Cwb4fHq",
      "execution_count": 228,
      "outputs": [
        {
          "output_type": "execute_result",
          "data": {
            "text/plain": [
              "  PropertyID  PropertyEvaluationvalue\n",
              "0    PR51101                 571643.2\n",
              "1    PR51102                 400780.0\n",
              "2    PR51103                 625500.0\n",
              "3    PR51104                 638000.0\n",
              "4    PR51105                 655223.0"
            ],
            "text/html": [
              "\n",
              "  <div id=\"df-7a57ffd4-8240-45eb-87e0-499fa51ec572\">\n",
              "    <div class=\"colab-df-container\">\n",
              "      <div>\n",
              "<style scoped>\n",
              "    .dataframe tbody tr th:only-of-type {\n",
              "        vertical-align: middle;\n",
              "    }\n",
              "\n",
              "    .dataframe tbody tr th {\n",
              "        vertical-align: top;\n",
              "    }\n",
              "\n",
              "    .dataframe thead th {\n",
              "        text-align: right;\n",
              "    }\n",
              "</style>\n",
              "<table border=\"1\" class=\"dataframe\">\n",
              "  <thead>\n",
              "    <tr style=\"text-align: right;\">\n",
              "      <th></th>\n",
              "      <th>PropertyID</th>\n",
              "      <th>PropertyEvaluationvalue</th>\n",
              "    </tr>\n",
              "  </thead>\n",
              "  <tbody>\n",
              "    <tr>\n",
              "      <th>0</th>\n",
              "      <td>PR51101</td>\n",
              "      <td>571643.2</td>\n",
              "    </tr>\n",
              "    <tr>\n",
              "      <th>1</th>\n",
              "      <td>PR51102</td>\n",
              "      <td>400780.0</td>\n",
              "    </tr>\n",
              "    <tr>\n",
              "      <th>2</th>\n",
              "      <td>PR51103</td>\n",
              "      <td>625500.0</td>\n",
              "    </tr>\n",
              "    <tr>\n",
              "      <th>3</th>\n",
              "      <td>PR51104</td>\n",
              "      <td>638000.0</td>\n",
              "    </tr>\n",
              "    <tr>\n",
              "      <th>4</th>\n",
              "      <td>PR51105</td>\n",
              "      <td>655223.0</td>\n",
              "    </tr>\n",
              "  </tbody>\n",
              "</table>\n",
              "</div>\n",
              "      <button class=\"colab-df-convert\" onclick=\"convertToInteractive('df-7a57ffd4-8240-45eb-87e0-499fa51ec572')\"\n",
              "              title=\"Convert this dataframe to an interactive table.\"\n",
              "              style=\"display:none;\">\n",
              "        \n",
              "  <svg xmlns=\"http://www.w3.org/2000/svg\" height=\"24px\"viewBox=\"0 0 24 24\"\n",
              "       width=\"24px\">\n",
              "    <path d=\"M0 0h24v24H0V0z\" fill=\"none\"/>\n",
              "    <path d=\"M18.56 5.44l.94 2.06.94-2.06 2.06-.94-2.06-.94-.94-2.06-.94 2.06-2.06.94zm-11 1L8.5 8.5l.94-2.06 2.06-.94-2.06-.94L8.5 2.5l-.94 2.06-2.06.94zm10 10l.94 2.06.94-2.06 2.06-.94-2.06-.94-.94-2.06-.94 2.06-2.06.94z\"/><path d=\"M17.41 7.96l-1.37-1.37c-.4-.4-.92-.59-1.43-.59-.52 0-1.04.2-1.43.59L10.3 9.45l-7.72 7.72c-.78.78-.78 2.05 0 2.83L4 21.41c.39.39.9.59 1.41.59.51 0 1.02-.2 1.41-.59l7.78-7.78 2.81-2.81c.8-.78.8-2.07 0-2.86zM5.41 20L4 18.59l7.72-7.72 1.47 1.35L5.41 20z\"/>\n",
              "  </svg>\n",
              "      </button>\n",
              "      \n",
              "  <style>\n",
              "    .colab-df-container {\n",
              "      display:flex;\n",
              "      flex-wrap:wrap;\n",
              "      gap: 12px;\n",
              "    }\n",
              "\n",
              "    .colab-df-convert {\n",
              "      background-color: #E8F0FE;\n",
              "      border: none;\n",
              "      border-radius: 50%;\n",
              "      cursor: pointer;\n",
              "      display: none;\n",
              "      fill: #1967D2;\n",
              "      height: 32px;\n",
              "      padding: 0 0 0 0;\n",
              "      width: 32px;\n",
              "    }\n",
              "\n",
              "    .colab-df-convert:hover {\n",
              "      background-color: #E2EBFA;\n",
              "      box-shadow: 0px 1px 2px rgba(60, 64, 67, 0.3), 0px 1px 3px 1px rgba(60, 64, 67, 0.15);\n",
              "      fill: #174EA6;\n",
              "    }\n",
              "\n",
              "    [theme=dark] .colab-df-convert {\n",
              "      background-color: #3B4455;\n",
              "      fill: #D2E3FC;\n",
              "    }\n",
              "\n",
              "    [theme=dark] .colab-df-convert:hover {\n",
              "      background-color: #434B5C;\n",
              "      box-shadow: 0px 1px 3px 1px rgba(0, 0, 0, 0.15);\n",
              "      filter: drop-shadow(0px 1px 2px rgba(0, 0, 0, 0.3));\n",
              "      fill: #FFFFFF;\n",
              "    }\n",
              "  </style>\n",
              "\n",
              "      <script>\n",
              "        const buttonEl =\n",
              "          document.querySelector('#df-7a57ffd4-8240-45eb-87e0-499fa51ec572 button.colab-df-convert');\n",
              "        buttonEl.style.display =\n",
              "          google.colab.kernel.accessAllowed ? 'block' : 'none';\n",
              "\n",
              "        async function convertToInteractive(key) {\n",
              "          const element = document.querySelector('#df-7a57ffd4-8240-45eb-87e0-499fa51ec572');\n",
              "          const dataTable =\n",
              "            await google.colab.kernel.invokeFunction('convertToInteractive',\n",
              "                                                     [key], {});\n",
              "          if (!dataTable) return;\n",
              "\n",
              "          const docLinkHtml = 'Like what you see? Visit the ' +\n",
              "            '<a target=\"_blank\" href=https://colab.research.google.com/notebooks/data_table.ipynb>data table notebook</a>'\n",
              "            + ' to learn more about interactive tables.';\n",
              "          element.innerHTML = '';\n",
              "          dataTable['output_type'] = 'display_data';\n",
              "          await google.colab.output.renderOutput(dataTable, element);\n",
              "          const docLink = document.createElement('div');\n",
              "          docLink.innerHTML = docLinkHtml;\n",
              "          element.appendChild(docLink);\n",
              "        }\n",
              "      </script>\n",
              "    </div>\n",
              "  </div>\n",
              "  "
            ]
          },
          "metadata": {},
          "execution_count": 228
        }
      ]
    },
    {
      "cell_type": "code",
      "source": [
        "df_result.to_csv('output.csv')"
      ],
      "metadata": {
        "id": "Ew_cJYeS4D5p"
      },
      "id": "Ew_cJYeS4D5p",
      "execution_count": 229,
      "outputs": []
    }
  ],
  "metadata": {
    "accelerator": "GPU",
    "colab": {
      "collapsed_sections": [],
      "provenance": []
    },
    "kernelspec": {
      "display_name": "Python 3 (ipykernel)",
      "language": "python",
      "name": "python3"
    },
    "language_info": {
      "codemirror_mode": {
        "name": "ipython",
        "version": 3
      },
      "file_extension": ".py",
      "mimetype": "text/x-python",
      "name": "python",
      "nbconvert_exporter": "python",
      "pygments_lexer": "ipython3",
      "version": "3.9.7"
    }
  },
  "nbformat": 4,
  "nbformat_minor": 5
}